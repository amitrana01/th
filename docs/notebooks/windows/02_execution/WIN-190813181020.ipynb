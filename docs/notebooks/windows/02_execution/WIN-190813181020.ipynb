{
 "cells": [
  {
   "cell_type": "markdown",
   "id": "32a24084",
   "metadata": {},
   "source": [
    "# Service Creation"
   ]
  },
  {
   "cell_type": "markdown",
   "id": "ee429e7b",
   "metadata": {},
   "source": [
    "## Metadata"
   ]
  },
  {
   "cell_type": "markdown",
   "id": "129eb65d",
   "metadata": {},
   "source": [
    "\n",
    "|     Metadata      |  Value  |\n",
    "|:------------------|:---|\n",
    "| collaborators     | ['@Cyb3rWard0g', '@Cyb3rPandaH'] |\n",
    "| creation date     | 2019/08/13 |\n",
    "| modification date | 2020/09/20 |\n",
    "| playbook related  | [] |"
   ]
  },
  {
   "cell_type": "markdown",
   "id": "e7127ac1",
   "metadata": {},
   "source": [
    "## Hypothesis\n",
    "Adversaries might be creating new services to execute code on a compromised endpoint in my environment"
   ]
  },
  {
   "cell_type": "markdown",
   "id": "c8471313",
   "metadata": {},
   "source": [
    "## Technical Context\n",
    "None"
   ]
  },
  {
   "cell_type": "markdown",
   "id": "376904dd",
   "metadata": {},
   "source": [
    "## Offensive Tradecraft\n",
    "Adversaries may execute a binary, command, or script via a method that interacts with Windows services, such as the Service Control Manager.\n",
    "This can be done by by adversaries creating a new service."
   ]
  },
  {
   "cell_type": "markdown",
   "id": "4f5389cb",
   "metadata": {},
   "source": [
    "## Security Datasets"
   ]
  },
  {
   "cell_type": "markdown",
   "id": "847271eb",
   "metadata": {},
   "source": [
    "\n",
    "| Metadata  |    Value  |\n",
    "|:----------|:----------|\n",
    "| docs      | https://securitydatasets.com/notebooks/atomic/windows/lateral_movement/SDWIN-190518210652.html        |\n",
    "| link      | [https://raw.githubusercontent.com/OTRF/Security-Datasets/master/datasets/atomic/windows/lateral_movement/host/empire_psexec_dcerpc_tcp_svcctl.zip](https://raw.githubusercontent.com/OTRF/Security-Datasets/master/datasets/atomic/windows/lateral_movement/host/empire_psexec_dcerpc_tcp_svcctl.zip)  |"
   ]
  },
  {
   "cell_type": "markdown",
   "id": "63ee0786",
   "metadata": {},
   "source": [
    "## Analytics"
   ]
  },
  {
   "cell_type": "markdown",
   "id": "ecae4497",
   "metadata": {},
   "source": [
    "### Initialize Analytics Engine"
   ]
  },
  {
   "cell_type": "code",
   "execution_count": null,
   "id": "38195f81",
   "metadata": {},
   "outputs": [],
   "source": [
    "from openhunt.mordorutils import *\n",
    "spark = get_spark()"
   ]
  },
  {
   "cell_type": "markdown",
   "id": "3ccc5eef",
   "metadata": {},
   "source": [
    "### Download & Process Security Dataset"
   ]
  },
  {
   "cell_type": "code",
   "execution_count": null,
   "id": "5c89c70d",
   "metadata": {},
   "outputs": [],
   "source": [
    "sd_file = \"https://raw.githubusercontent.com/OTRF/Security-Datasets/master/datasets/atomic/windows/lateral_movement/host/empire_psexec_dcerpc_tcp_svcctl.zip\"\n",
    "registerMordorSQLTable(spark, sd_file, \"sdTable\")"
   ]
  },
  {
   "cell_type": "markdown",
   "id": "067623e0",
   "metadata": {},
   "source": [
    "### Analytic I\n",
    "Look for new services being created in your environment and stack the values of it"
   ]
  },
  {
   "cell_type": "markdown",
   "id": "71ed32a1",
   "metadata": {},
   "source": [
    "\n",
    "| Data source | Event Provider | Relationship | Event |\n",
    "|:------------|:---------------|--------------|-------|\n",
    "| Service | Microsoft-Windows-Security-Auditing | User created Service | 4697 |"
   ]
  },
  {
   "cell_type": "code",
   "execution_count": null,
   "id": "6ea37c1c",
   "metadata": {},
   "outputs": [],
   "source": [
    "df = spark.sql(\n",
    "'''\n",
    "SELECT `@timestamp`, Hostname, SubjectUserName ServiceName, ServiceType, ServiceStartType, ServiceAccount\n",
    "FROM sdTable\n",
    "WHERE LOWER(Channel) = \"security\" AND EventID = 4697\n",
    "'''\n",
    ")\n",
    "df.show(10,False)"
   ]
  },
  {
   "cell_type": "markdown",
   "id": "61c74d88",
   "metadata": {},
   "source": [
    "## Known Bypasses"
   ]
  },
  {
   "cell_type": "markdown",
   "id": "1326bb7f",
   "metadata": {},
   "source": [
    "## False Positives\n",
    "None"
   ]
  },
  {
   "cell_type": "markdown",
   "id": "2d83d18b",
   "metadata": {},
   "source": [
    "## Hunter Notes\n",
    "* If there are a lot of unique services being created in your environment, try to categorize the data based on the bussiness unit.\n",
    "* Identify the source of unique services being created everyday. I have seen Microsoft applications doing this.\n",
    "* Stack the values of the service file name associated with the new service.\n",
    "* Document what users create new services across your environment on a daily basis"
   ]
  },
  {
   "cell_type": "markdown",
   "id": "b7c1f7b7",
   "metadata": {},
   "source": [
    "## References\n",
    "* https://www.powershellempire.com/?page_id=523"
   ]
  }
 ],
 "metadata": {
  "kernelspec": {
   "display_name": "PySpark_Python3",
   "language": "python",
   "name": "pyspark3"
  },
  "language_info": {
   "codemirror_mode": {
    "name": "ipython",
    "version": 3
   },
   "file_extension": ".py",
   "mimetype": "text/x-python",
   "name": "python",
   "nbconvert_exporter": "python",
   "pygments_lexer": "ipython3",
   "version": "3.7.3"
  }
 },
 "nbformat": 4,
 "nbformat_minor": 5
}
