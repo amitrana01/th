{
 "cells": [
  {
   "cell_type": "markdown",
   "id": "76098754",
   "metadata": {},
   "source": [
    "# Alternate PowerShell Hosts"
   ]
  },
  {
   "cell_type": "markdown",
   "id": "22859adc",
   "metadata": {},
   "source": [
    "## Metadata"
   ]
  },
  {
   "cell_type": "markdown",
   "id": "3fe71468",
   "metadata": {},
   "source": [
    "\n",
    "|     Metadata      |  Value  |\n",
    "|:------------------|:---|\n",
    "| collaborators     | ['@Cyb3rWard0g', '@Cyb3rPandaH'] |\n",
    "| creation date     | 2019/08/15 |\n",
    "| modification date | 2020/09/20 |\n",
    "| playbook related  | ['WIN-190410151110'] |"
   ]
  },
  {
   "cell_type": "markdown",
   "id": "17553173",
   "metadata": {},
   "source": [
    "## Hypothesis\n",
    "Adversaries might be leveraging alternate PowerShell Hosts to execute PowerShell evading traditional PowerShell detections that look for powershell.exe in my environment."
   ]
  },
  {
   "cell_type": "markdown",
   "id": "5217c139",
   "metadata": {},
   "source": [
    "## Technical Context\n",
    "None"
   ]
  },
  {
   "cell_type": "markdown",
   "id": "993aa8eb",
   "metadata": {},
   "source": [
    "## Offensive Tradecraft\n",
    "Adversaries can abuse alternate signed PowerShell Hosts to evade application whitelisting solutions that block powershell.exe and naive logging based upon traditional PowerShell hosts.\n",
    "Characteristics of a PowerShell host (Matt Graeber @mattifestation) >\n",
    "* These binaries are almost always C#/.NET .exes/.dlls\n",
    "* These binaries have System.Management.Automation.dll as a referenced assembly\n",
    "* These may not always be \"built in\" binaries"
   ]
  },
  {
   "cell_type": "markdown",
   "id": "64a5d44a",
   "metadata": {},
   "source": [
    "## Security Datasets"
   ]
  },
  {
   "cell_type": "markdown",
   "id": "c22ba635",
   "metadata": {},
   "source": [
    "\n",
    "| Metadata  |    Value  |\n",
    "|:----------|:----------|\n",
    "| docs      | https://securitydatasets.com/notebooks/atomic/windows/execution/SDWIN-190518211456.html        |\n",
    "| link      | [https://raw.githubusercontent.com/OTRF/Security-Datasets/master/datasets/atomic/windows/lateral_movement/host/empire_psremoting_stager.zip](https://raw.githubusercontent.com/OTRF/Security-Datasets/master/datasets/atomic/windows/lateral_movement/host/empire_psremoting_stager.zip)  |"
   ]
  },
  {
   "cell_type": "markdown",
   "id": "9f15e383",
   "metadata": {},
   "source": [
    "## Analytics"
   ]
  },
  {
   "cell_type": "markdown",
   "id": "a62fbdad",
   "metadata": {},
   "source": [
    "### Initialize Analytics Engine"
   ]
  },
  {
   "cell_type": "code",
   "execution_count": null,
   "id": "c295c3d3",
   "metadata": {},
   "outputs": [],
   "source": [
    "from openhunt.mordorutils import *\n",
    "spark = get_spark()"
   ]
  },
  {
   "cell_type": "markdown",
   "id": "78e4da7f",
   "metadata": {},
   "source": [
    "### Download & Process Security Dataset"
   ]
  },
  {
   "cell_type": "code",
   "execution_count": null,
   "id": "4cd7efe2",
   "metadata": {},
   "outputs": [],
   "source": [
    "sd_file = \"https://raw.githubusercontent.com/OTRF/Security-Datasets/master/datasets/atomic/windows/lateral_movement/host/empire_psremoting_stager.zip\"\n",
    "registerMordorSQLTable(spark, sd_file, \"sdTable\")"
   ]
  },
  {
   "cell_type": "markdown",
   "id": "f0a0acac",
   "metadata": {},
   "source": [
    "### Analytic I\n",
    "Within the classic PowerShell log, event ID 400 indicates when a new PowerShell host process has started. Excluding PowerShell.exe is a good way to find alternate PowerShell hosts"
   ]
  },
  {
   "cell_type": "markdown",
   "id": "270d639b",
   "metadata": {},
   "source": [
    "\n",
    "| Data source | Event Provider | Relationship | Event |\n",
    "|:------------|:---------------|--------------|-------|\n",
    "| Powershell | Windows PowerShell | Application host started | 400 |\n",
    "| Powershell | Microsoft-Windows-PowerShell/Operational | User started Application host | 4103 |"
   ]
  },
  {
   "cell_type": "code",
   "execution_count": null,
   "id": "ab3c6903",
   "metadata": {},
   "outputs": [],
   "source": [
    "df = spark.sql(\n",
    "'''\n",
    "SELECT `@timestamp`, Hostname, Channel\n",
    "FROM sdTable\n",
    "WHERE (Channel = \"Microsoft-Windows-PowerShell/Operational\" OR Channel = \"Windows PowerShell\")\n",
    "    AND (EventID = 400 OR EventID = 4103)\n",
    "    AND NOT Message LIKE \"%Host Application%powershell%\"\n",
    "'''\n",
    ")\n",
    "df.show(10,False)"
   ]
  },
  {
   "cell_type": "markdown",
   "id": "a3287e69",
   "metadata": {},
   "source": [
    "### Analytic II\n",
    "Looking for processes loading a specific PowerShell DLL is a very effective way to document the use of PowerShell in your environment"
   ]
  },
  {
   "cell_type": "markdown",
   "id": "9af78bfa",
   "metadata": {},
   "source": [
    "\n",
    "| Data source | Event Provider | Relationship | Event |\n",
    "|:------------|:---------------|--------------|-------|\n",
    "| Module | Microsoft-Windows-Sysmon/Operational | Process loaded Dll | 7 |"
   ]
  },
  {
   "cell_type": "code",
   "execution_count": null,
   "id": "5b17a9c7",
   "metadata": {},
   "outputs": [],
   "source": [
    "df = spark.sql(\n",
    "'''\n",
    "SELECT `@timestamp`, Hostname, Image, Description\n",
    "FROM sdTable\n",
    "WHERE Channel = \"Microsoft-Windows-Sysmon/Operational\"\n",
    "    AND EventID = 7\n",
    "    AND (lower(Description) = \"system.management.automation\" OR lower(ImageLoaded) LIKE \"%system.management.automation%\")\n",
    "    AND NOT Image LIKE \"%powershell.exe\"\n",
    "'''\n",
    ")\n",
    "df.show(10,False)"
   ]
  },
  {
   "cell_type": "markdown",
   "id": "07d1db4b",
   "metadata": {},
   "source": [
    "### Analytic III\n",
    "Monitoring for PSHost* pipes is another interesting way to find other alternate PowerShell hosts in your environment."
   ]
  },
  {
   "cell_type": "markdown",
   "id": "480cbae4",
   "metadata": {},
   "source": [
    "\n",
    "| Data source | Event Provider | Relationship | Event |\n",
    "|:------------|:---------------|--------------|-------|\n",
    "| Named pipe | Microsoft-Windows-Sysmon/Operational | Process created Pipe | 17 |"
   ]
  },
  {
   "cell_type": "code",
   "execution_count": null,
   "id": "aad9c867",
   "metadata": {},
   "outputs": [],
   "source": [
    "df = spark.sql(\n",
    "'''\n",
    "SELECT `@timestamp`, Hostname, Image, PipeName\n",
    "FROM sdTable\n",
    "WHERE Channel = \"Microsoft-Windows-Sysmon/Operational\"\n",
    "    AND EventID = 17\n",
    "    AND lower(PipeName) LIKE \"\\\\\\pshost%\"\n",
    "    AND NOT Image LIKE \"%powershell.exe\"\n",
    "'''\n",
    ")\n",
    "df.show(10,False)"
   ]
  },
  {
   "cell_type": "markdown",
   "id": "79282238",
   "metadata": {},
   "source": [
    "## Known Bypasses"
   ]
  },
  {
   "cell_type": "markdown",
   "id": "ed45d625",
   "metadata": {},
   "source": [
    "## False Positives\n",
    "None"
   ]
  },
  {
   "cell_type": "markdown",
   "id": "8b01b3d6",
   "metadata": {},
   "source": [
    "## Hunter Notes\n",
    "* Explore the data produced in your lab environment with the analytics above and document what normal looks like from alternate powershell hosts. Then, take your findings and explore your production environment.\n",
    "* You can also run the script below named PowerShellHostFinder.ps1 by Matt Graber and audit PS host binaries in your environment."
   ]
  },
  {
   "cell_type": "markdown",
   "id": "48dca908",
   "metadata": {},
   "source": [
    "## Hunt Output\n",
    "\n",
    "| Type | Link |\n",
    "| :----| :----|\n",
    "| Sigma Rule | [https://github.com/SigmaHQ/sigma/blob/master/rules/windows/powershell/powershell_module/posh_pm_alternate_powershell_hosts.yml](https://github.com/SigmaHQ/sigma/blob/master/rules/windows/powershell/powershell_module/posh_pm_alternate_powershell_hosts.yml) |\n",
    "| Sigma Rule | [https://github.com/SigmaHQ/sigma/blob/master/rules/windows/powershell/powershell_classic/posh_pc_alternate_powershell_hosts.yml](https://github.com/SigmaHQ/sigma/blob/master/rules/windows/powershell/powershell_classic/posh_pc_alternate_powershell_hosts.yml) |\n",
    "| Sigma Rule | [https://github.com/SigmaHQ/sigma/blob/master/rules/windows/image_load/sysmon_alternate_powershell_hosts_moduleload.yml](https://github.com/SigmaHQ/sigma/blob/master/rules/windows/image_load/sysmon_alternate_powershell_hosts_moduleload.yml) |\n",
    "| Sigma Rule | [https://github.com/SigmaHQ/sigma/blob/master/rules/windows/pipe_created/sysmon_alternate_powershell_hosts_pipe.yml](https://github.com/SigmaHQ/sigma/blob/master/rules/windows/pipe_created/sysmon_alternate_powershell_hosts_pipe.yml) |"
   ]
  },
  {
   "cell_type": "markdown",
   "id": "a00a400a",
   "metadata": {},
   "source": [
    "## References\n",
    "* https://twitter.com/mattifestation/status/971840487882506240\n",
    "* https://gist.githubusercontent.com/mattifestation/fcae777470f1bdeb9e4b32f93c245fd3/raw/abbe79c660829ab9aad58581baf681655f6ba305/PowerShellHostFinder.ps1"
   ]
  }
 ],
 "metadata": {
  "kernelspec": {
   "display_name": "PySpark_Python3",
   "language": "python",
   "name": "pyspark3"
  },
  "language_info": {
   "codemirror_mode": {
    "name": "ipython",
    "version": 3
   },
   "file_extension": ".py",
   "mimetype": "text/x-python",
   "name": "python",
   "nbconvert_exporter": "python",
   "pygments_lexer": "ipython3",
   "version": "3.7.3"
  }
 },
 "nbformat": 4,
 "nbformat_minor": 5
}
