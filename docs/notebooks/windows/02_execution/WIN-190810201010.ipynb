{
 "cells": [
  {
   "cell_type": "markdown",
   "id": "20b243e5",
   "metadata": {},
   "source": [
    "# WMI Win32_Process Class and Create Method for Remote Execution"
   ]
  },
  {
   "cell_type": "markdown",
   "id": "e322b91d",
   "metadata": {},
   "source": [
    "## Metadata"
   ]
  },
  {
   "cell_type": "markdown",
   "id": "9180cb93",
   "metadata": {},
   "source": [
    "\n",
    "|     Metadata      |  Value  |\n",
    "|:------------------|:---|\n",
    "| collaborators     | ['@Cyb3rWard0g', '@Cyb3rPandaH'] |\n",
    "| creation date     | 2019/08/10 |\n",
    "| modification date | 2020/09/20 |\n",
    "| playbook related  | [] |"
   ]
  },
  {
   "cell_type": "markdown",
   "id": "417147e1",
   "metadata": {},
   "source": [
    "## Hypothesis\n",
    "Adversaries might be leveraging WMI Win32_Process class and method Create to execute code remotely across my environment"
   ]
  },
  {
   "cell_type": "markdown",
   "id": "262025da",
   "metadata": {},
   "source": [
    "## Technical Context\n",
    "WMI is the Microsoft implementation of the Web-Based Enterprise Management (WBEM) and Common Information Model (CIM).\n",
    "Both standards aim to provide an industry-agnostic means of collecting and transmitting information related to any managed component in an enterprise.\n",
    "An example of a managed component in WMI would be a running process, registry key, installed service, file information, etc.\n",
    "At a high level, Microsoft's implementation of these standards can be summarized as follows > Managed Components Managed components are represented as WMI objects â€” class instances representing highly structured operating system data. Microsoft provides a wealth of WMI objects that communicate information related to the operating system. E.g. Win32_Process, Win32_Service, AntiVirusProduct, Win32_StartupCommand, etc."
   ]
  },
  {
   "cell_type": "markdown",
   "id": "93ff9ec1",
   "metadata": {},
   "source": [
    "## Offensive Tradecraft\n",
    "One well known lateral movement technique is performed via the WMI object â€” class Win32_Process and its method Create.\n",
    "This is because the Create method allows a user to create a process either locally or remotely.\n",
    "One thing to notice is that when the Create method is used on a remote system, the method is run under a host process named \"Wmiprvse.exe\".\n",
    "\n",
    "The process WmiprvSE.exe is what spawns the process defined in the CommandLine parameter of the Create method. Therefore, the new process created remotely will have Wmiprvse.exe as a parent. WmiprvSE.exe is a DCOM server and it is spawned underneath the DCOM service host svchost.exe with the following parameters C:\\WINDOWS\\system32\\svchost.exe -k DcomLaunch -p.\n",
    "From a logon session perspective, on the target, WmiprvSE.exe is spawned in a different logon session by the DCOM service host. However, whatever is executed by WmiprvSE.exe occurs on the new network type (3) logon session created by the user that authenticated from the network.\n",
    "\n",
    "Additional Reading\n",
    "* https://github.com/OTRF/ThreatHunter-Playbook/tree/master/docs/library/windows/logon_session.md"
   ]
  },
  {
   "cell_type": "markdown",
   "id": "78db3e95",
   "metadata": {},
   "source": [
    "## Security Datasets"
   ]
  },
  {
   "cell_type": "markdown",
   "id": "92bf55e6",
   "metadata": {},
   "source": [
    "\n",
    "| Metadata  |    Value  |\n",
    "|:----------|:----------|\n",
    "| docs      | https://securitydatasets.com/notebooks/atomic/windows/lateral_movement/SDWIN-200921001437.html        |\n",
    "| link      | [https://raw.githubusercontent.com/OTRF/Security-Datasets/master/datasets/atomic/windows/lateral_movement/host/empire_wmi_dcerpc_wmi_IWbemServices_ExecMethod.zip](https://raw.githubusercontent.com/OTRF/Security-Datasets/master/datasets/atomic/windows/lateral_movement/host/empire_wmi_dcerpc_wmi_IWbemServices_ExecMethod.zip)  |"
   ]
  },
  {
   "cell_type": "markdown",
   "id": "c925e627",
   "metadata": {},
   "source": [
    "## Analytics"
   ]
  },
  {
   "cell_type": "markdown",
   "id": "71f601b8",
   "metadata": {},
   "source": [
    "### Initialize Analytics Engine"
   ]
  },
  {
   "cell_type": "code",
   "execution_count": null,
   "id": "476c09a6",
   "metadata": {},
   "outputs": [],
   "source": [
    "from openhunt.mordorutils import *\n",
    "spark = get_spark()"
   ]
  },
  {
   "cell_type": "markdown",
   "id": "6658c0b2",
   "metadata": {},
   "source": [
    "### Download & Process Security Dataset"
   ]
  },
  {
   "cell_type": "code",
   "execution_count": null,
   "id": "305472f6",
   "metadata": {},
   "outputs": [],
   "source": [
    "sd_file = \"https://raw.githubusercontent.com/OTRF/Security-Datasets/master/datasets/atomic/windows/lateral_movement/host/empire_wmi_dcerpc_wmi_IWbemServices_ExecMethod.zip\"\n",
    "registerMordorSQLTable(spark, sd_file, \"sdTable\")"
   ]
  },
  {
   "cell_type": "markdown",
   "id": "f0c3a672",
   "metadata": {},
   "source": [
    "### Analytic I\n",
    "Look for wmiprvse.exe spawning processes that are part of non-system account sessions."
   ]
  },
  {
   "cell_type": "markdown",
   "id": "96277c09",
   "metadata": {},
   "source": [
    "\n",
    "| Data source | Event Provider | Relationship | Event |\n",
    "|:------------|:---------------|--------------|-------|\n",
    "| Process | Microsoft-Windows-Security-Auditing | Process created Process | 4688 |\n",
    "| Process | Microsoft-Windows-Security-Auditing | User created Process | 4688 |"
   ]
  },
  {
   "cell_type": "code",
   "execution_count": null,
   "id": "4bebbbeb",
   "metadata": {},
   "outputs": [],
   "source": [
    "df = spark.sql(\n",
    "'''\n",
    "SELECT `@timestamp`, Hostname, SubjectUserName, TargetUserName, NewProcessName, CommandLine\n",
    "FROM sdTable\n",
    "WHERE LOWER(Channel) = \"security\"\n",
    "    AND EventID = 4688\n",
    "    AND lower(ParentProcessName) LIKE \"%wmiprvse.exe\"\n",
    "    AND NOT TargetLogonId = \"0x3e7\"\n",
    "'''\n",
    ")\n",
    "df.show(10,False)"
   ]
  },
  {
   "cell_type": "markdown",
   "id": "5b2ef9d6",
   "metadata": {},
   "source": [
    "### Analytic II\n",
    "Look for wmiprvse.exe spawning processes that are part of non-system account sessions."
   ]
  },
  {
   "cell_type": "markdown",
   "id": "882ce6db",
   "metadata": {},
   "source": [
    "\n",
    "| Data source | Event Provider | Relationship | Event |\n",
    "|:------------|:---------------|--------------|-------|\n",
    "| Process | Microsoft-Windows-Sysmon/Operational | Process created Process | 1 |\n",
    "| Process | Microsoft-Windows-Sysmon/Operational | User created Process | 1 |"
   ]
  },
  {
   "cell_type": "code",
   "execution_count": null,
   "id": "ec57dce8",
   "metadata": {},
   "outputs": [],
   "source": [
    "df = spark.sql(\n",
    "'''\n",
    "SELECT `@timestamp`, Hostname, User, Image, CommandLine\n",
    "FROM sdTable\n",
    "WHERE Channel = \"Microsoft-Windows-Sysmon/Operational\"\n",
    "    AND EventID = 1\n",
    "    AND lower(ParentImage) LIKE \"%wmiprvse.exe\"\n",
    "    AND NOT LogonId = \"0x3e7\"\n",
    "'''\n",
    ")\n",
    "df.show(10,False)"
   ]
  },
  {
   "cell_type": "markdown",
   "id": "08488bcd",
   "metadata": {},
   "source": [
    "### Analytic III\n",
    "Look for non-system accounts leveraging WMI over the netwotk to execute code"
   ]
  },
  {
   "cell_type": "markdown",
   "id": "1a555377",
   "metadata": {},
   "source": [
    "\n",
    "| Data source | Event Provider | Relationship | Event |\n",
    "|:------------|:---------------|--------------|-------|\n",
    "| Process | Microsoft-Windows-Security-Auditing | Process created Process | 4688 |\n",
    "| Process | Microsoft-Windows-Security-Auditing | User created Process | 4688 |\n",
    "| Authentication log | Microsoft-Windows-Security-Auditing | User authenticated Host | 4624 |"
   ]
  },
  {
   "cell_type": "code",
   "execution_count": null,
   "id": "3708d5b9",
   "metadata": {},
   "outputs": [],
   "source": [
    "df = spark.sql(\n",
    "'''\n",
    "SELECT o.`@timestamp`, o.Hostname, o.SubjectUserName, o.TargetUserName, o.NewProcessName, o.CommandLine, a.IpAddress\n",
    "FROM sdTable o\n",
    "INNER JOIN (\n",
    "    SELECT Hostname,TargetUserName,TargetLogonId,IpAddress\n",
    "    FROM sdTable\n",
    "    WHERE LOWER(Channel) = \"security\"\n",
    "        AND EventID = 4624\n",
    "        AND LogonType = 3\n",
    "        AND NOT TargetUserName LIKE \"%$\"\n",
    "    ) a\n",
    "ON o.TargetLogonId = a.TargetLogonId\n",
    "WHERE LOWER(o.Channel) = \"security\"\n",
    "    AND o.EventID = 4688\n",
    "    AND lower(o.ParentProcessName) LIKE \"%wmiprvse.exe\"\n",
    "    AND NOT o.TargetLogonId = \"0x3e7\"\n",
    "'''\n",
    ")\n",
    "df.show(10,False)"
   ]
  },
  {
   "cell_type": "markdown",
   "id": "970c028c",
   "metadata": {},
   "source": [
    "## Known Bypasses"
   ]
  },
  {
   "cell_type": "markdown",
   "id": "92f627e6",
   "metadata": {},
   "source": [
    "## False Positives\n",
    "None"
   ]
  },
  {
   "cell_type": "markdown",
   "id": "42c66046",
   "metadata": {},
   "source": [
    "## Hunter Notes\n",
    "* Stack the child processes of wmiprvse.exe in your environment. This is very helpful to reduce the number of false positive and understand your environment. You can categorize the data returned by business unit.\n",
    "* Look for wmiprvse.exe spawning new processes that are part of a network type logon session.\n",
    "* Enrich events with Network Logon events (4624 - Logon Type 3)"
   ]
  },
  {
   "cell_type": "markdown",
   "id": "776e41e8",
   "metadata": {},
   "source": [
    "## Hunt Output\n",
    "\n",
    "| Type | Link |\n",
    "| :----| :----|\n",
    "| Sigma Rule | [https://github.com/SigmaHQ/sigma/blob/master/rules/windows/process_creation/win_wmiprvse_spawning_process.yml](https://github.com/SigmaHQ/sigma/blob/master/rules/windows/process_creation/win_wmiprvse_spawning_process.yml) |\n",
    "| Sigma Rule | [https://github.com/SigmaHQ/sigma/blob/master/rules/windows/image_load/sysmon_wmi_module_load.yml](https://github.com/SigmaHQ/sigma/blob/master/rules/windows/image_load/sysmon_wmi_module_load.yml) |"
   ]
  },
  {
   "cell_type": "markdown",
   "id": "a04a8391",
   "metadata": {},
   "source": [
    "## References\n",
    "* https://posts.specterops.io/threat-hunting-with-jupyter-notebooks-part-4-sql-join-via-apache-sparksql-6630928c931e\n",
    "* https://posts.specterops.io/real-time-sysmon-processing-via-ksql-and-helk-part-3-basic-use-case-8fbf383cb54f"
   ]
  }
 ],
 "metadata": {
  "kernelspec": {
   "display_name": "PySpark_Python3",
   "language": "python",
   "name": "pyspark3"
  },
  "language_info": {
   "codemirror_mode": {
    "name": "ipython",
    "version": 3
   },
   "file_extension": ".py",
   "mimetype": "text/x-python",
   "name": "python",
   "nbconvert_exporter": "python",
   "pygments_lexer": "ipython3",
   "version": "3.7.3"
  }
 },
 "nbformat": 4,
 "nbformat_minor": 5
}
