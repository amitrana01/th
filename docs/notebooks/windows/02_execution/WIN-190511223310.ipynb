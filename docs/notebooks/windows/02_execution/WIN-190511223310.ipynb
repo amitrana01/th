{
 "cells": [
  {
   "cell_type": "markdown",
   "id": "ebb95968",
   "metadata": {},
   "source": [
    "# PowerShell Remote Session"
   ]
  },
  {
   "cell_type": "markdown",
   "id": "6ea2a073",
   "metadata": {},
   "source": [
    "## Metadata"
   ]
  },
  {
   "cell_type": "markdown",
   "id": "ce70b7e6",
   "metadata": {},
   "source": [
    "\n",
    "|     Metadata      |  Value  |\n",
    "|:------------------|:---|\n",
    "| collaborators     | ['@Cyb3rWard0g', '@Cyb3rPandaH'] |\n",
    "| creation date     | 2019/05/11 |\n",
    "| modification date | 2020/09/20 |\n",
    "| playbook related  | ['WIN-190410151110'] |"
   ]
  },
  {
   "cell_type": "markdown",
   "id": "7a59c813",
   "metadata": {},
   "source": [
    "## Hypothesis\n",
    "Adversaries might be leveraging remote powershell sessions to execute code on remote systems throughout my environment"
   ]
  },
  {
   "cell_type": "markdown",
   "id": "5cac3820",
   "metadata": {},
   "source": [
    "## Technical Context\n",
    "None"
   ]
  },
  {
   "cell_type": "markdown",
   "id": "ba92f5b9",
   "metadata": {},
   "source": [
    "## Offensive Tradecraft\n",
    "Adversaries can use PowerShell to perform a number of actions, including discovery of information and execution of code.\n",
    "In addition, it can be used to execute code remotely via Windows Remote Management (WinRM) services.\n",
    "Therefore, it is important to understand the basic artifacts left when PowerShell is used to execute code remotely via a remote powershell session."
   ]
  },
  {
   "cell_type": "markdown",
   "id": "3318a8cc",
   "metadata": {},
   "source": [
    "## Security Datasets"
   ]
  },
  {
   "cell_type": "markdown",
   "id": "7430753d",
   "metadata": {},
   "source": [
    "\n",
    "| Metadata  |    Value  |\n",
    "|:----------|:----------|\n",
    "| docs      | https://securitydatasets.com/notebooks/atomic/windows/execution/SDWIN-190518211456.html        |\n",
    "| link      | [https://raw.githubusercontent.com/OTRF/Security-Datasets/master/datasets/atomic/windows/lateral_movement/host/empire_psremoting_stager.zip](https://raw.githubusercontent.com/OTRF/Security-Datasets/master/datasets/atomic/windows/lateral_movement/host/empire_psremoting_stager.zip)  |"
   ]
  },
  {
   "cell_type": "markdown",
   "id": "7473eb25",
   "metadata": {},
   "source": [
    "## Analytics"
   ]
  },
  {
   "cell_type": "markdown",
   "id": "43570c54",
   "metadata": {},
   "source": [
    "### Initialize Analytics Engine"
   ]
  },
  {
   "cell_type": "code",
   "execution_count": null,
   "id": "0a6b5660",
   "metadata": {},
   "outputs": [],
   "source": [
    "from openhunt.mordorutils import *\n",
    "spark = get_spark()"
   ]
  },
  {
   "cell_type": "markdown",
   "id": "e2f07cb2",
   "metadata": {},
   "source": [
    "### Download & Process Security Dataset"
   ]
  },
  {
   "cell_type": "code",
   "execution_count": null,
   "id": "0176f528",
   "metadata": {},
   "outputs": [],
   "source": [
    "sd_file = \"https://raw.githubusercontent.com/OTRF/Security-Datasets/master/datasets/atomic/windows/lateral_movement/host/empire_psremoting_stager.zip\"\n",
    "registerMordorSQLTable(spark, sd_file, \"sdTable\")"
   ]
  },
  {
   "cell_type": "markdown",
   "id": "fe570161",
   "metadata": {},
   "source": [
    "### Analytic I\n",
    "Process wsmprovhost hosts the active remote session on the target. Therefore, it is important to monitor for any the initialization of the PowerShell host wsmprovhost"
   ]
  },
  {
   "cell_type": "markdown",
   "id": "d898f458",
   "metadata": {},
   "source": [
    "\n",
    "| Data source | Event Provider | Relationship | Event |\n",
    "|:------------|:---------------|--------------|-------|\n",
    "| Powershell | Windows PowerShell | Application host started | 400 |\n",
    "| Powershell | Microsoft-Windows-PowerShell/Operational | User started Application host | 4103 |"
   ]
  },
  {
   "cell_type": "code",
   "execution_count": null,
   "id": "7ea0ccd2",
   "metadata": {},
   "outputs": [],
   "source": [
    "df = spark.sql(\n",
    "'''\n",
    "SELECT `@timestamp`, Hostname, Channel\n",
    "FROM sdTable\n",
    "WHERE (Channel = \"Microsoft-Windows-PowerShell/Operational\" OR Channel = \"Windows PowerShell\")\n",
    "    AND (EventID = 400 OR EventID = 4103)\n",
    "    AND Message LIKE \"%HostApplication%wsmprovhost%\"\n",
    "'''\n",
    ")\n",
    "df.show(10,False)"
   ]
  },
  {
   "cell_type": "markdown",
   "id": "47be6294",
   "metadata": {},
   "source": [
    "### Analytic II\n",
    "Monitor for any incoming network connection where the destination port is either 5985 or 5986. That will be hosted most likely by the System process. Layer ID:44"
   ]
  },
  {
   "cell_type": "markdown",
   "id": "96500129",
   "metadata": {},
   "source": [
    "\n",
    "| Data source | Event Provider | Relationship | Event |\n",
    "|:------------|:---------------|--------------|-------|\n",
    "| Process | Microsoft-Windows-Security-Auditing | Process connected to Port | 5156 |"
   ]
  },
  {
   "cell_type": "code",
   "execution_count": null,
   "id": "35e977ae",
   "metadata": {},
   "outputs": [],
   "source": [
    "df = spark.sql(\n",
    "'''\n",
    "SELECT `@timestamp`, Hostname, Application, SourceAddress, DestAddress, LayerName, LayerRTID\n",
    "FROM sdTable\n",
    "WHERE LOWER(Channel) = \"security\"\n",
    "    AND EventID = 5156\n",
    "    AND (DestPort = 5985 OR DestPort = 5986)\n",
    "    AND LayerRTID = 44\n",
    "'''\n",
    ")\n",
    "df.show(10,False)"
   ]
  },
  {
   "cell_type": "markdown",
   "id": "03ecd774",
   "metadata": {},
   "source": [
    "### Analytic III\n",
    "Process wsmprovhost hosts the active remote session on the target. Therefore, from a process creation perspective, it is to document any instances of wsmprovhost being spawned and spawning other processes"
   ]
  },
  {
   "cell_type": "markdown",
   "id": "c982189f",
   "metadata": {},
   "source": [
    "\n",
    "| Data source | Event Provider | Relationship | Event |\n",
    "|:------------|:---------------|--------------|-------|\n",
    "| Process | Microsoft-Windows-Security-Auditing | Process created Process | 4688 |"
   ]
  },
  {
   "cell_type": "code",
   "execution_count": null,
   "id": "da487aac",
   "metadata": {},
   "outputs": [],
   "source": [
    "df = spark.sql(\n",
    "'''\n",
    "SELECT `@timestamp`, Hostname, ParentProcessName, NewProcessName\n",
    "FROM sdTable\n",
    "WHERE LOWER(Channel) = \"security\"\n",
    "    AND EventID = 4688\n",
    "    AND (ParentProcessName LIKE \"%wsmprovhost.exe\" OR NewProcessName LIKE \"%wsmprovhost.exe\")\n",
    "'''\n",
    ")\n",
    "df.show(10,False)"
   ]
  },
  {
   "cell_type": "markdown",
   "id": "862eb54b",
   "metadata": {},
   "source": [
    "### Analytic IV\n",
    "Process wsmprovhost hosts the active remote session on the target. Therefore, from a process creation perspective, it is to document any instances of wsmprovhost being spawned and spawning other processes"
   ]
  },
  {
   "cell_type": "markdown",
   "id": "521eebe6",
   "metadata": {},
   "source": [
    "\n",
    "| Data source | Event Provider | Relationship | Event |\n",
    "|:------------|:---------------|--------------|-------|\n",
    "| Process | Microsoft-Windows-Sysmon/Operational | Process created Process | 1 |"
   ]
  },
  {
   "cell_type": "code",
   "execution_count": null,
   "id": "2297c66b",
   "metadata": {},
   "outputs": [],
   "source": [
    "df = spark.sql(\n",
    "'''\n",
    "SELECT `@timestamp`, Hostname, ParentImage, Image\n",
    "FROM sdTable\n",
    "WHERE Channel = \"Microsoft-Windows-Sysmon/Operational\"\n",
    "    AND EventID = 1\n",
    "    AND (ParentImage LIKE \"%wsmprovhost.exe\" OR Image LIKE \"%wsmprovhost.exe\")\n",
    "'''\n",
    ")\n",
    "df.show(10,False)"
   ]
  },
  {
   "cell_type": "markdown",
   "id": "efbe99e8",
   "metadata": {},
   "source": [
    "### Analytic V\n",
    "Monitor for outbound network connection where the destination port is either 5985 or 5986 and the use is not NT AUTHORITY\\NETWORK SERVICE"
   ]
  },
  {
   "cell_type": "markdown",
   "id": "0e010290",
   "metadata": {},
   "source": [
    "\n",
    "| Data source | Event Provider | Relationship | Event |\n",
    "|:------------|:---------------|--------------|-------|\n",
    "| Process | Microsoft-Windows-Sysmon/Operational | User connected to Port | 3 |"
   ]
  },
  {
   "cell_type": "code",
   "execution_count": null,
   "id": "71b0c02f",
   "metadata": {},
   "outputs": [],
   "source": [
    "df = spark.sql(\n",
    "'''\n",
    "SELECT `@timestamp`, Hostname, User, Initiated, Image, SourceIp, DestinationIp\n",
    "FROM sdTable\n",
    "WHERE Channel = \"Microsoft-Windows-Sysmon/Operational\"\n",
    "    AND EventID = 3\n",
    "    AND (DestinationPort = 5985 OR DestinationPort = 5986)\n",
    "    AND NOT User = \"NT AUTHORITY\\\\\\\\NETWORK SERVICE\"\n",
    "'''\n",
    ")\n",
    "df.show(10,False)"
   ]
  },
  {
   "cell_type": "markdown",
   "id": "3a37d080",
   "metadata": {},
   "source": [
    "## Known Bypasses"
   ]
  },
  {
   "cell_type": "markdown",
   "id": "7cd83f94",
   "metadata": {},
   "source": [
    "## False Positives\n",
    "None"
   ]
  },
  {
   "cell_type": "markdown",
   "id": "0f91f249",
   "metadata": {},
   "source": [
    "## Hunter Notes\n",
    "* Explore the data produced in your lab environment with the analytics above and document what normal looks like from a PowerShell perspective. Then, take your findings and explore your production environment.\n",
    "* If powershell activity locally or remotely via winrm happens all the time in your environment, I suggest to categorize the data you collect by business unit or department to document profiles.\n",
    "* Layer 44 translatest to layer filter FWPM_LAYER_ALE_AUTH_RECV_ACCEPT_V4 / FWPM_LAYER_ALE_AUTH_RECV_ACCEPT_V6. This filtering layer allows for authorizing accept requests for incoming TCP connections, as well as authorizing incoming non-TCP traffic based on the first packet received. Looking for destination ports related to remote PowerShell Sessions and Layer 44 is very helpful."
   ]
  },
  {
   "cell_type": "markdown",
   "id": "eab43f84",
   "metadata": {},
   "source": [
    "## Hunt Output\n",
    "\n",
    "| Type | Link |\n",
    "| :----| :----|\n",
    "| Sigma Rule | [https://github.com/SigmaHQ/sigma/blob/master/rules/windows/powershell/powershell_module/posh_pm_remote_powershell_session.yml](https://github.com/SigmaHQ/sigma/blob/master/rules/windows/powershell/powershell_module/posh_pm_remote_powershell_session.yml) |\n",
    "| Sigma Rule | [https://github.com/SigmaHQ/sigma/blob/master/rules/windows/powershell/powershell_classic/posh_pc_remote_powershell_session.yml](https://github.com/SigmaHQ/sigma/blob/master/rules/windows/powershell/powershell_classic/posh_pc_remote_powershell_session.yml) |\n",
    "| Sigma Rule | [https://github.com/SigmaHQ/sigma/blob/master/rules/windows/network_connection/sysmon_remote_powershell_session_network.yml](https://github.com/SigmaHQ/sigma/blob/master/rules/windows/network_connection/sysmon_remote_powershell_session_network.yml) |\n",
    "| Sigma Rule | [https://github.com/SigmaHQ/sigma/blob/master/rules/windows/process_creation/win_remote_powershell_session_process.yml](https://github.com/SigmaHQ/sigma/blob/master/rules/windows/process_creation/win_remote_powershell_session_process.yml) |\n",
    "| Sigma Rule | [https://github.com/SigmaHQ/sigma/blob/master/rules/windows/builtin/security/win_remote_powershell_session.yml](https://github.com/SigmaHQ/sigma/blob/master/rules/windows/builtin/security/win_remote_powershell_session.yml) |"
   ]
  },
  {
   "cell_type": "markdown",
   "id": "a10f03f1",
   "metadata": {},
   "source": [
    "## References\n",
    "* https://docs.microsoft.com/en-us/powershell/scripting/learn/remoting/running-remote-commands?view=powershell-6#windows-powershell-remoting\n",
    "* https://docs.microsoft.com/en-us/powershell/module/microsoft.powershell.core/about/about_remote_requirements?view=powershell-6\n",
    "* https://docs.microsoft.com/en-us/windows/win32/fwp/management-filtering-layer-identifiers-"
   ]
  }
 ],
 "metadata": {
  "kernelspec": {
   "display_name": "PySpark_Python3",
   "language": "python",
   "name": "pyspark3"
  },
  "language_info": {
   "codemirror_mode": {
    "name": "ipython",
    "version": 3
   },
   "file_extension": ".py",
   "mimetype": "text/x-python",
   "name": "python",
   "nbconvert_exporter": "python",
   "pygments_lexer": "ipython3",
   "version": "3.7.3"
  }
 },
 "nbformat": 4,
 "nbformat_minor": 5
}
