{
 "cells": [
  {
   "cell_type": "markdown",
   "id": "27aa4821",
   "metadata": {},
   "source": [
    "# Remote Interactive Task Manager LSASS Dump"
   ]
  },
  {
   "cell_type": "markdown",
   "id": "855a54d8",
   "metadata": {},
   "source": [
    "## Metadata"
   ]
  },
  {
   "cell_type": "markdown",
   "id": "5aaa230a",
   "metadata": {},
   "source": [
    "\n",
    "|     Metadata      |  Value  |\n",
    "|:------------------|:---|\n",
    "| collaborators     | ['@Cyb3rWard0g', '@Cyb3rPandaH'] |\n",
    "| creation date     | 2019/10/30 |\n",
    "| modification date | 2020/09/20 |\n",
    "| playbook related  | ['WIN-1904101010'] |"
   ]
  },
  {
   "cell_type": "markdown",
   "id": "570b981d",
   "metadata": {},
   "source": [
    "## Hypothesis\n",
    "Adversaries might be RDPing to computers in my environment and interactively dumping the memory contents of LSASS with task manager."
   ]
  },
  {
   "cell_type": "markdown",
   "id": "b7df0874",
   "metadata": {},
   "source": [
    "## Technical Context\n",
    "None"
   ]
  },
  {
   "cell_type": "markdown",
   "id": "4e230c59",
   "metadata": {},
   "source": [
    "## Offensive Tradecraft\n",
    "The Windows Task Manager may be used to dump the memory space of lsass.exe to disk for processing with a credential access tool such as Mimikatz.\n",
    "This is performed by launching Task Manager as a privileged user, selecting lsass.exe, and clicking \"Create dump file\".\n",
    "This saves a dump file to disk with a deterministic name that includes the name of the process being dumped."
   ]
  },
  {
   "cell_type": "markdown",
   "id": "a8eaf3da",
   "metadata": {},
   "source": [
    "## Security Datasets"
   ]
  },
  {
   "cell_type": "markdown",
   "id": "530d3bb8",
   "metadata": {},
   "source": [
    "\n",
    "| Metadata  |    Value  |\n",
    "|:----------|:----------|\n",
    "| docs      | https://securitydatasets.com/notebooks/atomic/windows/credential_access/SDWIN-191027055035.html        |\n",
    "| link      | [https://raw.githubusercontent.com/OTRF/Security-Datasets/master/datasets/atomic/windows/credential_access/host/rdp_interactive_taskmanager_lsass_dump.zip](https://raw.githubusercontent.com/OTRF/Security-Datasets/master/datasets/atomic/windows/credential_access/host/rdp_interactive_taskmanager_lsass_dump.zip)  |"
   ]
  },
  {
   "cell_type": "markdown",
   "id": "b1656ca2",
   "metadata": {},
   "source": [
    "## Analytics"
   ]
  },
  {
   "cell_type": "markdown",
   "id": "8fad3f80",
   "metadata": {},
   "source": [
    "### Initialize Analytics Engine"
   ]
  },
  {
   "cell_type": "code",
   "execution_count": null,
   "id": "adaee6e4",
   "metadata": {},
   "outputs": [],
   "source": [
    "from openhunt.mordorutils import *\n",
    "spark = get_spark()"
   ]
  },
  {
   "cell_type": "markdown",
   "id": "ae8553bf",
   "metadata": {},
   "source": [
    "### Download & Process Security Dataset"
   ]
  },
  {
   "cell_type": "code",
   "execution_count": null,
   "id": "960b9309",
   "metadata": {},
   "outputs": [],
   "source": [
    "sd_file = \"https://raw.githubusercontent.com/OTRF/Security-Datasets/master/datasets/atomic/windows/credential_access/host/rdp_interactive_taskmanager_lsass_dump.zip\"\n",
    "registerMordorSQLTable(spark, sd_file, \"sdTable\")"
   ]
  },
  {
   "cell_type": "markdown",
   "id": "cce843ce",
   "metadata": {},
   "source": [
    "### Analytic I\n",
    "Look for taskmgr creating files which name contains the string lsass and with extension .dmp."
   ]
  },
  {
   "cell_type": "markdown",
   "id": "61e23681",
   "metadata": {},
   "source": [
    "\n",
    "| Data source | Event Provider | Relationship | Event |\n",
    "|:------------|:---------------|--------------|-------|\n",
    "| File | Microsoft-Windows-Sysmon/Operational | Process created File | 11 |"
   ]
  },
  {
   "cell_type": "code",
   "execution_count": null,
   "id": "d1df8c6c",
   "metadata": {},
   "outputs": [],
   "source": [
    "df = spark.sql(\n",
    "'''\n",
    "SELECT `@timestamp`, Hostname, Image, TargetFilename, ProcessGuid\n",
    "FROM sdTable\n",
    "WHERE Channel = \"Microsoft-Windows-Sysmon/Operational\"\n",
    "    AND EventID = 11\n",
    "    AND Image LIKE \"%taskmgr.exe\"\n",
    "    AND lower(TargetFilename) RLIKE \".*lsass.*\\.dmp\"\n",
    "'''\n",
    ")\n",
    "df.show(10,False)"
   ]
  },
  {
   "cell_type": "markdown",
   "id": "7dcd1b34",
   "metadata": {},
   "source": [
    "### Analytic II\n",
    "Look for task manager access lsass and with functions from dbgcore.dll or dbghelp.dll libraries"
   ]
  },
  {
   "cell_type": "markdown",
   "id": "56729925",
   "metadata": {},
   "source": [
    "\n",
    "| Data source | Event Provider | Relationship | Event |\n",
    "|:------------|:---------------|--------------|-------|\n",
    "| Process | Microsoft-Windows-Sysmon/Operational | Process accessed Process | 10 |"
   ]
  },
  {
   "cell_type": "code",
   "execution_count": null,
   "id": "c090bf4b",
   "metadata": {},
   "outputs": [],
   "source": [
    "df = spark.sql(\n",
    "'''\n",
    "SELECT `@timestamp`, Hostname, SourceImage, TargetImage, GrantedAccess\n",
    "FROM sdTable\n",
    "WHERE Channel = \"Microsoft-Windows-Sysmon/Operational\"\n",
    "    AND EventID = 10\n",
    "    AND lower(SourceImage) LIKE \"%taskmgr.exe\"\n",
    "    AND lower(TargetImage) LIKE \"%lsass.exe\"\n",
    "    AND (lower(CallTrace) RLIKE \".*dbgcore\\.dll.*\" OR lower(CallTrace) RLIKE \".*dbghelp\\.dll.*\")\n",
    "'''\n",
    ")\n",
    "df.show(10,False)"
   ]
  },
  {
   "cell_type": "markdown",
   "id": "360e4293",
   "metadata": {},
   "source": [
    "### Analytic III\n",
    "Look for any process accessing lsass and with functions from dbgcore.dll or dbghelp.dll libraries"
   ]
  },
  {
   "cell_type": "markdown",
   "id": "66ef275f",
   "metadata": {},
   "source": [
    "\n",
    "| Data source | Event Provider | Relationship | Event |\n",
    "|:------------|:---------------|--------------|-------|\n",
    "| Process | Microsoft-Windows-Sysmon/Operational | Process accessed Process | 10 |"
   ]
  },
  {
   "cell_type": "code",
   "execution_count": null,
   "id": "d65198f5",
   "metadata": {},
   "outputs": [],
   "source": [
    "df = spark.sql(\n",
    "'''\n",
    "SELECT `@timestamp`, Hostname, SourceImage, TargetImage, GrantedAccess\n",
    "FROM sdTable\n",
    "WHERE Channel = \"Microsoft-Windows-Sysmon/Operational\"\n",
    "    AND EventID = 10\n",
    "    AND lower(TargetImage) LIKE \"%lsass.exe\"\n",
    "    AND (lower(CallTrace) RLIKE \".*dbgcore\\.dll.*\" OR lower(CallTrace) RLIKE \".*dbghelp\\.dll.*\")\n",
    "'''\n",
    ")\n",
    "df.show(10,False)"
   ]
  },
  {
   "cell_type": "markdown",
   "id": "bdf49e10",
   "metadata": {},
   "source": [
    "### Analytic IV\n",
    "Look for combinations of process access and process creation to get more context around potential lsass dump form task manager or other binaries"
   ]
  },
  {
   "cell_type": "markdown",
   "id": "55e4fe82",
   "metadata": {},
   "source": [
    "\n",
    "| Data source | Event Provider | Relationship | Event |\n",
    "|:------------|:---------------|--------------|-------|\n",
    "| Process | Microsoft-Windows-Sysmon/Operational | Process accessed Process | 10 |\n",
    "| Process | Microsoft-Windows-Sysmon/Operational | Process created Process | 1 |"
   ]
  },
  {
   "cell_type": "code",
   "execution_count": null,
   "id": "cb70bbe1",
   "metadata": {},
   "outputs": [],
   "source": [
    "df = spark.sql(\n",
    "'''\n",
    "SELECT o.`@timestamp`, o.Hostname, o.Image, o.LogonId, o.ProcessGuid, a.SourceProcessGUID, o.CommandLine\n",
    "FROM sdTable o\n",
    "INNER JOIN (\n",
    "    SELECT Hostname,SourceProcessGUID\n",
    "    FROM sdTable\n",
    "    WHERE Channel = \"Microsoft-Windows-Sysmon/Operational\"\n",
    "        AND EventID = 10\n",
    "        AND lower(TargetImage) LIKE \"%lsass.exe\"\n",
    "        AND (lower(CallTrace) RLIKE \".*dbgcore\\.dll.*\" OR lower(CallTrace) RLIKE \".*dbghelp\\.dll.*\")\n",
    "    ) a\n",
    "ON o.ProcessGuid = a.SourceProcessGUID\n",
    "WHERE o.Channel = \"Microsoft-Windows-Sysmon/Operational\"\n",
    "    AND o.EventID = 1\n",
    "'''\n",
    ")\n",
    "df.show(10,False)"
   ]
  },
  {
   "cell_type": "markdown",
   "id": "1e1c6555",
   "metadata": {},
   "source": [
    "### Analytic V\n",
    "Look for binaries accessing lsass that are running under the same logon context of a user over an RDP session"
   ]
  },
  {
   "cell_type": "markdown",
   "id": "a4cf133a",
   "metadata": {},
   "source": [
    "\n",
    "| Data source | Event Provider | Relationship | Event |\n",
    "|:------------|:---------------|--------------|-------|\n",
    "| Process | Microsoft-Windows-Sysmon/Operational | Process accessed Process | 10 |\n",
    "| Process | Microsoft-Windows-Sysmon/Operational | Process created Process | 1 |\n",
    "| Authentication log | Microsoft-Windows-Security-Auditing | User authenticated Host | 4778 |"
   ]
  },
  {
   "cell_type": "code",
   "execution_count": null,
   "id": "62dbbf5a",
   "metadata": {},
   "outputs": [],
   "source": [
    "df = spark.sql(\n",
    "'''\n",
    "SELECT o.`@timestamp`, o.Hostname, o.SessionName, o.AccountName, o.ClientName, o.ClientAddress, a.Image, a.CommandLine\n",
    "FROM sdTable o\n",
    "INNER JOIN (\n",
    "    SELECT LogonId, Image, CommandLine\n",
    "    FROM (\n",
    "        SELECT o.Image, o.LogonId, o.CommandLine\n",
    "        FROM sdTable o\n",
    "        INNER JOIN (\n",
    "            SELECT Hostname,SourceProcessGUID\n",
    "            FROM sdTable\n",
    "            WHERE Channel = \"Microsoft-Windows-Sysmon/Operational\"\n",
    "                AND EventID = 10\n",
    "                AND lower(TargetImage) LIKE \"%lsass.exe\"\n",
    "                AND (lower(CallTrace) RLIKE \".*dbgcore\\.dll.*\" OR lower(CallTrace) RLIKE \".*dbghelp\\.dll.*\")\n",
    "            ) a\n",
    "        ON o.ProcessGuid = a.SourceProcessGUID\n",
    "        WHERE o.Channel = \"Microsoft-Windows-Sysmon/Operational\"\n",
    "            AND o.EventID = 1\n",
    "        )\n",
    "    ) a\n",
    "ON o.LogonID = a.LogonId\n",
    "WHERE lower(o.Channel) = \"security\"\n",
    "    AND o.EventID = 4778\n",
    "'''\n",
    ")\n",
    "df.show(10,False)"
   ]
  },
  {
   "cell_type": "markdown",
   "id": "de06a6b3",
   "metadata": {},
   "source": [
    "## Known Bypasses"
   ]
  },
  {
   "cell_type": "markdown",
   "id": "ca4a0e64",
   "metadata": {},
   "source": [
    "## False Positives\n",
    "None"
   ]
  },
  {
   "cell_type": "markdown",
   "id": "d8d59d73",
   "metadata": {},
   "source": [
    "## Hunter Notes\n",
    "* Add context to your queries by joining RDP remote interactive authentication events by the logon ID."
   ]
  },
  {
   "cell_type": "markdown",
   "id": "3b6a24ec",
   "metadata": {},
   "source": [
    "## References\n",
    "* https://car.mitre.org/analytics/CAR-2019-08-001/"
   ]
  }
 ],
 "metadata": {
  "kernelspec": {
   "display_name": "PySpark_Python3",
   "language": "python",
   "name": "pyspark3"
  },
  "language_info": {
   "codemirror_mode": {
    "name": "ipython",
    "version": 3
   },
   "file_extension": ".py",
   "mimetype": "text/x-python",
   "name": "python",
   "nbconvert_exporter": "python",
   "pygments_lexer": "ipython3",
   "version": "3.7.3"
  }
 },
 "nbformat": 4,
 "nbformat_minor": 5
}
