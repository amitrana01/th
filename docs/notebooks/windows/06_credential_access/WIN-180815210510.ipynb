{
 "cells": [
  {
   "cell_type": "markdown",
   "id": "e8050536",
   "metadata": {},
   "source": [
    "# Active Directory Replication From Non-Domain-Controller Accounts"
   ]
  },
  {
   "cell_type": "markdown",
   "id": "34f56a46",
   "metadata": {},
   "source": [
    "## Metadata"
   ]
  },
  {
   "cell_type": "markdown",
   "id": "f8eb305e",
   "metadata": {},
   "source": [
    "\n",
    "|     Metadata      |  Value  |\n",
    "|:------------------|:---|\n",
    "| collaborators     | ['@Cyb3rWard0g', '@Cyb3rPandaH'] |\n",
    "| creation date     | 2018/08/15 |\n",
    "| modification date | 2020/09/20 |\n",
    "| playbook related  | [] |"
   ]
  },
  {
   "cell_type": "markdown",
   "id": "f8ef290f",
   "metadata": {},
   "source": [
    "## Hypothesis\n",
    "Adversaries might attempt to pull the NTLM hash of a user via active directory replication apis from a non-domain-controller account with permissions to do so."
   ]
  },
  {
   "cell_type": "markdown",
   "id": "55104882",
   "metadata": {},
   "source": [
    "## Technical Context\n",
    "Active Directory replication is the process by which the changes that originate on one domain controller are automatically transferred to other domain controllers that store the same data.\n",
    "Active Directory data takes the form of objects that have properties, or attributes. Each object is an instance of an object class, and object classes and their respective attributes are defined in the Active Directory schema.\n",
    "The values of the attributes define the object, and a change to a value of an attribute must be transferred from the domain controller on which it occurs to every other domain controller that stores a replica of that object."
   ]
  },
  {
   "cell_type": "markdown",
   "id": "d467130a",
   "metadata": {},
   "source": [
    "## Offensive Tradecraft\n",
    "An adversary can abuse this model and request information about a specific account via the replication request.\n",
    "This is done from an account with sufficient permissions (usually domain admin level) to perform that request.\n",
    "Usually the accounts performing replication operations in a domain are computer accounts (i.e dcaccount$).\n",
    "Therefore, it might be abnormal to see other non-dc-accounts doing it.\n",
    "\n",
    "The following access rights / permissions are needed for the replication request according to the domain functional level\n",
    "\n",
    "| Control access right symbol | Identifying GUID used in ACE |\n",
    "| :-----------------------------| :------------------------------|\n",
    "| DS-Replication-Get-Changes | 1131f6aa-9c07-11d1-f79f-00c04fc2dcd2 |\n",
    "| DS-Replication-Get-Changes-All | 1131f6ad-9c07-11d1-f79f-00c04fc2dcd2 |\n",
    "| DS-Replication-Get-Changes-In-Filtered-Set | 89e95b76-444d-4c62-991a-0facbeda640c |\n",
    "\n",
    "Additional reading\n",
    "* https://github.com/OTRF/ThreatHunter-Playbook/tree/master/docs/library/windows/active_directory_replication.md"
   ]
  },
  {
   "cell_type": "markdown",
   "id": "346af78b",
   "metadata": {},
   "source": [
    "## Security Datasets"
   ]
  },
  {
   "cell_type": "markdown",
   "id": "af39c079",
   "metadata": {},
   "source": [
    "\n",
    "| Metadata  |    Value  |\n",
    "|:----------|:----------|\n",
    "| docs      | https://securitydatasets.com/notebooks/atomic/windows/credential_access/SDWIN-190301174830.html        |\n",
    "| link      | [https://raw.githubusercontent.com/OTRF/Security-Datasets/master/datasets/atomic/windows/credential_access/host/empire_dcsync_dcerpc_drsuapi_DsGetNCChanges.zip](https://raw.githubusercontent.com/OTRF/Security-Datasets/master/datasets/atomic/windows/credential_access/host/empire_dcsync_dcerpc_drsuapi_DsGetNCChanges.zip)  |"
   ]
  },
  {
   "cell_type": "markdown",
   "id": "02e33c24",
   "metadata": {},
   "source": [
    "## Analytics"
   ]
  },
  {
   "cell_type": "markdown",
   "id": "864aa9a6",
   "metadata": {},
   "source": [
    "### Initialize Analytics Engine"
   ]
  },
  {
   "cell_type": "code",
   "execution_count": null,
   "id": "0dd44772",
   "metadata": {},
   "outputs": [],
   "source": [
    "from openhunt.mordorutils import *\n",
    "spark = get_spark()"
   ]
  },
  {
   "cell_type": "markdown",
   "id": "e9e267b4",
   "metadata": {},
   "source": [
    "### Download & Process Security Dataset"
   ]
  },
  {
   "cell_type": "code",
   "execution_count": null,
   "id": "540f1978",
   "metadata": {},
   "outputs": [],
   "source": [
    "sd_file = \"https://raw.githubusercontent.com/OTRF/Security-Datasets/master/datasets/atomic/windows/credential_access/host/empire_dcsync_dcerpc_drsuapi_DsGetNCChanges.zip\"\n",
    "registerMordorSQLTable(spark, sd_file, \"sdTable\")"
   ]
  },
  {
   "cell_type": "markdown",
   "id": "744bcfc1",
   "metadata": {},
   "source": [
    "### Analytic I\n",
    "Monitoring for non-dc machine accounts accessing active directory objects on domain controllers with replication rights might be suspicious"
   ]
  },
  {
   "cell_type": "markdown",
   "id": "039ffa2f",
   "metadata": {},
   "source": [
    "\n",
    "| Data source | Event Provider | Relationship | Event |\n",
    "|:------------|:---------------|--------------|-------|\n",
    "| Windows active directory | Microsoft-Windows-Security-Auditing | User accessed AD Object | 4662 |"
   ]
  },
  {
   "cell_type": "code",
   "execution_count": null,
   "id": "c70e1030",
   "metadata": {},
   "outputs": [],
   "source": [
    "df = spark.sql(\n",
    "'''\n",
    "SELECT `@timestamp`, Hostname, SubjectUserName, SubjectLogonId\n",
    "FROM sdTable\n",
    "WHERE LOWER(Channel) = \"security\"\n",
    "    AND EventID = 4662\n",
    "    AND AccessMask = \"0x100\"\n",
    "    AND (\n",
    "        Properties LIKE \"%1131f6aa_9c07_11d1_f79f_00c04fc2dcd2%\"\n",
    "        OR Properties LIKE \"%1131f6ad_9c07_11d1_f79f_00c04fc2dcd2%\"\n",
    "        OR Properties LIKE \"%89e95b76_444d_4c62_991a_0facbeda640c%\"\n",
    "    )\n",
    "    AND NOT SubjectUserName LIKE \"%$\"\n",
    "'''\n",
    ")\n",
    "df.show(10,False)"
   ]
  },
  {
   "cell_type": "markdown",
   "id": "16c2c3c9",
   "metadata": {},
   "source": [
    "### Analytic II\n",
    "You can use successful authentication events on the domain controller to get information about the source of the AD Replication Service request"
   ]
  },
  {
   "cell_type": "markdown",
   "id": "4cbb8d8d",
   "metadata": {},
   "source": [
    "\n",
    "| Data source | Event Provider | Relationship | Event |\n",
    "|:------------|:---------------|--------------|-------|\n",
    "| Authentication log | Microsoft-Windows-Security-Auditing | User authenticated Host | 4624 |\n",
    "| Windows active directory | Microsoft-Windows-Security-Auditing | User accessed AD Object | 4662 |"
   ]
  },
  {
   "cell_type": "code",
   "execution_count": null,
   "id": "1aa46a30",
   "metadata": {},
   "outputs": [],
   "source": [
    "df = spark.sql(\n",
    "'''\n",
    "SELECT o.`@timestamp`, o.Hostname, o.SubjectUserName, o.SubjectLogonId, a.IpAddress\n",
    "FROM sdTable o\n",
    "INNER JOIN (\n",
    "    SELECT Hostname,TargetUserName,TargetLogonId,IpAddress\n",
    "    FROM sdTable\n",
    "    WHERE LOWER(Channel) = \"security\"\n",
    "        AND EventID = 4624\n",
    "        AND LogonType = 3\n",
    "        AND NOT TargetUserName LIKE \"%$\"\n",
    "    ) a\n",
    "ON o.SubjectLogonId = a.TargetLogonId\n",
    "WHERE LOWER(o.Channel) = \"security\"\n",
    "    AND o.EventID = 4662\n",
    "    AND o.AccessMask = \"0x100\"\n",
    "    AND (\n",
    "        o.Properties LIKE \"%1131f6aa_9c07_11d1_f79f_00c04fc2dcd2%\"\n",
    "        OR o.Properties LIKE \"%1131f6ad_9c07_11d1_f79f_00c04fc2dcd2%\"\n",
    "        OR o.Properties LIKE \"%89e95b76_444d_4c62_991a_0facbeda640c%\"\n",
    "    )\n",
    "    AND o.Hostname = a.Hostname\n",
    "    AND NOT o.SubjectUserName LIKE \"%$\"\n",
    "'''\n",
    ")\n",
    "df.show(10,False)"
   ]
  },
  {
   "cell_type": "markdown",
   "id": "73f976d5",
   "metadata": {},
   "source": [
    "## Known Bypasses"
   ]
  },
  {
   "cell_type": "markdown",
   "id": "457ddf19",
   "metadata": {},
   "source": [
    "\n",
    "| Idea | Playbook |\n",
    "|:-----|:---------|\n",
    "| Adversaries could perform the replication request from a Domain Controller (DC) and with the DC machine account (*$) to make it look like usual/common replication activity. | [None](https://github.com/OTRF/ThreatHunter-Playbook/blob/master/playbooks/None.yaml) |"
   ]
  },
  {
   "cell_type": "markdown",
   "id": "c3cd5646",
   "metadata": {},
   "source": [
    "## False Positives\n",
    "None"
   ]
  },
  {
   "cell_type": "markdown",
   "id": "8dec40c3",
   "metadata": {},
   "source": [
    "## Hunter Notes\n",
    "* As stated before, when an adversary utilizes directory replication services to connect to a DC, a RPC Client call operation with the RPC Interface GUID of E3514235-4B06-11D1-AB04-00C04FC2DCD2 is performed pointing to the targeted DC. This activity is recorded at the source endpoint, from where the replication request is being performed from, via the Microsoft-Windows-RPC ETW provider. Even though the Microsoft-Windows-RPC ETW provider provides great visibility for replication operations at the source endpoint level, it does not have an event tracing session writing events to an .evtx file which does not make it practical to use it at scale yet.\n",
    "* You can collect information from the Microsoft-Windows-RPC ETW provider and filter on RPC Interface GUID E3514235-4B06-11D1-AB04-00C04FC2DCD2 with SilkETW. One example here > https://twitter.com/FuzzySec/status/1127249052175872000\n",
    "* You can correlate security events 4662 and 4624 (Logon Type 3) by their Logon ID on the Domain Controller (DC) that received the replication request. This will tell you where the AD replication request came from. This will also allow you to know if it came from another DC or not."
   ]
  },
  {
   "cell_type": "markdown",
   "id": "202c808e",
   "metadata": {},
   "source": [
    "## Hunt Output\n",
    "\n",
    "| Type | Link |\n",
    "| :----| :----|\n",
    "| Sigma Rule | [https://github.com/SigmaHQ/sigma/blob/master/rules/windows/builtin/security/win_ad_replication_non_machine_account.yml](https://github.com/SigmaHQ/sigma/blob/master/rules/windows/builtin/security/win_ad_replication_non_machine_account.yml) |"
   ]
  },
  {
   "cell_type": "markdown",
   "id": "e187c30d",
   "metadata": {},
   "source": [
    "## References\n",
    "* https://docs.microsoft.com/en-us/openspecs/windows_protocols/ms-adts/1522b774-6464-41a3-87a5-1e5633c3fbbb\n",
    "* https://docs.microsoft.com/en-us/windows/desktop/adschema/c-domain\n",
    "* https://docs.microsoft.com/en-us/windows/desktop/adschema/c-domaindns\n",
    "* http://www.harmj0y.net/blog/redteaming/a-guide-to-attacking-domain-trusts/\n",
    "* https://docs.microsoft.com/en-us/previous-versions/windows/it-pro/windows-server-2003/cc782376(v=ws.10)\n",
    "* https://docs.microsoft.com/en-us/openspecs/windows_protocols/ms-drsr/f977faaa-673e-4f66-b9bf-48c640241d47"
   ]
  }
 ],
 "metadata": {
  "kernelspec": {
   "display_name": "PySpark_Python3",
   "language": "python",
   "name": "pyspark3"
  },
  "language_info": {
   "codemirror_mode": {
    "name": "ipython",
    "version": 3
   },
   "file_extension": ".py",
   "mimetype": "text/x-python",
   "name": "python",
   "nbconvert_exporter": "python",
   "pygments_lexer": "ipython3",
   "version": "3.7.3"
  }
 },
 "nbformat": 4,
 "nbformat_minor": 5
}
