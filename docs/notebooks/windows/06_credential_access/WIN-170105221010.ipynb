{
 "cells": [
  {
   "cell_type": "markdown",
   "id": "3899eeb4",
   "metadata": {},
   "source": [
    "# LSASS Access from Non System Account"
   ]
  },
  {
   "cell_type": "markdown",
   "id": "5ec72151",
   "metadata": {},
   "source": [
    "## Metadata"
   ]
  },
  {
   "cell_type": "markdown",
   "id": "b9b34c9f",
   "metadata": {},
   "source": [
    "\n",
    "|     Metadata      |  Value  |\n",
    "|:------------------|:---|\n",
    "| collaborators     | ['@Cyb3rWard0g'] |\n",
    "| creation date     | 2017/01/05 |\n",
    "| modification date | 2020/08/05 |\n",
    "| playbook related  | ['WIN-1904101010'] |"
   ]
  },
  {
   "cell_type": "markdown",
   "id": "aaecd095",
   "metadata": {},
   "source": [
    "## Hypothesis\n",
    "Adversaries might be using a non system account to access LSASS and extract credentials from memory."
   ]
  },
  {
   "cell_type": "markdown",
   "id": "b8ca0633",
   "metadata": {},
   "source": [
    "## Technical Context\n",
    "After a user logs on, a variety of credentials are generated and stored in the Local Security Authority Subsystem Service (LSASS) process in memory.\n",
    "This is meant to facilitate single sign-on (SSO) ensuring a user is not prompted each time resource access is requested.\n",
    "The credential data may include Kerberos tickets, NTLM password hashes, LM password hashes (if the password is <15 characters, depending on Windows OS version and patch level), and even clear-text passwords (to support WDigest and SSP authentication among others."
   ]
  },
  {
   "cell_type": "markdown",
   "id": "0dd53645",
   "metadata": {},
   "source": [
    "## Offensive Tradecraft\n",
    "Adversaries look to get access to the credential data and do it so by finding a way to access the contents of memory of the LSASS process.\n",
    "For example, tools like Mimikatz get credential data by listing all available provider credentials with its SEKURLSA::LogonPasswords module.\n",
    "The module uses a Kernel32 function called OpenProcess to get a handle to lsass to then access LSASS and dump password data for currently logged on (or recently logged on) accounts as well as services running under the context of user credentials.\n",
    "Even though most adversaries might inject into a System process to blend in with most applications accessing LSASS, there are ocassions where adversaries do not elevate to System and use the available administrator rights from the user since that is the minimum requirement to access LSASS."
   ]
  },
  {
   "cell_type": "markdown",
   "id": "3bcba2e6",
   "metadata": {},
   "source": [
    "## Security Datasets"
   ]
  },
  {
   "cell_type": "markdown",
   "id": "6e311132",
   "metadata": {},
   "source": [
    "\n",
    "| Metadata  |    Value  |\n",
    "|:----------|:----------|\n",
    "| docs      | https://securitydatasets.com/notebooks/atomic/windows/credential_access/SDWIN-190518202151.html        |\n",
    "| link      | [https://raw.githubusercontent.com/OTRF/Security-Datasets/master/datasets/atomic/windows/credential_access/host/empire_mimikatz_logonpasswords.zip](https://raw.githubusercontent.com/OTRF/Security-Datasets/master/datasets/atomic/windows/credential_access/host/empire_mimikatz_logonpasswords.zip)  |"
   ]
  },
  {
   "cell_type": "markdown",
   "id": "6bf2484d",
   "metadata": {},
   "source": [
    "## Analytics"
   ]
  },
  {
   "cell_type": "markdown",
   "id": "d2d46e6c",
   "metadata": {},
   "source": [
    "### Initialize Analytics Engine"
   ]
  },
  {
   "cell_type": "code",
   "execution_count": null,
   "id": "04bbb9b0",
   "metadata": {},
   "outputs": [],
   "source": [
    "from openhunt.mordorutils import *\n",
    "spark = get_spark()"
   ]
  },
  {
   "cell_type": "markdown",
   "id": "527004d6",
   "metadata": {},
   "source": [
    "### Download & Process Security Dataset"
   ]
  },
  {
   "cell_type": "code",
   "execution_count": null,
   "id": "d7a156ce",
   "metadata": {},
   "outputs": [],
   "source": [
    "sd_file = \"https://raw.githubusercontent.com/OTRF/Security-Datasets/master/datasets/atomic/windows/credential_access/host/empire_mimikatz_logonpasswords.zip\"\n",
    "registerMordorSQLTable(spark, sd_file, \"sdTable\")"
   ]
  },
  {
   "cell_type": "markdown",
   "id": "2fe3920d",
   "metadata": {},
   "source": [
    "### Analytic I\n",
    "Look for non-system accounts getting a handle to and accessing lsass"
   ]
  },
  {
   "cell_type": "markdown",
   "id": "1d7df72c",
   "metadata": {},
   "source": [
    "\n",
    "| Data source | Event Provider | Relationship | Event |\n",
    "|:------------|:---------------|--------------|-------|\n",
    "| Process | Microsoft-Windows-Security-Auditing | Process accessed Process | 4663 |\n",
    "| Process | Microsoft-Windows-Security-Auditing | Process requested_access Process | 4656 |"
   ]
  },
  {
   "cell_type": "code",
   "execution_count": null,
   "id": "dbe1d0b4",
   "metadata": {},
   "outputs": [],
   "source": [
    "df = spark.sql(\n",
    "'''\n",
    "SELECT `@timestamp`, Hostname, SubjectUserName, ProcessName, ObjectName, AccessMask, EventID\n",
    "FROM sdTable\n",
    "WHERE LOWER(Channel) = \"security\"\n",
    "    AND (EventID = 4663 OR EventID = 4656)\n",
    "    AND ObjectName LIKE \"%lsass.exe\"\n",
    "    AND NOT SubjectUserName LIKE \"%$\"\n",
    "'''\n",
    ")\n",
    "df.show(10,False)"
   ]
  },
  {
   "cell_type": "markdown",
   "id": "a858d037",
   "metadata": {},
   "source": [
    "### Analytic II\n",
    "Processes opening handles and accessing Lsass with potential dlls in memory (i.e UNKNOWN in CallTrace)"
   ]
  },
  {
   "cell_type": "markdown",
   "id": "1f1645be",
   "metadata": {},
   "source": [
    "\n",
    "| Data source | Event Provider | Relationship | Event |\n",
    "|:------------|:---------------|--------------|-------|\n",
    "| Process | Microsoft-Windows-Sysmon/Operational | Process accessed Process | 10 |"
   ]
  },
  {
   "cell_type": "code",
   "execution_count": null,
   "id": "3f5eaad8",
   "metadata": {},
   "outputs": [],
   "source": [
    "df = spark.sql(\n",
    "'''\n",
    "SELECT `@timestamp`, Hostname, SourceImage, TargetImage, GrantedAccess, SourceProcessGUID\n",
    "FROM sdTable\n",
    "WHERE Channel = \"Microsoft-Windows-Sysmon/Operational\"\n",
    "    AND EventID = 10\n",
    "    AND TargetImage LIKE \"%lsass.exe\"\n",
    "    AND CallTrace LIKE \"%UNKNOWN%\"\n",
    "'''\n",
    ")\n",
    "df.show(10,False)"
   ]
  },
  {
   "cell_type": "markdown",
   "id": "998eaa0f",
   "metadata": {},
   "source": [
    "### Analytic III\n",
    "Look for processes loading a few known DLLs loaded by tools like Mimikatz to interact with credentials"
   ]
  },
  {
   "cell_type": "markdown",
   "id": "dfe611c0",
   "metadata": {},
   "source": [
    "\n",
    "| Data source | Event Provider | Relationship | Event |\n",
    "|:------------|:---------------|--------------|-------|\n",
    "| Module | Microsoft-Windows-Sysmon/Operational | Process loaded Dll | 7 |"
   ]
  },
  {
   "cell_type": "code",
   "execution_count": null,
   "id": "7ccc6f47",
   "metadata": {},
   "outputs": [],
   "source": [
    "df = spark.sql(\n",
    "'''\n",
    "SELECT ProcessGuid,Image, COUNT(DISTINCT ImageLoaded) AS hits\n",
    "FROM sdTable\n",
    "WHERE Channel = \"Microsoft-Windows-Sysmon/Operational\"\n",
    "    AND EventID = 7\n",
    "    AND ( \n",
    "        ImageLoaded LIKE \"%samlib.dll\"\n",
    "        OR ImageLoaded LIKE \"%vaultcli.dll\"\n",
    "        OR ImageLoaded LIKE \"%hid.dll\"\n",
    "        OR ImageLoaded LIKE \"%winscard.dll\"\n",
    "        OR ImageLoaded LIKE \"%cryptdll.dll\"\n",
    "    )\n",
    "    AND `@timestamp` BETWEEN \"2019-03-00 00:00:00.000\" AND \"2019-06-20 00:00:00.000\"\n",
    "    GROUP BY ProcessGuid,Image ORDER BY hits DESC LIMIT 10\n",
    "'''\n",
    ")\n",
    "df.show(10,False)"
   ]
  },
  {
   "cell_type": "markdown",
   "id": "60c137e4",
   "metadata": {},
   "source": [
    "### Analytic IV\n",
    "Join processes opening a handle and accessing LSASS with potential DLLs loaded in memory and processes loading a few known DLLs loaded by tools like Mimikatz to interact with credentials"
   ]
  },
  {
   "cell_type": "markdown",
   "id": "4d579af5",
   "metadata": {},
   "source": [
    "\n",
    "| Data source | Event Provider | Relationship | Event |\n",
    "|:------------|:---------------|--------------|-------|\n",
    "| Module | Microsoft-Windows-Sysmon/Operational | Process loaded Dll | 7 |\n",
    "| Process | Microsoft-Windows-Sysmon/Operational | Process accessed Process | 10 |"
   ]
  },
  {
   "cell_type": "code",
   "execution_count": null,
   "id": "ace21b02",
   "metadata": {},
   "outputs": [],
   "source": [
    "df = spark.sql(\n",
    "'''\n",
    "SELECT a.`@timestamp`, a.Hostname, m.Image, a.SourceProcessGUID\n",
    "FROM sdTable a\n",
    "INNER JOIN (\n",
    "    SELECT ProcessGuid,Image, COUNT(DISTINCT ImageLoaded) AS hits\n",
    "    FROM sdTable\n",
    "    WHERE Channel = \"Microsoft-Windows-Sysmon/Operational\"\n",
    "        AND EventID = 7\n",
    "        AND ( \n",
    "            ImageLoaded LIKE \"%samlib.dll\"\n",
    "            OR ImageLoaded LIKE \"%vaultcli.dll\"\n",
    "            OR ImageLoaded LIKE \"%hid.dll\"\n",
    "            OR ImageLoaded LIKE \"%winscard.dll\"\n",
    "            OR ImageLoaded LIKE \"%cryptdll.dll\"\n",
    "        )\n",
    "        AND `@timestamp` BETWEEN \"2020-06 00:00:00.000\" AND \"2020-10-20 00:00:00.000\"\n",
    "        GROUP BY ProcessGuid,Image ORDER BY hits DESC LIMIT 10\n",
    "    ) m\n",
    "ON a.SourceProcessGUID = m.ProcessGuid\n",
    "WHERE a.Channel = \"Microsoft-Windows-Sysmon/Operational\"\n",
    "    AND a.EventID = 10\n",
    "    AND a.TargetImage LIKE \"%lsass.exe\"\n",
    "    AND a.CallTrace LIKE \"%UNKNOWN%\"\n",
    "    AND m.hits >= 3\n",
    "'''\n",
    ")\n",
    "df.show(10,False)"
   ]
  },
  {
   "cell_type": "markdown",
   "id": "f6eb8201",
   "metadata": {},
   "source": [
    "### Analytic V\n",
    "Join non system accounts creating processes that open handles and access LSASS with potential DLLs loaded in memory and load a few known DLLs loaded by tools like Mimikatz to interact with credentials on ProcessGuid values"
   ]
  },
  {
   "cell_type": "markdown",
   "id": "30763b02",
   "metadata": {},
   "source": [
    "\n",
    "| Data source | Event Provider | Relationship | Event |\n",
    "|:------------|:---------------|--------------|-------|\n",
    "| Module | Microsoft-Windows-Sysmon/Operational | Process loaded Dll | 7 |\n",
    "| Process | Microsoft-Windows-Sysmon/Operational | Process accessed Process | 10 |\n",
    "| Process | Microsoft-Windows-Sysmon/Operational | User created Process | 1 |"
   ]
  },
  {
   "cell_type": "code",
   "execution_count": null,
   "id": "74fb8beb",
   "metadata": {},
   "outputs": [],
   "source": [
    "df = spark.sql(\n",
    "'''\n",
    "SELECT p.`@timestamp`, p.Hostname, p.Image, p.User\n",
    "FROM sdTable p\n",
    "INNER JOIN (\n",
    "    SELECT a.SourceProcessGUID\n",
    "    FROM sdTable a\n",
    "    INNER JOIN (\n",
    "        SELECT ProcessGuid,Image, COUNT(DISTINCT ImageLoaded) AS hits\n",
    "        FROM sdTable\n",
    "        WHERE Channel = \"Microsoft-Windows-Sysmon/Operational\"\n",
    "            AND EventID = 7\n",
    "            AND ( \n",
    "                ImageLoaded LIKE \"%samlib.dll\"\n",
    "                OR ImageLoaded LIKE \"%vaultcli.dll\"\n",
    "                OR ImageLoaded LIKE \"%hid.dll\"\n",
    "                OR ImageLoaded LIKE \"%winscard.dll\"\n",
    "                OR ImageLoaded LIKE \"%cryptdll.dll\"\n",
    "            )\n",
    "            AND `@timestamp` BETWEEN \"2019-03-00 00:00:00.000\" AND \"2019-06-20 00:00:00.000\"\n",
    "            GROUP BY ProcessGuid,Image ORDER BY hits DESC LIMIT 10\n",
    "    ) m\n",
    "    ON a.SourceProcessGUID = m.ProcessGuid\n",
    "    WHERE a.Channel = \"Microsoft-Windows-Sysmon/Operational\"\n",
    "        AND a.EventID = 10\n",
    "        AND a.TargetImage LIKE \"%lsass.exe\"\n",
    "        AND a.CallTrace LIKE \"%UNKNOWN%\"\n",
    "        AND m.hits >= 3\n",
    ") s\n",
    "ON p.ProcessGuid = s.SourceProcessGUID\n",
    "WHERE p.Channel = \"Microsoft-Windows-Sysmon/Operational\"\n",
    "    AND p.EventID = 1\n",
    "'''\n",
    ")\n",
    "df.show(10,False)"
   ]
  },
  {
   "cell_type": "markdown",
   "id": "54012122",
   "metadata": {},
   "source": [
    "## Known Bypasses"
   ]
  },
  {
   "cell_type": "markdown",
   "id": "5bc232d8",
   "metadata": {},
   "source": [
    "\n",
    "| Idea | Playbook |\n",
    "|:-----|:---------|\n",
    "| Inject into known processes accessing LSASS on a regular basis such as pmfexe.exe and as System | [None](https://github.com/OTRF/ThreatHunter-Playbook/blob/master/playbooks/None.yaml) |"
   ]
  },
  {
   "cell_type": "markdown",
   "id": "e714d9b4",
   "metadata": {},
   "source": [
    "## False Positives\n",
    "* The Microsoft Monitoring Agent binary pmfexe.exe is one of the most common ones that accesses Lsass.exe with at least 0x10 permissions as System. That could be useful to blend in through the noise."
   ]
  },
  {
   "cell_type": "markdown",
   "id": "6a0bef47",
   "metadata": {},
   "source": [
    "## Hunter Notes\n",
    "* Looking for processes accessing LSASS with the 0x10(VmRead) rights from a non-system account is very suspicious and not as common as you might think.\n",
    "* GrantedAccess code 0x1010 is the new permission Mimikatz v.20170327 uses for command \"sekurlsa::logonpasswords\". You can specifically look for that from processes like PowerShell to create a basic signature.\n",
    "  * 0x00000010 = VMRead\n",
    "  * 0x00001000 = QueryLimitedInfo\n",
    "* GrantedAccess code 0x1010 is less common than 0x1410 in large environment.\n",
    "* Out of all the Modules that Mimikatz needs to function, there are 5 modules that when loaded all together by the same process is very suspicious.\n",
    "  * samlib.dll, vaultcli.dll, hid.dll, winscard.dll, cryptdll.dll\n",
    "* For signatures purposes, look for processes accessing Lsass.exe with a potential CallTrace Pattern> /C:\\Windows\\SYSTEM32\\ntdll.dll+[a-zA-Z0-9]{1,}|C:\\Windows\\System32\\KERNELBASE.dll+[a-zA-Z0-9]{1,}|UNKNOWN.*/\n",
    "* You could use a stack counting technique to stack all the values of the permissions invoked by processes accessing Lsass.exe. You will have to do some filtering to reduce the number of false positives. You could then group the results with other events such as modules being loaded (EID 7). A time window of 1-2 seconds could help to get to a reasonable number of events for analysis."
   ]
  },
  {
   "cell_type": "markdown",
   "id": "cc135439",
   "metadata": {},
   "source": [
    "## Hunt Output\n",
    "\n",
    "| Type | Link |\n",
    "| :----| :----|\n",
    "| Sigma Rule | [https://github.com/SigmaHQ/sigma/blob/master/rules/windows/builtin/security/win_lsass_access_non_system_account.yml](https://github.com/SigmaHQ/sigma/blob/master/rules/windows/builtin/security/win_lsass_access_non_system_account.yml) |"
   ]
  },
  {
   "cell_type": "markdown",
   "id": "7521361e",
   "metadata": {},
   "source": [
    "## References\n",
    "* https://tyranidslair.blogspot.com/2017/10/bypassing-sacl-auditing-on-lsass.htmls\n",
    "* https://adsecurity.org/?page_id=1821#SEKURLSALogonPasswords\n",
    "* https://github.com/PowerShellMafia/PowerSploit/tree/dev\n",
    "* http://clymb3r.wordpress.com/2013/04/09/modifying-mimikatz-to-be-loaded-using-invoke-reflectivedllinjection-ps1/"
   ]
  }
 ],
 "metadata": {
  "kernelspec": {
   "display_name": "PySpark_Python3",
   "language": "python",
   "name": "pyspark3"
  },
  "language_info": {
   "codemirror_mode": {
    "name": "ipython",
    "version": 3
   },
   "file_extension": ".py",
   "mimetype": "text/x-python",
   "name": "python",
   "nbconvert_exporter": "python",
   "pygments_lexer": "ipython3",
   "version": "3.7.3"
  }
 },
 "nbformat": 4,
 "nbformat_minor": 5
}
