{
 "cells": [
  {
   "cell_type": "markdown",
   "id": "44e2a462",
   "metadata": {},
   "source": [
    "# Domain DPAPI Backup Key Extraction"
   ]
  },
  {
   "cell_type": "markdown",
   "id": "601ad32e",
   "metadata": {},
   "source": [
    "## Metadata"
   ]
  },
  {
   "cell_type": "markdown",
   "id": "36e392df",
   "metadata": {},
   "source": [
    "\n",
    "|     Metadata      |  Value  |\n",
    "|:------------------|:---|\n",
    "| collaborators     | ['@Cyb3rWard0g', '@Cyb3rPandaH'] |\n",
    "| creation date     | 2019/06/20 |\n",
    "| modification date | 2020/09/20 |\n",
    "| playbook related  | [] |"
   ]
  },
  {
   "cell_type": "markdown",
   "id": "d6e5b79e",
   "metadata": {},
   "source": [
    "## Hypothesis\n",
    "Adversaries might be extracting the DPAPI domain backup key from my DC to be able to decrypt any domain user master key files."
   ]
  },
  {
   "cell_type": "markdown",
   "id": "4e2c9ca4",
   "metadata": {},
   "source": [
    "## Technical Context\n",
    "Starting with MicrosoftÂ® WindowsÂ® 2000, the operating system began to provide a data protection application-programming interface (API).\n",
    "This Data Protection API (DPAPI) is a pair of function calls (CryptProtectData / CryptUnprotectData) that provide operating system-level data protection services to user and system processes.\n",
    "DPAPI initially generates a strong key called a MasterKey, which is protected by the user's password. DPAPI uses a standard cryptographic process called Password-Based Key Derivation to generate a key from the password.\n",
    "This password-derived key is then used with Triple-DES to encrypt the MasterKey, which is finally stored in the user's profile directory.\n",
    "\n",
    "When a computer is a member of a domain, DPAPI has a backup mechanism to allow unprotection of the data. When a MasterKey is generated, DPAPI talks to a Domain Controller.\n",
    "Domain Controllers have a domain-wide public/private key pair, associated solely with DPAPI. The local DPAPI client gets the Domain Controller public key from a Domain Controller by using a mutually authenticated and privacy protected RPC call. The client encrypts the MasterKey with the Domain Controller public key. It then stores this backup MasterKey along with the MasterKey protected by the user's password."
   ]
  },
  {
   "cell_type": "markdown",
   "id": "edc0b5b0",
   "metadata": {},
   "source": [
    "## Offensive Tradecraft\n",
    "If an adversary obtains domain admin (or equivalent) privileges, the domain backup key can be stolen and used to decrypt any domain user master key.\n",
    "Tools such as Mimikatz with the method/module lsadump::backupkeys can be used to extract the domain backup key.\n",
    "It uses the LsaOpenPolicy/LsaRetrievePrivateData API calls (instead of MS-BKRP) to retrieve the value for the G$BCKUPKEY_PREFERRED and G$BCKUPKEY_P LSA secrets.\n",
    "\n",
    "Additional reading\n",
    "* https://github.com/OTRF/ThreatHunter-Playbook/tree/master/docs/library/windows/data_protection_api.md\n",
    "* https://github.com/OTRF/ThreatHunter-Playbook/tree/master/docs/library/windows/lsa_policy_objects.md"
   ]
  },
  {
   "cell_type": "markdown",
   "id": "98164785",
   "metadata": {},
   "source": [
    "## Security Datasets"
   ]
  },
  {
   "cell_type": "markdown",
   "id": "af0b42be",
   "metadata": {},
   "source": [
    "\n",
    "| Metadata  |    Value  |\n",
    "|:----------|:----------|\n",
    "| docs      | https://securitydatasets.com/notebooks/atomic/windows/credential_access/SDWIN-190518235535.html        |\n",
    "| link      | [https://raw.githubusercontent.com/OTRF/Security-Datasets/master/datasets/atomic/windows/credential_access/host/empire_mimikatz_backupkeys_dcerpc_smb_lsarpc.zip](https://raw.githubusercontent.com/OTRF/Security-Datasets/master/datasets/atomic/windows/credential_access/host/empire_mimikatz_backupkeys_dcerpc_smb_lsarpc.zip)  |"
   ]
  },
  {
   "cell_type": "markdown",
   "id": "9aca3204",
   "metadata": {},
   "source": [
    "## Analytics"
   ]
  },
  {
   "cell_type": "markdown",
   "id": "a77dda46",
   "metadata": {},
   "source": [
    "### Initialize Analytics Engine"
   ]
  },
  {
   "cell_type": "code",
   "execution_count": null,
   "id": "e478524f",
   "metadata": {},
   "outputs": [],
   "source": [
    "from openhunt.mordorutils import *\n",
    "spark = get_spark()"
   ]
  },
  {
   "cell_type": "markdown",
   "id": "ad6fe6de",
   "metadata": {},
   "source": [
    "### Download & Process Security Dataset"
   ]
  },
  {
   "cell_type": "code",
   "execution_count": null,
   "id": "f812320e",
   "metadata": {},
   "outputs": [],
   "source": [
    "sd_file = \"https://raw.githubusercontent.com/OTRF/Security-Datasets/master/datasets/atomic/windows/credential_access/host/empire_mimikatz_backupkeys_dcerpc_smb_lsarpc.zip\"\n",
    "registerMordorSQLTable(spark, sd_file, \"sdTable\")"
   ]
  },
  {
   "cell_type": "markdown",
   "id": "36abc8aa",
   "metadata": {},
   "source": [
    "### Analytic I\n",
    "Monitor for any SecretObject with the string BCKUPKEY in the ObjectName"
   ]
  },
  {
   "cell_type": "markdown",
   "id": "47a5fbbd",
   "metadata": {},
   "source": [
    "\n",
    "| Data source | Event Provider | Relationship | Event |\n",
    "|:------------|:---------------|--------------|-------|\n",
    "| Windows active directory | Microsoft-Windows-Security-Auditing | User accessed AD Object | 4662 |"
   ]
  },
  {
   "cell_type": "code",
   "execution_count": null,
   "id": "b9832bee",
   "metadata": {},
   "outputs": [],
   "source": [
    "df = spark.sql(\n",
    "'''\n",
    "SELECT `@timestamp`, Hostname, ObjectServer, ObjectType, ObjectName\n",
    "FROM sdTable\n",
    "WHERE LOWER(Channel) = \"security\"\n",
    "    AND EventID = 4662\n",
    "    AND AccessMask = \"0x2\"\n",
    "    AND lower(ObjectName) LIKE \"%bckupkey%\"\n",
    "'''\n",
    ")\n",
    "df.show(10,False)"
   ]
  },
  {
   "cell_type": "markdown",
   "id": "a5dc362a",
   "metadata": {},
   "source": [
    "### Analytic II\n",
    "We can get the user logon id of the user that accessed the *bckupkey* object and JOIN it with a successful logon event (4624) user logon id to find the source IP"
   ]
  },
  {
   "cell_type": "markdown",
   "id": "a7aa2640",
   "metadata": {},
   "source": [
    "\n",
    "| Data source | Event Provider | Relationship | Event |\n",
    "|:------------|:---------------|--------------|-------|\n",
    "| Authentication log | Microsoft-Windows-Security-Auditing | User authenticated Host | 4624 |\n",
    "| Windows active directory | Microsoft-Windows-Security-Auditing | User accessed AD Object | 4662 |"
   ]
  },
  {
   "cell_type": "code",
   "execution_count": null,
   "id": "f05d5ecb",
   "metadata": {},
   "outputs": [],
   "source": [
    "df = spark.sql(\n",
    "'''\n",
    "SELECT o.`@timestamp`, o.Hostname, o.ObjectName, a.IpAddress\n",
    "FROM sdTable o\n",
    "INNER JOIN (\n",
    "    SELECT Hostname,TargetUserName,TargetLogonId,IpAddress\n",
    "    FROM sdTable\n",
    "    WHERE LOWER(Channel) = \"security\"\n",
    "        AND EventID = 4624\n",
    "        AND LogonType = 3\n",
    "        AND NOT TargetUserName LIKE \"%$\"\n",
    "    ) a\n",
    "ON o.SubjectLogonId = a.TargetLogonId\n",
    "WHERE LOWER(Channel) = \"security\"\n",
    "    AND o.EventID = 4662\n",
    "    AND o.AccessMask = \"0x2\"\n",
    "    AND lower(o.ObjectName) LIKE \"%bckupkey%\"\n",
    "    AND o.Hostname = a.Hostname\n",
    "'''\n",
    ")\n",
    "df.show(10,False)"
   ]
  },
  {
   "cell_type": "markdown",
   "id": "1a2e29dc",
   "metadata": {},
   "source": [
    "### Analytic III\n",
    "Monitoring for access to the protected_storage named pipe via SMB is very interesting to identify potential DPAPI activity over the network. Mimikatz uses the Lsarpc named pipe now."
   ]
  },
  {
   "cell_type": "markdown",
   "id": "9acef4bd",
   "metadata": {},
   "source": [
    "\n",
    "| Data source | Event Provider | Relationship | Event |\n",
    "|:------------|:---------------|--------------|-------|\n",
    "| File | Microsoft-Windows-Security-Auditing | User accessed File | 5145 |"
   ]
  },
  {
   "cell_type": "code",
   "execution_count": null,
   "id": "6ed40c94",
   "metadata": {},
   "outputs": [],
   "source": [
    "df = spark.sql(\n",
    "'''\n",
    "SELECT `@timestamp`, Hostname, SubjectUserName, ShareName, RelativeTargetName, AccessMask, IpAddress\n",
    "FROM sdTable\n",
    "WHERE LOWER(Channel) = \"security\"\n",
    "    AND EventID = 5145\n",
    "    AND ShareName LIKE \"%IPC%\"\n",
    "    AND RelativeTargetName = \"protected_storage\"\n",
    "'''\n",
    ")\n",
    "df.show(10,False)"
   ]
  },
  {
   "cell_type": "markdown",
   "id": "613dfa97",
   "metadata": {},
   "source": [
    "### Analytic IV\n",
    "This event generates every time that a backup is attempted for the DPAPI Master Key. When a computer is a member of a domain, DPAPI has a backup mechanism to allow unprotection of the data. When a Master Key is generated, DPAPI communicates with a domain controller. It migt be aleready created and this event might not trigger."
   ]
  },
  {
   "cell_type": "markdown",
   "id": "0c52190a",
   "metadata": {},
   "source": [
    "\n",
    "| Data source | Event Provider | Relationship | Event |\n",
    "|:------------|:---------------|--------------|-------|\n",
    "| File | Microsoft-Windows-Security-Auditing | User requested access File | 4692 |"
   ]
  },
  {
   "cell_type": "code",
   "execution_count": null,
   "id": "3f906c74",
   "metadata": {},
   "outputs": [],
   "source": [
    "df = spark.sql(\n",
    "'''\n",
    "SELECT `@timestamp`, Hostname, SubjectUserName\n",
    "FROM sdTable\n",
    "WHERE LOWER(Channel) = \"security\"\n",
    "    AND EventID = 4692\n",
    "'''\n",
    ")\n",
    "df.show(10,False)"
   ]
  },
  {
   "cell_type": "markdown",
   "id": "348fdde2",
   "metadata": {},
   "source": [
    "## Known Bypasses"
   ]
  },
  {
   "cell_type": "markdown",
   "id": "d6d362e6",
   "metadata": {},
   "source": [
    "## False Positives\n",
    "None"
   ]
  },
  {
   "cell_type": "markdown",
   "id": "68b842e0",
   "metadata": {},
   "source": [
    "## Hunter Notes\n",
    "* Backup key can be displayed as base64 blob or exported as a .pvk file on disk (Mimikatz-like)\n",
    "* Windows security event 4692 (Backup of data protection master key was attempted) also generates every time a new DPAPI Master Key is generated\n",
    "* When a computer is a member of a domain, DPAPI has a backup mechanism to allow unprotection of the data. When a Master Key is generated, DPAPI communicates with a domain controller."
   ]
  },
  {
   "cell_type": "markdown",
   "id": "b65ead97",
   "metadata": {},
   "source": [
    "## Hunt Output\n",
    "\n",
    "| Type | Link |\n",
    "| :----| :----|\n",
    "| Sigma Rule | [https://github.com/SigmaHQ/sigma/blob/master/rules/windows/builtin/security/win_dpapi_domain_backupkey_extraction.yml](https://github.com/SigmaHQ/sigma/blob/master/rules/windows/builtin/security/win_dpapi_domain_backupkey_extraction.yml) |\n",
    "| Sigma Rule | [https://github.com/SigmaHQ/sigma/blob/master/rules/windows/builtin/security/win_protected_storage_service_access.yml](https://github.com/SigmaHQ/sigma/blob/master/rules/windows/builtin/security/win_protected_storage_service_access.yml) |\n",
    "| Sigma Rule | [https://github.com/SigmaHQ/sigma/blob/master/rules/windows/builtin/security/win_dpapi_domain_masterkey_backup_attempt.yml](https://github.com/SigmaHQ/sigma/blob/master/rules/windows/builtin/security/win_dpapi_domain_masterkey_backup_attempt.yml) |"
   ]
  },
  {
   "cell_type": "markdown",
   "id": "758f186c",
   "metadata": {},
   "source": [
    "## References\n",
    "* https://www.harmj0y.net/blog/redteaming/operational-guidance-for-offensive-user-dpapi-abuse/\n",
    "* https://digital-forensics.sans.org/summit-archives/dfirprague14/Give_Me_the_Password_and_Ill_Rule_the_World_Francesco_Picasso.pdf\n",
    "* https://docs.microsoft.com/en-us/windows/desktop/devnotes/pstore\n",
    "* https://github.com/gentilkiwi/mimikatz/blob/641a3b29acd326d07269300d94dceafea041f760/mimikatz/modules/kuhl_m_lsadump.c#L1907\n",
    "* https://github.com/GhostPack/SharpDPAPI/blob/6388040a92e59fc0d5a82b4ec31599aa6778fd3b/SharpDPAPI/lib/Backup.cs#L43\n",
    "* https://github.com/gentilkiwi/mimikatz/blob/641a3b29acd326d07269300d94dceafea041f760/mimikatz/modules/kuhl_m_lsadump.c#L1906-L1926\n",
    "* https://github.com/gentilkiwi/mimikatz/blob/641a3b29acd326d07269300d94dceafea041f760/mimikatz/modules/kuhl_m_lsadump.c#L1758\n",
    "* https://docs.microsoft.com/en-us/openspecs/windows_protocols/ms-lsad/88c6bd18-6c40-4a82-ae19-fe7bfec5108b"
   ]
  }
 ],
 "metadata": {
  "kernelspec": {
   "display_name": "PySpark_Python3",
   "language": "python",
   "name": "pyspark3"
  },
  "language_info": {
   "codemirror_mode": {
    "name": "ipython",
    "version": 3
   },
   "file_extension": ".py",
   "mimetype": "text/x-python",
   "name": "python",
   "nbconvert_exporter": "python",
   "pygments_lexer": "ipython3",
   "version": "3.7.3"
  }
 },
 "nbformat": 4,
 "nbformat_minor": 5
}
