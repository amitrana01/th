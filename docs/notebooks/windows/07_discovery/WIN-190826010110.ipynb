{
 "cells": [
  {
   "cell_type": "markdown",
   "id": "b3afe4fc",
   "metadata": {},
   "source": [
    "# Remote Service Control Manager Handle"
   ]
  },
  {
   "cell_type": "markdown",
   "id": "66b6ca9d",
   "metadata": {},
   "source": [
    "## Metadata"
   ]
  },
  {
   "cell_type": "markdown",
   "id": "a7d8d60d",
   "metadata": {},
   "source": [
    "\n",
    "|     Metadata      |  Value  |\n",
    "|:------------------|:---|\n",
    "| collaborators     | ['@Cyb3rWard0g', '@Cyb3rPandaH'] |\n",
    "| creation date     | 2019/08/26 |\n",
    "| modification date | 2020/09/20 |\n",
    "| playbook related  | [] |"
   ]
  },
  {
   "cell_type": "markdown",
   "id": "f0d93b0a",
   "metadata": {},
   "source": [
    "## Hypothesis\n",
    "Adversaries might be attempting to open up a handle to the service control manager (SCM) database on remote endpoints to check for local admin access in my environment."
   ]
  },
  {
   "cell_type": "markdown",
   "id": "f96d1056",
   "metadata": {},
   "source": [
    "## Technical Context\n",
    "Often times, when an adversary lands on an endpoint, the current user does not have local administrator privileges over the compromised system.\n",
    "While some adversaries consider this situation a dead end, others find it very interesting to identify which machines on the network the current user has administrative access to.\n",
    "One common way to accomplish this is by attempting to open up a handle to the service control manager (SCM) database on remote endpoints in the network with SC_MANAGER_ALL_ACCESS (0xF003F) access rights.\n",
    "The Service Control Manager (SCM) is a remote procedure call (RPC) server, so that service configuration and service control programs can manipulate services on remote machines.\n",
    "Only processes with Administrator privileges are able to open a handle to the SCM database.\n",
    "This database is also known as the ServicesActive database.\n",
    "Therefore, it is very effective to check if the current user has administrative or local admin access to other endpoints in the network."
   ]
  },
  {
   "cell_type": "markdown",
   "id": "a50cd8e4",
   "metadata": {},
   "source": [
    "## Offensive Tradecraft\n",
    "An adversary can simply use the Win32 API function [OpenSCManagerA](https://docs.microsoft.com/en-us/windows/win32/api/winsvc/nf-winsvc-openscmanagera) to attempt to establish a connection to the service control manager (SCM) on the specified computer and open the service control manager database.\n",
    "If this succeeds (A non-zero handle is returned), the current user context has local administrator acess to the remote host.\n",
    "\n",
    "Additional reading\n",
    "* https://github.com/OTRF/ThreatHunter-Playbook/tree/master/docs/library/windows/service_control_manager.md"
   ]
  },
  {
   "cell_type": "markdown",
   "id": "dd802386",
   "metadata": {},
   "source": [
    "## Security Datasets"
   ]
  },
  {
   "cell_type": "markdown",
   "id": "c42a6a72",
   "metadata": {},
   "source": [
    "\n",
    "| Metadata  |    Value  |\n",
    "|:----------|:----------|\n",
    "| docs      | https://securitydatasets.com/notebooks/atomic/windows/07_discovery/SDWIN-190518224039.html        |\n",
    "| link      | [https://raw.githubusercontent.com/OTRF/Security-Datasets/master/datasets/atomic/windows/discovery/host/empire_find_localadmin_smb_svcctl_OpenSCManager.zip](https://raw.githubusercontent.com/OTRF/Security-Datasets/master/datasets/atomic/windows/discovery/host/empire_find_localadmin_smb_svcctl_OpenSCManager.zip)  |"
   ]
  },
  {
   "cell_type": "markdown",
   "id": "3ef9875f",
   "metadata": {},
   "source": [
    "## Analytics"
   ]
  },
  {
   "cell_type": "markdown",
   "id": "948cad35",
   "metadata": {},
   "source": [
    "### Initialize Analytics Engine"
   ]
  },
  {
   "cell_type": "code",
   "execution_count": null,
   "id": "c77e20a8",
   "metadata": {},
   "outputs": [],
   "source": [
    "from openhunt.mordorutils import *\n",
    "spark = get_spark()"
   ]
  },
  {
   "cell_type": "markdown",
   "id": "eeef74bd",
   "metadata": {},
   "source": [
    "### Download & Process Security Dataset"
   ]
  },
  {
   "cell_type": "code",
   "execution_count": null,
   "id": "4d9538b3",
   "metadata": {},
   "outputs": [],
   "source": [
    "sd_file = \"https://raw.githubusercontent.com/OTRF/Security-Datasets/master/datasets/atomic/windows/discovery/host/empire_find_localadmin_smb_svcctl_OpenSCManager.zip\"\n",
    "registerMordorSQLTable(spark, sd_file, \"sdTable\")"
   ]
  },
  {
   "cell_type": "markdown",
   "id": "16c58b52",
   "metadata": {},
   "source": [
    "### Analytic I\n",
    "Detects non-system users failing to get a handle of the SCM database."
   ]
  },
  {
   "cell_type": "markdown",
   "id": "92532614",
   "metadata": {},
   "source": [
    "\n",
    "| Data source | Event Provider | Relationship | Event |\n",
    "|:------------|:---------------|--------------|-------|\n",
    "| File | Microsoft-Windows-Security-Auditing | User requested access File | 4656 |"
   ]
  },
  {
   "cell_type": "code",
   "execution_count": null,
   "id": "703a240f",
   "metadata": {},
   "outputs": [],
   "source": [
    "df = spark.sql(\n",
    "'''\n",
    "SELECT `@timestamp`, Hostname, SubjectUserName, ProcessName, ObjectName\n",
    "FROM sdTable\n",
    "WHERE LOWER(Channel) = \"security\"\n",
    "    AND EventID = 4656\n",
    "    AND ObjectType = \"SC_MANAGER OBJECT\"\n",
    "    AND ObjectName = \"ServicesActive\"\n",
    "    AND AccessMask = \"0xf003f\"\n",
    "    AND NOT SubjectLogonId = \"0x3e4\"\n",
    "'''\n",
    ")\n",
    "df.show(10,False)"
   ]
  },
  {
   "cell_type": "markdown",
   "id": "9cde1c7a",
   "metadata": {},
   "source": [
    "### Analytic II\n",
    "Look for non-system accounts performing privileged operations on protected subsystem objects such as the SCM database"
   ]
  },
  {
   "cell_type": "markdown",
   "id": "35d899ac",
   "metadata": {},
   "source": [
    "\n",
    "| Data source | Event Provider | Relationship | Event |\n",
    "|:------------|:---------------|--------------|-------|\n",
    "| File | Microsoft-Windows-Security-Auditing | User requested access File | 4674 |"
   ]
  },
  {
   "cell_type": "code",
   "execution_count": null,
   "id": "d2824432",
   "metadata": {},
   "outputs": [],
   "source": [
    "df = spark.sql(\n",
    "'''\n",
    "SELECT `@timestamp`, Hostname, SubjectUserName, ProcessName, ObjectName, PrivilegeList, ObjectServer\n",
    "FROM sdTable\n",
    "WHERE LOWER(Channel) = \"security\"\n",
    "    AND EventID = 4674\n",
    "    AND ObjectType = \"SC_MANAGER OBJECT\"\n",
    "    AND ObjectName = \"ServicesActive\"\n",
    "    AND PrivilegeList = \"SeTakeOwnershipPrivilege\"\n",
    "    AND NOT SubjectLogonId = \"0x3e4\"\n",
    "'''\n",
    ")\n",
    "df.show(10,False)"
   ]
  },
  {
   "cell_type": "markdown",
   "id": "c01ae027",
   "metadata": {},
   "source": [
    "### Analytic III\n",
    "Look for inbound network connections to services.exe from other endpoints in the network. Same SourceAddress, but different Hostname"
   ]
  },
  {
   "cell_type": "markdown",
   "id": "60f9b849",
   "metadata": {},
   "source": [
    "\n",
    "| Data source | Event Provider | Relationship | Event |\n",
    "|:------------|:---------------|--------------|-------|\n",
    "| Process | Microsoft-Windows-Security-Auditing | Process connected to Port | 5156 |\n",
    "| Process | Microsoft-Windows-Security-Auditing | Process connected to Ip | 5156 |"
   ]
  },
  {
   "cell_type": "code",
   "execution_count": null,
   "id": "8b56f4a0",
   "metadata": {},
   "outputs": [],
   "source": [
    "df = spark.sql(\n",
    "'''\n",
    "SELECT `@timestamp`, Hostname, Application, SourcePort, SourceAddress, DestPort, DestAddress\n",
    "FROM sdTable\n",
    "WHERE LOWER(Channel) = \"security\"\n",
    "    AND EventID = 5156\n",
    "    AND Application LIKE \"%\\\\\\services.exe\"\n",
    "    AND LayerRTID = 44\n",
    "'''\n",
    ")\n",
    "df.show(10,False)"
   ]
  },
  {
   "cell_type": "markdown",
   "id": "e1d13c43",
   "metadata": {},
   "source": [
    "### Analytic IV\n",
    "Look for several network connection maded by services.exe from different endpoints to the same destination"
   ]
  },
  {
   "cell_type": "markdown",
   "id": "6d56365d",
   "metadata": {},
   "source": [
    "\n",
    "| Data source | Event Provider | Relationship | Event |\n",
    "|:------------|:---------------|--------------|-------|\n",
    "| Process | Microsoft-Windows-Security-Auditing | Process connected to Port | 3 |\n",
    "| Process | Microsoft-Windows-Security-Auditing | Process connected to Ip | 3 |"
   ]
  },
  {
   "cell_type": "code",
   "execution_count": null,
   "id": "230d19f5",
   "metadata": {},
   "outputs": [],
   "source": [
    "df = spark.sql(\n",
    "'''\n",
    "SELECT `@timestamp`, Hostname, User, SourcePort, SourceIp, DestinationPort, DestinationIp\n",
    "FROM sdTable\n",
    "WHERE Channel = \"Microsoft-Windows-Sysmon/Operational\"\n",
    "    AND EventID = 3\n",
    "    AND Image LIKE \"%\\\\\\services.exe\"\n",
    "'''\n",
    ")\n",
    "df.show(10,False)"
   ]
  },
  {
   "cell_type": "markdown",
   "id": "30f72111",
   "metadata": {},
   "source": [
    "### Analytic V\n",
    "Look for non-system accounts performing privileged operations on protected subsystem objects such as the SCM database from other endpoints in the network"
   ]
  },
  {
   "cell_type": "markdown",
   "id": "76f04330",
   "metadata": {},
   "source": [
    "\n",
    "| Data source | Event Provider | Relationship | Event |\n",
    "|:------------|:---------------|--------------|-------|\n",
    "| Authentication log | Microsoft-Windows-Security-Auditing | User authenticated Host | 4624 |\n",
    "| File | Microsoft-Windows-Security-Auditing | User requested access File | 4656 |"
   ]
  },
  {
   "cell_type": "code",
   "execution_count": null,
   "id": "54061f06",
   "metadata": {},
   "outputs": [],
   "source": [
    "df = spark.sql(\n",
    "'''\n",
    "SELECT o.`@timestamp`, o.Hostname, o.SubjectUserName, o.ObjectType,o.ObjectName, o.PrivilegeList, a.IpAddress\n",
    "FROM sdTable o\n",
    "INNER JOIN (\n",
    "    SELECT Hostname,TargetUserName,TargetLogonId,IpAddress\n",
    "    FROM sdTable\n",
    "    WHERE LOWER(Channel) = \"security\"\n",
    "        AND EventID = 4624\n",
    "        AND LogonType = 3\n",
    "        AND NOT TargetUserName LIKE \"%$\"\n",
    "    ) a\n",
    "ON o.SubjectLogonId = a.TargetLogonId\n",
    "WHERE LOWER(o.Channel) = \"security\"\n",
    "    AND o.EventID = 4656\n",
    "    AND NOT o.SubjectLogonId = \"0x3e4\"\n",
    "'''\n",
    ")\n",
    "df.show(10,False)"
   ]
  },
  {
   "cell_type": "markdown",
   "id": "7dbb866f",
   "metadata": {},
   "source": [
    "## Known Bypasses"
   ]
  },
  {
   "cell_type": "markdown",
   "id": "ba4bf2e8",
   "metadata": {},
   "source": [
    "## False Positives\n",
    "None"
   ]
  },
  {
   "cell_type": "markdown",
   "id": "352c9cac",
   "metadata": {},
   "source": [
    "## Hunter Notes\n",
    "* Event id 4656 gets generated only when the OpenSCManager API call fails to get a handle to the SCM database. There is not SACL for SCM database so success attempts will not be logged.\n",
    "* Event id 4674 gets triggered when the SCM database is accessed. Filter known or common accounts that obtain a handle to SCM on a regular basis (i.e vulnerability scanners)\n",
    "* You can join security events 4674 and security events 4624 on the LogonID field and filter results on logon type 3 or network to add more context to your query and look for handles to SCM from remote endpoints.\n",
    "* Look for the same endpoint or IP address to many remote hosts to find potential aggressive attempts.\n",
    "* You can also join security events 4674 where the object name is servicesactive (SCM database) with other security events on the object handle. This will allow you to identify what was actually done after the handle was opened. For example, the same handle can be used to create a service (i.e. PSEXESVC)\n",
    "* Event id 5156 gets generated on the target as an inbound network event with process name services.exe. You might have to stack the SourceAddress field value based on your environment noise."
   ]
  },
  {
   "cell_type": "markdown",
   "id": "1ff8aa6e",
   "metadata": {},
   "source": [
    "## Hunt Output\n",
    "\n",
    "| Type | Link |\n",
    "| :----| :----|\n",
    "| Sigma Rule | [https://github.com/SigmaHQ/sigma/blob/master/rules/windows/builtin/security/win_scm_database_handle_failure.yml](https://github.com/SigmaHQ/sigma/blob/master/rules/windows/builtin/security/win_scm_database_handle_failure.yml) |\n",
    "| Sigma Rule | [https://github.com/SigmaHQ/sigma/blob/master/rules/windows/builtin/security/win_scm_database_privileged_operation.yml](https://github.com/SigmaHQ/sigma/blob/master/rules/windows/builtin/security/win_scm_database_privileged_operation.yml) |"
   ]
  },
  {
   "cell_type": "markdown",
   "id": "9c5985e6",
   "metadata": {},
   "source": [
    "## References\n",
    "* https://docs.microsoft.com/en-us/windows/win32/services/service-security-and-access-rights\n",
    "* https://github.com/EmpireProject/Empire/blob/dev/data/module_source/situational_awareness/network/powerview.ps1#L15473\n",
    "* https://github.com/rapid7/metasploit-framework/blob/master/modules/post/windows/gather/local_admin_search_enum.rb#L217\n",
    "* https://github.com/nettitude/PoshC2_Python/blob/master/Modules/Get-System.ps1#L222\n",
    "* https://www.pentestgeek.com/metasploit/find-local-admin-with-metasploit\n",
    "* http://www.harmj0y.net/blog/penetesting/finding-local-admin-with-the-veil-framework/\n",
    "* https://www.slideshare.net/harmj0y/derbycon-the-unintended-risks-of-trusting-active-directory\n",
    "* https://docs.microsoft.com/en-us/dotnet/api/system.serviceprocess.servicebase.servicehandle?view=netframework-4.8\n",
    "* https://community.rsa.com/community/products/netwitness/blog/2019/04/10/detecting-lateral-movement-in-rsa-netwitness-winexe"
   ]
  }
 ],
 "metadata": {
  "kernelspec": {
   "display_name": "PySpark_Python3",
   "language": "python",
   "name": "pyspark3"
  },
  "language_info": {
   "codemirror_mode": {
    "name": "ipython",
    "version": 3
   },
   "file_extension": ".py",
   "mimetype": "text/x-python",
   "name": "python",
   "nbconvert_exporter": "python",
   "pygments_lexer": "ipython3",
   "version": "3.7.3"
  }
 },
 "nbformat": 4,
 "nbformat_minor": 5
}
