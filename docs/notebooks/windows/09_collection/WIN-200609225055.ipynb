{
 "cells": [
  {
   "cell_type": "markdown",
   "id": "8a6ee907",
   "metadata": {},
   "source": [
    "# Access to Microphone Device"
   ]
  },
  {
   "cell_type": "markdown",
   "id": "23d7dcb7",
   "metadata": {},
   "source": [
    "## Metadata"
   ]
  },
  {
   "cell_type": "markdown",
   "id": "03fcf2ba",
   "metadata": {},
   "source": [
    "\n",
    "|     Metadata      |  Value  |\n",
    "|:------------------|:---|\n",
    "| collaborators     | ['@Cyb3rWard0g', '@Cyb3rPandaH'] |\n",
    "| creation date     | 2020/06/09 |\n",
    "| modification date | 2020/09/20 |\n",
    "| playbook related  | [] |"
   ]
  },
  {
   "cell_type": "markdown",
   "id": "e43be15d",
   "metadata": {},
   "source": [
    "## Hypothesis\n",
    "Adversaries might be accessing the microphone in endpoints over the network."
   ]
  },
  {
   "cell_type": "markdown",
   "id": "710583c0",
   "metadata": {},
   "source": [
    "## Technical Context\n",
    "None"
   ]
  },
  {
   "cell_type": "markdown",
   "id": "e877e145",
   "metadata": {},
   "source": [
    "## Offensive Tradecraft\n",
    "An adversary can leverage a computer's peripheral devices (e.g., microphones and webcams) or applications (e.g., voice and video call services) to capture audio recordings for the purpose of listening into sensitive conversations to gather information.\n",
    "Based on some research from [@svch0st](https://twitter.com/svch0st) you can to determine when and how long a process had access to the microphone of an endpoint by monitoring the following registry key\n",
    "  * HKEY_LOCAL_MACHINE\\SOFTWARE\\Microsoft\\Windows\\CurrentVersion\\CapabilityAccessManager\\ConsentStore\\microphone\\."
   ]
  },
  {
   "cell_type": "markdown",
   "id": "b9dcf1a8",
   "metadata": {},
   "source": [
    "## Security Datasets"
   ]
  },
  {
   "cell_type": "markdown",
   "id": "c7869bfa",
   "metadata": {},
   "source": [
    "\n",
    "| Metadata  |    Value  |\n",
    "|:----------|:----------|\n",
    "| docs      | https://securitydatasets.com/notebooks/atomic/windows/collection/SDWIN-200609225055.html        |\n",
    "| link      | [https://raw.githubusercontent.com/OTRF/Security-Datasets/master/datasets/atomic/windows/collection/host/msf_record_mic.zip](https://raw.githubusercontent.com/OTRF/Security-Datasets/master/datasets/atomic/windows/collection/host/msf_record_mic.zip)  |"
   ]
  },
  {
   "cell_type": "markdown",
   "id": "8da4c165",
   "metadata": {},
   "source": [
    "## Analytics"
   ]
  },
  {
   "cell_type": "markdown",
   "id": "600f3888",
   "metadata": {},
   "source": [
    "### Initialize Analytics Engine"
   ]
  },
  {
   "cell_type": "code",
   "execution_count": null,
   "id": "a7cf32c1",
   "metadata": {},
   "outputs": [],
   "source": [
    "from openhunt.mordorutils import *\n",
    "spark = get_spark()"
   ]
  },
  {
   "cell_type": "markdown",
   "id": "e8e2251d",
   "metadata": {},
   "source": [
    "### Download & Process Security Dataset"
   ]
  },
  {
   "cell_type": "code",
   "execution_count": null,
   "id": "fb2ade86",
   "metadata": {},
   "outputs": [],
   "source": [
    "sd_file = \"https://raw.githubusercontent.com/OTRF/Security-Datasets/master/datasets/atomic/windows/collection/host/msf_record_mic.zip\"\n",
    "registerMordorSQLTable(spark, sd_file, \"sdTable\")"
   ]
  },
  {
   "cell_type": "markdown",
   "id": "6553b55a",
   "metadata": {},
   "source": [
    "### Analytic I\n",
    "Look for any creation or modification of registry keys under HKLM:\\SOFTWARE\\Microsoft\\Windows\\CurrentVersion\\CapabilityAccessManager\\ConsentStore\\microphone\\NonPackaged"
   ]
  },
  {
   "cell_type": "markdown",
   "id": "8416140a",
   "metadata": {},
   "source": [
    "\n",
    "| Data source | Event Provider | Relationship | Event |\n",
    "|:------------|:---------------|--------------|-------|\n",
    "| Windows Registry | Microsoft-Windows-Sysmon/Operational | Process created Windows registry key | 12 |\n",
    "| Windows Registry | Microsoft-Windows-Sysmon/Operational | Process modified Windows registry key value | 13 |\n",
    "| Windows Registry | Microsoft-Windows-Sysmon/Operational | Process modified Windows registry key value | 14 |\n",
    "| Windows Registry | Microsoft-Windows-Sysmon/Operational | Process modified Windows registry key | 14 |"
   ]
  },
  {
   "cell_type": "code",
   "execution_count": null,
   "id": "e7ea7d8e",
   "metadata": {},
   "outputs": [],
   "source": [
    "df = spark.sql(\n",
    "'''\n",
    "SELECT EventID, Message\n",
    "FROM sdTable\n",
    "WHERE Channel = 'Microsoft-Windows-Sysmon/Operational'\n",
    "  AND EventID IN (12,13,14)\n",
    "  AND LOWER(TargetObject) RLIKE '.*consentstore\\\\\\\\\\\\\\microphone.*'\n",
    "'''\n",
    ")\n",
    "df.show(10,False)"
   ]
  },
  {
   "cell_type": "markdown",
   "id": "4942b691",
   "metadata": {},
   "source": [
    "### Analytic II\n",
    "Look for any creation or modification of registry keys under HKLM:\\SOFTWARE\\Microsoft\\Windows\\CurrentVersion\\CapabilityAccessManager\\ConsentStore\\microphone\\NonPackaged"
   ]
  },
  {
   "cell_type": "markdown",
   "id": "15bbacf1",
   "metadata": {},
   "source": [
    "\n",
    "| Data source | Event Provider | Relationship | Event |\n",
    "|:------------|:---------------|--------------|-------|\n",
    "| Windows Registry | Microsoft-Windows-Security-Auditing | Process accessed Windows registry key | 4663 |\n",
    "| Windows Registry | Microsoft-Windows-Security-Auditing | User accessed Windows registry key | 4663 |\n",
    "| Windows Registry | Microsoft-Windows-Security-Auditing | Process requested access Windows registry key | 4656 |\n",
    "| Windows Registry | Microsoft-Windows-Security-Auditing | User requested access Windows registry key | 4656 |\n",
    "| Windows Registry | Microsoft-Windows-Security-Auditing | Process modified Windows registry key value | 4657 |\n",
    "| Windows Registry | Microsoft-Windows-Security-Auditing | User modified Windows registry key value | 4657 |"
   ]
  },
  {
   "cell_type": "code",
   "execution_count": null,
   "id": "dabf251a",
   "metadata": {},
   "outputs": [],
   "source": [
    "df = spark.sql(\n",
    "'''\n",
    "SELECT EventID, Message\n",
    "FROM sdTable\n",
    "WHERE LOWER(Channel) = 'security'\n",
    "  AND EventID IN (4656,4663,4657)\n",
    "  AND LOWER(ObjectName) RLIKE '.*consentstore\\\\\\\\\\\\\\microphone.*'\n",
    "'''\n",
    ")\n",
    "df.show(10,False)"
   ]
  },
  {
   "cell_type": "markdown",
   "id": "2571eb6d",
   "metadata": {},
   "source": [
    "## Known Bypasses"
   ]
  },
  {
   "cell_type": "markdown",
   "id": "48e5be64",
   "metadata": {},
   "source": [
    "## False Positives\n",
    "None"
   ]
  },
  {
   "cell_type": "markdown",
   "id": "c5275ca8",
   "metadata": {},
   "source": [
    "## Hunter Notes\n",
    "None"
   ]
  },
  {
   "cell_type": "markdown",
   "id": "602a59c4",
   "metadata": {},
   "source": [
    "## Hunt Output\n",
    "\n",
    "| Type | Link |\n",
    "| :----| :----|\n",
    "| Sigma Rule | [https://github.com/SigmaHQ/sigma/blob/master/rules/windows/registry_event/sysmon_susp_mic_cam_access.yml](https://github.com/SigmaHQ/sigma/blob/master/rules/windows/registry_event/sysmon_susp_mic_cam_access.yml) |\n",
    "| Sigma Rule | [https://github.com/SigmaHQ/sigma/blob/master/rules/windows/builtin/security/win_camera_microphone_access.yml](https://github.com/SigmaHQ/sigma/blob/master/rules/windows/builtin/security/win_camera_microphone_access.yml) |"
   ]
  },
  {
   "cell_type": "markdown",
   "id": "14d3302f",
   "metadata": {},
   "source": [
    "## References\n",
    "* https://medium.com/@7a616368/can-you-track-processes-accessing-the-camera-and-microphone-7e6885b37072"
   ]
  }
 ],
 "metadata": {
  "kernelspec": {
   "display_name": "PySpark_Python3",
   "language": "python",
   "name": "pyspark3"
  },
  "language_info": {
   "codemirror_mode": {
    "name": "ipython",
    "version": 3
   },
   "file_extension": ".py",
   "mimetype": "text/x-python",
   "name": "python",
   "nbconvert_exporter": "python",
   "pygments_lexer": "ipython3",
   "version": "3.7.3"
  }
 },
 "nbformat": 4,
 "nbformat_minor": 5
}
