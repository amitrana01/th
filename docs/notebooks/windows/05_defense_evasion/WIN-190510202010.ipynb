{
 "cells": [
  {
   "cell_type": "markdown",
   "id": "77613742",
   "metadata": {},
   "source": [
    "# WDigest Downgrade"
   ]
  },
  {
   "cell_type": "markdown",
   "id": "7ef2c304",
   "metadata": {},
   "source": [
    "## Metadata"
   ]
  },
  {
   "cell_type": "markdown",
   "id": "aa0a7009",
   "metadata": {},
   "source": [
    "\n",
    "|     Metadata      |  Value  |\n",
    "|:------------------|:---|\n",
    "| collaborators     | ['@Cyb3rWard0g', '@Cyb3rPandaH'] |\n",
    "| creation date     | 2019/05/10 |\n",
    "| modification date | 2020/09/20 |\n",
    "| playbook related  | [] |"
   ]
  },
  {
   "cell_type": "markdown",
   "id": "c0155790",
   "metadata": {},
   "source": [
    "## Hypothesis\n",
    "Adversaries might have updated the property value UseLogonCredential of HKLM:\\SYSTEM\\CurrentControlSet\\Control\\SecurityProviders\\WDigest to 1 in order to be able to extract clear text passwords from memory contents of lsass."
   ]
  },
  {
   "cell_type": "markdown",
   "id": "6d4f63a9",
   "metadata": {},
   "source": [
    "## Technical Context\n",
    "Windows 8.1 introduced a registry setting that allows for disabling the storage of the users logon credential in clear text for the WDigest provider."
   ]
  },
  {
   "cell_type": "markdown",
   "id": "541d04ce",
   "metadata": {},
   "source": [
    "## Offensive Tradecraft\n",
    "This setting can be modified in the property UseLogonCredential for the registry key HKLM:\\SYSTEM\\CurrentControlSet\\Control\\SecurityProviders\\WDigest.\n",
    "If this key does not exists, you can create it and set it to 1 to enable clear text passwords."
   ]
  },
  {
   "cell_type": "markdown",
   "id": "bfe04cbb",
   "metadata": {},
   "source": [
    "## Security Datasets"
   ]
  },
  {
   "cell_type": "markdown",
   "id": "1dfc1d6b",
   "metadata": {},
   "source": [
    "\n",
    "| Metadata  |    Value  |\n",
    "|:----------|:----------|\n",
    "| docs      | https://securitydatasets.com/notebooks/atomic/windows/defense_evasion/SDWIN-190518201922.html        |\n",
    "| link      | [https://raw.githubusercontent.com/OTRF/Security-Datasets/master/datasets/atomic/windows/defense_evasion/host/empire_wdigest_downgrade.tar.gz](https://raw.githubusercontent.com/OTRF/Security-Datasets/master/datasets/atomic/windows/defense_evasion/host/empire_wdigest_downgrade.tar.gz)  |"
   ]
  },
  {
   "cell_type": "markdown",
   "id": "e60bd682",
   "metadata": {},
   "source": [
    "## Analytics"
   ]
  },
  {
   "cell_type": "markdown",
   "id": "ade0dda1",
   "metadata": {},
   "source": [
    "### Initialize Analytics Engine"
   ]
  },
  {
   "cell_type": "code",
   "execution_count": null,
   "id": "cff53cae",
   "metadata": {},
   "outputs": [],
   "source": [
    "from openhunt.mordorutils import *\n",
    "spark = get_spark()"
   ]
  },
  {
   "cell_type": "markdown",
   "id": "2127cf16",
   "metadata": {},
   "source": [
    "### Download & Process Security Dataset"
   ]
  },
  {
   "cell_type": "code",
   "execution_count": null,
   "id": "8d3d13bc",
   "metadata": {},
   "outputs": [],
   "source": [
    "sd_file = \"https://raw.githubusercontent.com/OTRF/Security-Datasets/master/datasets/atomic/windows/defense_evasion/host/empire_wdigest_downgrade.tar.gz\"\n",
    "registerMordorSQLTable(spark, sd_file, \"sdTable\")"
   ]
  },
  {
   "cell_type": "markdown",
   "id": "db97e044",
   "metadata": {},
   "source": [
    "### Analytic I\n",
    "Look for any process updating UseLogonCredential registry key value"
   ]
  },
  {
   "cell_type": "markdown",
   "id": "1263f7e1",
   "metadata": {},
   "source": [
    "\n",
    "| Data source | Event Provider | Relationship | Event |\n",
    "|:------------|:---------------|--------------|-------|\n",
    "| Windows registry | Microsoft-Windows-Sysmon/Operational | Process modified Windows registry key value | 13 |"
   ]
  },
  {
   "cell_type": "code",
   "execution_count": null,
   "id": "6323b4cd",
   "metadata": {},
   "outputs": [],
   "source": [
    "df = spark.sql(\n",
    "'''\n",
    "SELECT `@timestamp`, Hostname, Image, TargetObject\n",
    "FROM sdTable\n",
    "WHERE Channel = \"Microsoft-Windows-Sysmon/Operational\"\n",
    "    AND EventID = 13\n",
    "    AND TargetObject LIKE \"%UseLogonCredential\"\n",
    "    AND Details = 1\n",
    "'''\n",
    ")\n",
    "df.show(10,False)"
   ]
  },
  {
   "cell_type": "markdown",
   "id": "29c50fc4",
   "metadata": {},
   "source": [
    "## Known Bypasses"
   ]
  },
  {
   "cell_type": "markdown",
   "id": "43a5b9fa",
   "metadata": {},
   "source": [
    "## False Positives\n",
    "None"
   ]
  },
  {
   "cell_type": "markdown",
   "id": "09b021d1",
   "metadata": {},
   "source": [
    "## Hunter Notes\n",
    "None"
   ]
  },
  {
   "cell_type": "markdown",
   "id": "88e6452c",
   "metadata": {},
   "source": [
    "## Hunt Output\n",
    "\n",
    "| Type | Link |\n",
    "| :----| :----|\n",
    "| Sigma Rule | [https://github.com/SigmaHQ/sigma/blob/master/rules/windows/registry_event/sysmon_wdigest_enable_uselogoncredential.yml](https://github.com/SigmaHQ/sigma/blob/master/rules/windows/registry_event/sysmon_wdigest_enable_uselogoncredential.yml) |"
   ]
  },
  {
   "cell_type": "markdown",
   "id": "68fbbdfa",
   "metadata": {},
   "source": [
    "## References\n",
    "* https://github.com/samratashok/nishang/blob/master/Gather/Invoke-MimikatzWDigestDowngrade.ps1\n",
    "* https://blog.stealthbits.com/wdigest-clear-text-passwords-stealing-more-than-a-hash/"
   ]
  }
 ],
 "metadata": {
  "kernelspec": {
   "display_name": "PySpark_Python3",
   "language": "python",
   "name": "pyspark3"
  },
  "language_info": {
   "codemirror_mode": {
    "name": "ipython",
    "version": 3
   },
   "file_extension": ".py",
   "mimetype": "text/x-python",
   "name": "python",
   "nbconvert_exporter": "python",
   "pygments_lexer": "ipython3",
   "version": "3.7.3"
  }
 },
 "nbformat": 4,
 "nbformat_minor": 5
}
