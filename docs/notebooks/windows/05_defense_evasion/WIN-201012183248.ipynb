{
 "cells": [
  {
   "cell_type": "markdown",
   "id": "a94b02dd",
   "metadata": {},
   "source": [
    "# Wuauclt CreateRemoteThread Execution"
   ]
  },
  {
   "cell_type": "markdown",
   "id": "f73dc27a",
   "metadata": {},
   "source": [
    "## Metadata"
   ]
  },
  {
   "cell_type": "markdown",
   "id": "3e63cd8e",
   "metadata": {},
   "source": [
    "\n",
    "|     Metadata      |  Value  |\n",
    "|:------------------|:---|\n",
    "| collaborators     | ['@Cyb3rWard0g'] |\n",
    "| creation date     | 2020/10/12 |\n",
    "| modification date | 2020/10/12 |\n",
    "| playbook related  | [] |"
   ]
  },
  {
   "cell_type": "markdown",
   "id": "72b0217b",
   "metadata": {},
   "source": [
    "## Hypothesis\n",
    "Adversaries might be proxy executing code via the Windows Update client utility in my environment and creating and running a thread in the virtual address space of another process via the CreateRemoteThread API to bypass rules looking for it calling out to the Internet."
   ]
  },
  {
   "cell_type": "markdown",
   "id": "b27f461e",
   "metadata": {},
   "source": [
    "## Technical Context\n",
    "The Windows Update client (wuauclt.exe) utility allows you some control over the functioning of the Windows Update Agent."
   ]
  },
  {
   "cell_type": "markdown",
   "id": "e16067fb",
   "metadata": {},
   "source": [
    "## Offensive Tradecraft\n",
    "Adversaries can leverage this utility to proxy the execution of code by specifying an arbitrary DLL with the following command line `wuauclt.exe /UpdateDeploymentProvider <Full_Path_To_DLL> /RunHandlerComServer`"
   ]
  },
  {
   "cell_type": "markdown",
   "id": "56c76add",
   "metadata": {},
   "source": [
    "## Security Datasets"
   ]
  },
  {
   "cell_type": "markdown",
   "id": "8aefe742",
   "metadata": {},
   "source": [
    "\n",
    "| Metadata  |    Value  |\n",
    "|:----------|:----------|\n",
    "| docs      | https://securitydatasets.com/notebooks/atomic/windows/defense_evasion/SDWIN-201012183248.html        |\n",
    "| link      | [https://raw.githubusercontent.com/OTRF/Security-Datasets/master/datasets/atomic/windows/defense_evasion/host/covenant_lolbin_wuauclt_createremotethread.zip](https://raw.githubusercontent.com/OTRF/Security-Datasets/master/datasets/atomic/windows/defense_evasion/host/covenant_lolbin_wuauclt_createremotethread.zip)  |"
   ]
  },
  {
   "cell_type": "markdown",
   "id": "958fdae5",
   "metadata": {},
   "source": [
    "## Analytics"
   ]
  },
  {
   "cell_type": "markdown",
   "id": "92f1ea5c",
   "metadata": {},
   "source": [
    "### Initialize Analytics Engine"
   ]
  },
  {
   "cell_type": "code",
   "execution_count": null,
   "id": "d1cd16fa",
   "metadata": {},
   "outputs": [],
   "source": [
    "from openhunt.mordorutils import *\n",
    "spark = get_spark()"
   ]
  },
  {
   "cell_type": "markdown",
   "id": "484aef2b",
   "metadata": {},
   "source": [
    "### Download & Process Security Dataset"
   ]
  },
  {
   "cell_type": "code",
   "execution_count": null,
   "id": "4f67de0b",
   "metadata": {},
   "outputs": [],
   "source": [
    "sd_file = \"https://raw.githubusercontent.com/OTRF/Security-Datasets/master/datasets/atomic/windows/defense_evasion/host/covenant_lolbin_wuauclt_createremotethread.zip\"\n",
    "registerMordorSQLTable(spark, sd_file, \"sdTable\")"
   ]
  },
  {
   "cell_type": "markdown",
   "id": "eda9aee2",
   "metadata": {},
   "source": [
    "### Analytic I\n",
    "Look for wuauclt with the specific parameters used to load and execute a DLL."
   ]
  },
  {
   "cell_type": "markdown",
   "id": "eea75334",
   "metadata": {},
   "source": [
    "\n",
    "| Data source | Event Provider | Relationship | Event |\n",
    "|:------------|:---------------|--------------|-------|\n",
    "| Process | Microsoft-Windows-Sysmon/Operational | Process created Process | 1 |"
   ]
  },
  {
   "cell_type": "code",
   "execution_count": null,
   "id": "0b74a2dd",
   "metadata": {},
   "outputs": [],
   "source": [
    "df = spark.sql(\n",
    "'''\n",
    "SELECT `@timestamp`, Hostname, Image, CommandLine\n",
    "FROM sdTable\n",
    "WHERE Channel = 'Microsoft-Windows-Sysmon/Operational'\n",
    "    AND EventID = 1\n",
    "    AND Image LIKE '%wuauclt.exe'\n",
    "    AND CommandLine LIKE '%wuauclt%UpdateDeploymentProvider%.dll%RunHandlerComServer'\n",
    "'''\n",
    ")\n",
    "df.show(10,False)"
   ]
  },
  {
   "cell_type": "markdown",
   "id": "9d502594",
   "metadata": {},
   "source": [
    "### Analytic II\n",
    "Look for unsigned DLLs being loaded by wuauclt. You might have to stack the results and find potential anomalies over time."
   ]
  },
  {
   "cell_type": "markdown",
   "id": "e41a25a6",
   "metadata": {},
   "source": [
    "\n",
    "| Data source | Event Provider | Relationship | Event |\n",
    "|:------------|:---------------|--------------|-------|\n",
    "| Module | Microsoft-Windows-Sysmon/Operational | Process loaded DLL | 7 |"
   ]
  },
  {
   "cell_type": "code",
   "execution_count": null,
   "id": "261ae2a3",
   "metadata": {},
   "outputs": [],
   "source": [
    "df = spark.sql(\n",
    "'''\n",
    "SELECT `@timestamp`, Hostname, Image, ImageLoaded\n",
    "FROM sdTable\n",
    "WHERE Channel = 'Microsoft-Windows-Sysmon/Operational'\n",
    "    AND EventID = 7\n",
    "    AND Image LIKE '%wuauclt.exe'\n",
    "    AND Signed = 'false'\n",
    "'''\n",
    ")\n",
    "df.show(10,False)"
   ]
  },
  {
   "cell_type": "markdown",
   "id": "536551a8",
   "metadata": {},
   "source": [
    "### Analytic III\n",
    "Look for wuauclt creating and running a thread in the virtual address space of another process via the CreateRemoteThread API."
   ]
  },
  {
   "cell_type": "markdown",
   "id": "90301d66",
   "metadata": {},
   "source": [
    "\n",
    "| Data source | Event Provider | Relationship | Event |\n",
    "|:------------|:---------------|--------------|-------|\n",
    "| Process | Microsoft-Windows-Sysmon/Operational | Process wrote_to Process | 8 |"
   ]
  },
  {
   "cell_type": "code",
   "execution_count": null,
   "id": "6b7d7481",
   "metadata": {},
   "outputs": [],
   "source": [
    "df = spark.sql(\n",
    "'''\n",
    "SELECT `@timestamp`, Hostname, TargetImage\n",
    "FROM sdTable\n",
    "WHERE Channel = 'Microsoft-Windows-Sysmon/Operational'\n",
    "    AND EventID = 8\n",
    "    AND SourceImage LIKE '%wuauclt.exe'\n",
    "'''\n",
    ")\n",
    "df.show(10,False)"
   ]
  },
  {
   "cell_type": "markdown",
   "id": "abfc950b",
   "metadata": {},
   "source": [
    "### Analytic IV\n",
    "Look for recent files created being loaded by wuauclt."
   ]
  },
  {
   "cell_type": "markdown",
   "id": "1fce959f",
   "metadata": {},
   "source": [
    "\n",
    "| Data source | Event Provider | Relationship | Event |\n",
    "|:------------|:---------------|--------------|-------|\n",
    "| File | Microsoft-Windows-Sysmon/Operational | Process created File | 11 |\n",
    "| File | Microsoft-Windows-Sysmon/Operational | Process loaded DLL | 7 |"
   ]
  },
  {
   "cell_type": "code",
   "execution_count": null,
   "id": "cfe27bfa",
   "metadata": {},
   "outputs": [],
   "source": [
    "df = spark.sql(\n",
    "'''\n",
    "SELECT `@timestamp`, Hostname, ImageLoaded\n",
    "FROM sdTable b\n",
    "INNER JOIN (\n",
    "    SELECT TargetFilename, ProcessGuid\n",
    "    FROM sdTable\n",
    "    WHERE Channel = 'Microsoft-Windows-Sysmon/Operational'\n",
    "        AND EventID = 11\n",
    "    ) a\n",
    "ON b.ImageLoaded = a.TargetFilename\n",
    "WHERE Channel = 'Microsoft-Windows-Sysmon/Operational'\n",
    "  AND EventID = 7\n",
    "  AND Image LIKE '%wuauclt.exe'\n",
    "'''\n",
    ")\n",
    "df.show(10,False)"
   ]
  },
  {
   "cell_type": "markdown",
   "id": "0e80b84b",
   "metadata": {},
   "source": [
    "### Analytic V\n",
    "Look for wuauclt loading recently created DLLs and writing to another process"
   ]
  },
  {
   "cell_type": "markdown",
   "id": "fe4d381f",
   "metadata": {},
   "source": [
    "\n",
    "| Data source | Event Provider | Relationship | Event |\n",
    "|:------------|:---------------|--------------|-------|\n",
    "| Module | Microsoft-Windows-Sysmon/Operational | Process created File | 11 |\n",
    "| Module | Microsoft-Windows-Sysmon/Operational | Process loaded DLL | 7 |\n",
    "| Module | Microsoft-Windows-Sysmon/Operational | Process wrote_to Process | 8 |"
   ]
  },
  {
   "cell_type": "code",
   "execution_count": null,
   "id": "0e89354a",
   "metadata": {},
   "outputs": [],
   "source": [
    "df = spark.sql(\n",
    "'''\n",
    "SELECT `@timestamp`, Hostname, d.TargetImage, c.ImageLoaded\n",
    "FROM sdTable d\n",
    "INNER JOIN (\n",
    "    SELECT b.ProcessGuid, b.ImageLoaded\n",
    "    FROM sdTable b\n",
    "    INNER JOIN (\n",
    "      SELECT TargetFilename, ProcessGuid\n",
    "      FROM sdTable\n",
    "      WHERE Channel = 'Microsoft-Windows-Sysmon/Operational'\n",
    "          AND EventID = 11\n",
    "    ) a\n",
    "    ON b.ImageLoaded = a.TargetFilename\n",
    "    WHERE Channel = 'Microsoft-Windows-Sysmon/Operational'\n",
    "      AND EventID = 7\n",
    "      AND Image LIKE '%wuauclt.exe'\n",
    ") c\n",
    "ON d.SourceProcessGuid = c.ProcessGuid\n",
    "WHERE Channel = 'Microsoft-Windows-Sysmon/Operational'\n",
    "      AND EventID = 8\n",
    "      AND SourceImage LIKE '%wuauclt.exe'\n",
    "'''\n",
    ")\n",
    "df.show(10,False)"
   ]
  },
  {
   "cell_type": "markdown",
   "id": "a8a0d600",
   "metadata": {},
   "source": [
    "## Known Bypasses"
   ]
  },
  {
   "cell_type": "markdown",
   "id": "b02d8a71",
   "metadata": {},
   "source": [
    "## False Positives\n",
    "None"
   ]
  },
  {
   "cell_type": "markdown",
   "id": "1d24dc4d",
   "metadata": {},
   "source": [
    "## Hunter Notes\n",
    "* Baseline your environment to identify normal activity from wuauclt. You will have to do some stacking on images loaded by wuauclt (Split it on signed and un-signed (if applicable))"
   ]
  },
  {
   "cell_type": "markdown",
   "id": "5b28ffe2",
   "metadata": {},
   "source": [
    "## Hunt Output\n",
    "\n",
    "| Type | Link |\n",
    "| :----| :----|\n",
    "| Sigma Rule | [https://github.com/SigmaHQ/sigma/blob/master/rules/windows/process_creation/sysmon_proxy_execution_wuauclt.yml](https://github.com/SigmaHQ/sigma/blob/master/rules/windows/process_creation/sysmon_proxy_execution_wuauclt.yml) |\n",
    "| Sigma Rule | [https://github.com/SigmaHQ/sigma/blob/master/rules/windows/process_creation/sysmon_proxy_execution_wuauclt.yml](https://github.com/SigmaHQ/sigma/blob/master/rules/windows/process_creation/sysmon_proxy_execution_wuauclt.yml) |\n",
    "| Sigma Rule | [https://github.com/SigmaHQ/sigma/blob/master/rules/windows/process_creation/win_lolbas_execution_of_wuauclt.yml](https://github.com/SigmaHQ/sigma/blob/master/rules/windows/process_creation/win_lolbas_execution_of_wuauclt.yml) |"
   ]
  },
  {
   "cell_type": "markdown",
   "id": "8ac81305",
   "metadata": {},
   "source": [
    "## References\n",
    "* https://dtm.uk/wuauclt/\n",
    "* https://docs.microsoft.com/zh-cn/security-updates/windowsupdateservices/21740782\n",
    "* https://github.com/Neo23x0/sigma/blob/2cb540f95ed2d02f7d8a2bf84d9bf4a5962f156d/rules/windows/process_creation/sysmon_proxy_execution_wuauclt.yml"
   ]
  }
 ],
 "metadata": {
  "kernelspec": {
   "display_name": "PySpark_Python3",
   "language": "python",
   "name": "pyspark3"
  },
  "language_info": {
   "codemirror_mode": {
    "name": "ipython",
    "version": 3
   },
   "file_extension": ".py",
   "mimetype": "text/x-python",
   "name": "python",
   "nbconvert_exporter": "python",
   "pygments_lexer": "ipython3",
   "version": "3.7.3"
  }
 },
 "nbformat": 4,
 "nbformat_minor": 5
}
