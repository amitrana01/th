{
 "cells": [
  {
   "cell_type": "markdown",
   "id": "0f3b50c3",
   "metadata": {},
   "source": [
    "# DLL Injection via CreateRemoteThread and LoadLibrary"
   ]
  },
  {
   "cell_type": "markdown",
   "id": "c1f56e00",
   "metadata": {},
   "source": [
    "## Metadata"
   ]
  },
  {
   "cell_type": "markdown",
   "id": "7e3cce55",
   "metadata": {},
   "source": [
    "\n",
    "|     Metadata      |  Value  |\n",
    "|:------------------|:---|\n",
    "| collaborators     | ['@Cyb3rWard0g', '@Cyb3rPandaH'] |\n",
    "| creation date     | 2018/07/19 |\n",
    "| modification date | 2020/09/20 |\n",
    "| playbook related  | [] |"
   ]
  },
  {
   "cell_type": "markdown",
   "id": "1417593d",
   "metadata": {},
   "source": [
    "## Hypothesis\n",
    "Adversaries might be injecting a dll to another process to execute code via CreateRemoteThread and LoadLibrary functions."
   ]
  },
  {
   "cell_type": "markdown",
   "id": "7ca9f285",
   "metadata": {},
   "source": [
    "## Technical Context\n",
    "### Get Handle to Target Processs\n",
    "The malware first needs to target a process for injection (e.g. svchost.exe).\n",
    "This is usually done by searching through processes by calling a trio of Application Program Interfaces (APIs) > CreateToolhelp32Snapshot, Process32First, and Process32Next.\n",
    "After finding the target process, the malware gets the handle of the target process by calling OpenProcess.\n",
    "\n",
    "There are two processes involved in this attack > your DLLInjector process (Process A), and the remote process you want to inject with a DLL (Process B).\n",
    "To interact with the remote process, Process A must call OpenProcess() while passing the remote process process ID as an argument. OpenProcess will then return to Process A a Handle to Process B.\n",
    "Having a Handle to the remote process allows Process A to interact with it in powerful ways. Process A can allocate memory, write memory, and create an execution thread in Process B by calling functions like VirtualAllocEx, WriteProcessMemory, and CreateRemoteThread and passing the Handle to Process B as an argument to those functions.\n",
    "\n",
    "### Get address of the LoadLibraryA function\n",
    "Kernel32.dll is loaded into every Windows process, and within it is a useful function called LoadLibrary.\n",
    "When LoadLibrary is called in a certain process, it maps a DLL into that process.\n",
    "LoadLibrary needs to know what DLL to load, so you need to provide it the path to the DLL on your system.\n",
    "LoadLibrary will then find the DLL at that path and load that DLL into memory for you.\n",
    "Note > LoadLibraryA is the function name. \"A\" means you provide the DLL path as an ASCII string.\n",
    "\n",
    "### Allocate Memory for DLL\n",
    "Why do we write the DLL path to Process B using VirtualAllocEx and then WriteRemoteMemory? This is because LoadLibrary needs to know what DLL you want to inject.\n",
    "The string it accepts as a parameter needs to be present in Process B memory.\n",
    "The malware calls VirtualAllocEx to have a space to write the path to its DLL.\n",
    "The malware then calls WriteProcessMemory to write the path in the allocated memory.\n",
    "\n",
    "### Execute Code\n",
    "Finally, to have the code executed in another process, the malware calls APIs such as CreateRemoteThread, NtCreateThreadEx, or RtlCreateUserThread.\n",
    "The latter two are undocumented. However, the general idea is to pass the address of LoadLibrary to one of these APIs so that a remote process has to execute the DLL on behalf of the malware.\n",
    "The CreateRemoteThread function creates a thread in the virtual address space of an arbitrary process.\n",
    "\n",
    "Use CreateRemoteThread to create a remote thread starting at the memory address (which means this will execute LoadLibrary in the remote process).\n",
    "Besides the memory address of the remote function you want to call, CreateRemoteThread also allows you to provide an argument for the function if it requires one.\n",
    "LoadLibrary wants the memory address of where you wrote that DLL path from earlier, so provide CreateRemoteThread that address as well."
   ]
  },
  {
   "cell_type": "markdown",
   "id": "8faba4a7",
   "metadata": {},
   "source": [
    "## Offensive Tradecraft\n",
    "This technique is one of the most common techniques used to inject malware into another process.\n",
    "The malware writes the path to its malicious dynamic-link library (DLL) in the virtual address space of another process, and ensures the remote process loads it by creating a remote thread in the target process."
   ]
  },
  {
   "cell_type": "markdown",
   "id": "d43a6790",
   "metadata": {},
   "source": [
    "## Security Datasets"
   ]
  },
  {
   "cell_type": "markdown",
   "id": "e65c0871",
   "metadata": {},
   "source": [
    "\n",
    "| Metadata  |    Value  |\n",
    "|:----------|:----------|\n",
    "| docs      | https://securitydatasets.com/notebooks/atomic/windows/defense_evasion/SDWIN-190518221344.html        |\n",
    "| link      | [https://raw.githubusercontent.com/OTRF/Security-Datasets/master/datasets/atomic/windows/defense_evasion/host/empire_dllinjection_LoadLibrary_CreateRemoteThread.zip](https://raw.githubusercontent.com/OTRF/Security-Datasets/master/datasets/atomic/windows/defense_evasion/host/empire_dllinjection_LoadLibrary_CreateRemoteThread.zip)  |"
   ]
  },
  {
   "cell_type": "markdown",
   "id": "0528cf58",
   "metadata": {},
   "source": [
    "## Analytics"
   ]
  },
  {
   "cell_type": "markdown",
   "id": "39c9c6cf",
   "metadata": {},
   "source": [
    "### Initialize Analytics Engine"
   ]
  },
  {
   "cell_type": "code",
   "execution_count": null,
   "id": "328629ac",
   "metadata": {},
   "outputs": [],
   "source": [
    "from openhunt.mordorutils import *\n",
    "spark = get_spark()"
   ]
  },
  {
   "cell_type": "markdown",
   "id": "37e9b28f",
   "metadata": {},
   "source": [
    "### Download & Process Security Dataset"
   ]
  },
  {
   "cell_type": "code",
   "execution_count": null,
   "id": "894fb876",
   "metadata": {},
   "outputs": [],
   "source": [
    "sd_file = \"https://raw.githubusercontent.com/OTRF/Security-Datasets/master/datasets/atomic/windows/defense_evasion/host/empire_dllinjection_LoadLibrary_CreateRemoteThread.zip\"\n",
    "registerMordorSQLTable(spark, sd_file, \"sdTable\")"
   ]
  },
  {
   "cell_type": "markdown",
   "id": "e895f456",
   "metadata": {},
   "source": [
    "### Analytic I\n",
    "Look for any use of the CreateRemoteThread function to create a remote thread starting at the memory address (which means this will execute LoadLibrary in the remote process)"
   ]
  },
  {
   "cell_type": "markdown",
   "id": "6a5a9d29",
   "metadata": {},
   "source": [
    "\n",
    "| Data source | Event Provider | Relationship | Event |\n",
    "|:------------|:---------------|--------------|-------|\n",
    "| Process | Microsoft-Windows-Sysmon/Operational | Process wrote to Process | 8 |"
   ]
  },
  {
   "cell_type": "code",
   "execution_count": null,
   "id": "f1442cb9",
   "metadata": {},
   "outputs": [],
   "source": [
    "df = spark.sql(\n",
    "'''\n",
    "SELECT `@timestamp`, Hostname, SourceImage, TargetImage\n",
    "FROM sdTable\n",
    "WHERE Channel = \"Microsoft-Windows-Sysmon/Operational\"\n",
    "    AND EventID = 8\n",
    "    AND lower(StartModule) LIKE \"%kernel32.dll\"\n",
    "    AND StartFunction = \"LoadLibraryA\"\n",
    "'''\n",
    ")\n",
    "df.show(10,False)"
   ]
  },
  {
   "cell_type": "markdown",
   "id": "35798466",
   "metadata": {},
   "source": [
    "### Analytic II\n",
    "You can look for the same file being created and loaded. The process that creates the file and loads the file are not the same."
   ]
  },
  {
   "cell_type": "markdown",
   "id": "da8fdafe",
   "metadata": {},
   "source": [
    "\n",
    "| Data source | Event Provider | Relationship | Event |\n",
    "|:------------|:---------------|--------------|-------|\n",
    "| Module | Microsoft-Windows-Sysmon/Operational | Process loaded Dll | 7 |\n",
    "| File | Microsoft-Windows-Sysmon/Operational | Process created File | 11 |"
   ]
  },
  {
   "cell_type": "code",
   "execution_count": null,
   "id": "e011ae5d",
   "metadata": {},
   "outputs": [],
   "source": [
    "df = spark.sql(\n",
    "'''\n",
    "SELECT f.`@timestamp` AS file_date, m.`@timestamp` AS module_date, f.Hostname, f.Image AS file_image, m.Image AS module_image, m.ImageLoaded, f.TargetFilename\n",
    "FROM sdTable f\n",
    "INNER JOIN (\n",
    "    SELECT `@timestamp`,Hostname,Image,ImageLoaded,TargetLogonId,IpAddress\n",
    "    FROM sdTable\n",
    "    WHERE Channel = \"Microsoft-Windows-Sysmon/Operational\"\n",
    "        AND EventID = 7\n",
    "    ) m\n",
    "ON f.TargetFilename = m.ImageLoaded\n",
    "WHERE f.Channel = \"Microsoft-Windows-Sysmon/Operational\"\n",
    "    AND f.EventID = 11\n",
    "    AND f.Hostname = m.Hostname\n",
    "'''\n",
    ")\n",
    "df.show(10,False)"
   ]
  },
  {
   "cell_type": "markdown",
   "id": "1bc8bf64",
   "metadata": {},
   "source": [
    "## Known Bypasses"
   ]
  },
  {
   "cell_type": "markdown",
   "id": "379eedf1",
   "metadata": {},
   "source": [
    "\n",
    "| Idea | Playbook |\n",
    "|:-----|:---------|\n",
    "| Instead of passing the address of the LoadLibrary, adversaries can copy the malicious code into an existing open process and cause it to execute (either via a small shellcode, or by calling CreateRemoteThread) via a technique known as PE injection.\n",
    "The advantage of this is that the adversary does not have to drop a malicious DLL on the disk.\n",
    "Similar to the basic dll injection technique, the malware allocates memory in a host process (e.g. VirtualAllocEx), and instead of writing a \"DLL path\" it writes its malicious code by calling WriteProcessMemory. | [None](https://github.com/OTRF/ThreatHunter-Playbook/blob/master/playbooks/None.yaml) |"
   ]
  },
  {
   "cell_type": "markdown",
   "id": "20134c1f",
   "metadata": {},
   "source": [
    "## False Positives\n",
    "None"
   ]
  },
  {
   "cell_type": "markdown",
   "id": "1ca55785",
   "metadata": {},
   "source": [
    "## Hunter Notes\n",
    "* Looking for CreateRemoteThread APIs with LoadLibrary functions might return several entries in your environment. I recommend to stack the values of the source and target processes or user to baseline your environmennt.\n",
    "* Look for processes loading files that have just been created on disk (i.e 1min time window). Stack the values of the processes and files involved. You can tag the files as signed or unsigned depending on the information provided in the security events."
   ]
  },
  {
   "cell_type": "markdown",
   "id": "21a400b4",
   "metadata": {},
   "source": [
    "## Hunt Output\n",
    "\n",
    "| Type | Link |\n",
    "| :----| :----|\n",
    "| Sigma Rule | [https://github.com/SigmaHQ/sigma/blob/master/rules/windows/create_remote_thread/sysmon_createremotethread_loadlibrary.yml](https://github.com/SigmaHQ/sigma/blob/master/rules/windows/create_remote_thread/sysmon_createremotethread_loadlibrary.yml) |"
   ]
  },
  {
   "cell_type": "markdown",
   "id": "c81b9640",
   "metadata": {},
   "source": [
    "## References\n",
    "* https://www.endgame.com/blog/technical-blog/ten-process-injection-techniques-technical-survey-common-and-trending-process\n",
    "* https://resources.infosecinstitute.com/using-createremotethread-for-dll-injection-on-windows/\n",
    "* https://arvanaghi.com/blog/dll-injection-using-loadlibrary-in-C/\n",
    "* https://github.com/EmpireProject/Empire/blob/master/data/module_source/code_execution/Invoke-DllInjection.ps1#L249\n",
    "* https://github.com/EmpireProject/Empire/blob/master/data/module_source/code_execution/Invoke-DllInjection.ps1#L291\n",
    "* https://github.com/EmpireProject/Empire/blob/master/data/module_source/code_execution/Invoke-DllInjection.ps1#L295\n",
    "* https://github.com/EmpireProject/Empire/blob/master/data/module_source/code_execution/Invoke-DllInjection.ps1#L303\n",
    "* https://github.com/EmpireProject/Empire/blob/master/data/module_source/code_execution/Invoke-DllInjection.ps1#L307\n",
    "* https://docs.microsoft.com/en-us/windows/win32/api/libloaderapi/nf-libloaderapi-loadlibrarya"
   ]
  }
 ],
 "metadata": {
  "kernelspec": {
   "display_name": "PySpark_Python3",
   "language": "python",
   "name": "pyspark3"
  },
  "language_info": {
   "codemirror_mode": {
    "name": "ipython",
    "version": 3
   },
   "file_extension": ".py",
   "mimetype": "text/x-python",
   "name": "python",
   "nbconvert_exporter": "python",
   "pygments_lexer": "ipython3",
   "version": "3.7.3"
  }
 },
 "nbformat": 4,
 "nbformat_minor": 5
}
