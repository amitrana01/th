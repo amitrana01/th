{
 "cells": [
  {
   "cell_type": "markdown",
   "id": "13695867",
   "metadata": {},
   "source": [
    "# Extended NetNTLM Downgrade"
   ]
  },
  {
   "cell_type": "markdown",
   "id": "dfd43a86",
   "metadata": {},
   "source": [
    "## Metadata"
   ]
  },
  {
   "cell_type": "markdown",
   "id": "a70ef168",
   "metadata": {},
   "source": [
    "\n",
    "|     Metadata      |  Value  |\n",
    "|:------------------|:---|\n",
    "| collaborators     | ['@Cyb3rWard0g', '@Cyb3rPandaH'] |\n",
    "| creation date     | 2019/12/24 |\n",
    "| modification date | 2020/09/20 |\n",
    "| playbook related  | [] |"
   ]
  },
  {
   "cell_type": "markdown",
   "id": "e2c3cb33",
   "metadata": {},
   "source": [
    "## Hypothesis\n",
    "Adversaries might be downgrading the challenge/response authentication protocol used for network logons, the minimum security negotiated for applications using NTLMSSP, and security settings that restrict outgoing NTLM traffic to remote servers in my environment"
   ]
  },
  {
   "cell_type": "markdown",
   "id": "f9c4b6e8",
   "metadata": {},
   "source": [
    "## Technical Context\n",
    "LAN Manager (LM) includes client computer and server software from Microsoft that allows users to link personal devices together on a single network.\n",
    "Network capabilities include transparent file and print sharing, user security features, and network administration tools.\n",
    "In Active Directory domains, the Kerberos protocol is the default authentication protocol.\n",
    "However, if the Kerberos protocol is not negotiated for some reason, Active Directory uses LM, NTLM, or NTLM version 2 (NTLMv2).\n",
    "\n",
    "LAN Manager authentication includes the LM, NTLM, and NTLMv2 variants, and it is the protocol that is used to authenticate all client devices running the Windows operating system when they perform the following operations\n",
    "\n",
    "* Join a domain\n",
    "* Authenticate between Active Directory forests\n",
    "* Authenticate to domains based on earlier versions of the Windows operating system\n",
    "* Authenticate to computers that do not run Windows operating systems, beginning with Windows 2000\n",
    "* Authenticate to computers that are not in the domain\n",
    "\n",
    "Prior to Windows NT 4.0 Service Pack 4 (SP4), Windows NT supported two kinds of challenge/response authentication -> LanManager (LM) challenge/response and Windows NT challenge/response (also known as NTLM challenge/response)\n",
    "Windows NT also supported session security mechanisms that provided for Message confidentiality and integrity.\n",
    "To allow access to servers that only support LM authentication, Windows NT clients prior to SP4 always use both, even to Windows NT servers that supported NTLM authentication.\n",
    "\n",
    "LM authentication is not as strong as Windows NT authentication so some customers may want to disable its use, because an attacker eavesdropping on network traffic will attack the weaker protocol.\n",
    "A successful attack can compromise the user's password.\n",
    "Microsoft has developed an enhancement to NTLM called NTLMv2 that significantly improves both the authentication and session security mechanisms.\n",
    "\n",
    "In addition, the implementation of the NTLM Security Service Provider (SSP) has been enhanced to allow clients to control which variants of NTLM are used, and to allow servers to control which variants they will accept, by setting a new registry key appropriately.\n",
    "It also allows clients and servers to require the negotiation of Message confidentiality (encryption), Message integrity, 128-bit encryption, and NTLMv2 session security.\n",
    "\n",
    "Control of NTLM security is through the following registry key\n",
    "\n",
    "* HKEY_LOCAL_MACHINE\\System\\CurrentControlSet\\control\\LSA\n",
    "\n",
    "Choice of the authentication protocol variants used and accepted is through the following value of that key\n",
    "\n",
    "Value -> LMCompatibilityLevel\n",
    "Value Type -> REG_DWORD - Number\n",
    "Valid Range -> 0-5\n",
    "Default -> 0\n",
    "Description -> This parameter specifies the type of authentication to be\n",
    "used.\n",
    "\n",
    "Level 0 - Send LM response and NTLM response; never use NTLMv2 session security\n",
    "Level 1 - Use NTLMv2 session security if negotiated\n",
    "Level 2 - Send NTLM authenication only\n",
    "Level 3 - Send NTLMv2 authentication  only\n",
    "Level 4 - DC refuses LM authentication\n",
    "Level 5 - DC refuses LM and NTLM authenication (accepts only NTLMv2)\n",
    "\n",
    "Control over the minimum security negotiated for applications using NTLMSSP is\n",
    "through the following key\n",
    "\n",
    "* HKEY_LOCAL_MACHINE\\System\\CurrentControlSet\\control\\LSA\\MSV1_0\n",
    "\n",
    "The following values are for this key\n",
    "\n",
    "  * Value -> NtlmMinClientSec\n",
    "  * Value Type -> REG_DWORD - Number\n",
    "  * Valid Range -> the logical 'or' of any of the following values\n",
    "    * 0x00000010\n",
    "    * 0x00000020\n",
    "    * 0x00080000\n",
    "    * 0x20000000\n",
    "  * Default -> 0\n",
    "\n",
    "  * Value -> NtlmMinServerSec\n",
    "  * Value Type -> REG_DWORD - Number\n",
    "  * Valid Range -> same as NtlmMinClientSec\n",
    "  * Default -> 0\n",
    "  * Description -> This parameter specifies the minimum security to be used.\n",
    "    * 0x00000010  Message integrity\n",
    "    * 0x00000020  Message confidentiality\n",
    "    * 0x00080000  NTLMv2 session security\n",
    "    * 0x20000000  128 bit encryption"
   ]
  },
  {
   "cell_type": "markdown",
   "id": "f934fb62",
   "metadata": {},
   "source": [
    "## Offensive Tradecraft\n",
    "An adversary with administrator rights to a compromised endpoint could easily modify these settings and downgrade the challenge/response authentication protocol used for network logons and the minimum security negotiated for applications using NTLMSSP.\n",
    "This is very dangerous because it could enable NetNTLMv1 as a client on the compromised endpoit and make it authenticate to a rogue SMB server to capture the clientâ€™s response (an NTLM Hash).\n",
    "If an organization is already restricting outgoing NTLM traffic to remote servers, it can be easily disabled by modifying the following registry key Property and setting it to 0.\n",
    "  * Key -> HKLM:\\SYSTEM\\CurrentControlSet\\Control\\Lsa\\MSV1_0\n",
    "  * Property -> RestrictSendingNTLMTraffic"
   ]
  },
  {
   "cell_type": "markdown",
   "id": "49a9b9eb",
   "metadata": {},
   "source": [
    "## Security Datasets"
   ]
  },
  {
   "cell_type": "markdown",
   "id": "680b7faa",
   "metadata": {},
   "source": [
    "\n",
    "| Metadata  |    Value  |\n",
    "|:----------|:----------|\n",
    "| docs      | https://securitydatasets.com/notebooks/atomic/windows/defense_evasion/SDWIN-191225045202.html        |\n",
    "| link      | [https://raw.githubusercontent.com/OTRF/Security-Datasets/master/datasets/atomic/windows/defense_evasion/host/empire_monologue_netntlm_downgrade.zip](https://raw.githubusercontent.com/OTRF/Security-Datasets/master/datasets/atomic/windows/defense_evasion/host/empire_monologue_netntlm_downgrade.zip)  |"
   ]
  },
  {
   "cell_type": "markdown",
   "id": "235cd0a0",
   "metadata": {},
   "source": [
    "## Analytics"
   ]
  },
  {
   "cell_type": "markdown",
   "id": "126e27c4",
   "metadata": {},
   "source": [
    "### Initialize Analytics Engine"
   ]
  },
  {
   "cell_type": "code",
   "execution_count": null,
   "id": "2f7cf3c4",
   "metadata": {},
   "outputs": [],
   "source": [
    "from openhunt.mordorutils import *\n",
    "spark = get_spark()"
   ]
  },
  {
   "cell_type": "markdown",
   "id": "0c07b2d0",
   "metadata": {},
   "source": [
    "### Download & Process Security Dataset"
   ]
  },
  {
   "cell_type": "code",
   "execution_count": null,
   "id": "3557e31b",
   "metadata": {},
   "outputs": [],
   "source": [
    "sd_file = \"https://raw.githubusercontent.com/OTRF/Security-Datasets/master/datasets/atomic/windows/defense_evasion/host/empire_monologue_netntlm_downgrade.zip\"\n",
    "registerMordorSQLTable(spark, sd_file, \"sdTable\")"
   ]
  },
  {
   "cell_type": "markdown",
   "id": "6a7f33e6",
   "metadata": {},
   "source": [
    "### Analytic I\n",
    "Look for non-system accounts getting a handle and accessing \\REGISTRY\\MACHINE\\SYSTEM\\ControlSet001\\Control\\Lsa and \\REGISTRY\\MACHINE\\SYSTEM\\ControlSet001\\Control\\Lsa\\MSV1_0 registry keys from a non-lsass process"
   ]
  },
  {
   "cell_type": "markdown",
   "id": "c3320889",
   "metadata": {},
   "source": [
    "\n",
    "| Data source | Event Provider | Relationship | Event |\n",
    "|:------------|:---------------|--------------|-------|\n",
    "| Windows Registry | Microsoft-Windows-Security-Auditing | Process accessed Windows registry key | 4663 |\n",
    "| Windows Registry | Microsoft-Windows-Security-Auditing | User accessed Windows registry key | 4663 |\n",
    "| Windows Registry | Microsoft-Windows-Security-Auditing | Process requested access Windows registry key | 4656 |\n",
    "| Windows Registry | Microsoft-Windows-Security-Auditing | User requested access Windows registry key | 4656 |"
   ]
  },
  {
   "cell_type": "code",
   "execution_count": null,
   "id": "fa3a66f2",
   "metadata": {},
   "outputs": [],
   "source": [
    "df = spark.sql(\n",
    "'''\n",
    "SELECT `@timestamp`, Hostname, SubjectUserName, ProcessName, ObjectName, AccessMask, EventID, SubjectLogonId\n",
    "FROM sdTable\n",
    "WHERE LOWER(Channel) = \"security\"\n",
    "    AND EventID IN (4663, 4656)\n",
    "    AND ObjectType = 'Key'\n",
    "    AND (ObjectName LIKE \"%Lsa\" OR ObjectName LIKE \"%Lsa\\MSV1_0\")\n",
    "    AND ProcessName NOT LIKE \"%lsass.exe\"\n",
    "    AND SubjectLogonId != \"0x3e7\"\n",
    "'''\n",
    ")\n",
    "df.show(10,False)"
   ]
  },
  {
   "cell_type": "markdown",
   "id": "2d5aebb6",
   "metadata": {},
   "source": [
    "### Analytic II\n",
    "Look for processes modifying the values of the following registry key properties LMCompatibilityLevel,NtlmMinClientSec and RestrictSendingNTLMTraffic"
   ]
  },
  {
   "cell_type": "markdown",
   "id": "a50964b2",
   "metadata": {},
   "source": [
    "\n",
    "| Data source | Event Provider | Relationship | Event |\n",
    "|:------------|:---------------|--------------|-------|\n",
    "| Windows Registry | Microsoft-Windows-Security-Auditing | Process modified Windows registry key value | 4657 |"
   ]
  },
  {
   "cell_type": "code",
   "execution_count": null,
   "id": "f8c226b2",
   "metadata": {},
   "outputs": [],
   "source": [
    "df = spark.sql(\n",
    "'''\n",
    "SELECT `@timestamp`, Hostname, SubjectUserName, ProcessName, ObjectName, OldValue, NewValue, SubjectLogonId\n",
    "FROM sdTable\n",
    "WHERE LOWER(Channel) = \"security\"\n",
    "    AND EventID = 4657\n",
    "    AND ObjectValueName in (\"LMCompatibilityLevel\",\"NtlmMinClientSec\",\"RestrictSendingNTLMTraffic\")\n",
    "'''\n",
    ")\n",
    "df.show(10,False)"
   ]
  },
  {
   "cell_type": "markdown",
   "id": "1da5427d",
   "metadata": {},
   "source": [
    "### Analytic III\n",
    "Look for processes modifying the values of the following registry key properties LMCompatibilityLevel,NtlmMinClientSec and RestrictSendingNTLMTraffic"
   ]
  },
  {
   "cell_type": "markdown",
   "id": "30cf4bc4",
   "metadata": {},
   "source": [
    "\n",
    "| Data source | Event Provider | Relationship | Event |\n",
    "|:------------|:---------------|--------------|-------|\n",
    "| Windows Registry | Microsoft-Windows-Sysmon/Operational | Process modified Windows registry key value | 13 |"
   ]
  },
  {
   "cell_type": "code",
   "execution_count": null,
   "id": "e6f6f9e1",
   "metadata": {},
   "outputs": [],
   "source": [
    "df = spark.sql(\n",
    "'''\n",
    "SELECT `@timestamp`, Hostname, Image, TargetObject, Details\n",
    "FROM sdTable\n",
    "WHERE Channel = \"Microsoft-Windows-Sysmon/Operational\"\n",
    "    AND EventID = 13\n",
    "    AND (\n",
    "        TargetObject LIKE \"%LMCompatibilityLevel\" OR\n",
    "        TargetObject LIKE \"%NtlmMinClientSec\" OR\n",
    "        TargetObject LIKE \"%RestrictSendingNTLMTraffic\"\n",
    "    )\n",
    "'''\n",
    ")\n",
    "df.show(10,False)"
   ]
  },
  {
   "cell_type": "markdown",
   "id": "f9c618f3",
   "metadata": {},
   "source": [
    "## Known Bypasses"
   ]
  },
  {
   "cell_type": "markdown",
   "id": "6908bf0a",
   "metadata": {},
   "source": [
    "## False Positives\n",
    "None"
   ]
  },
  {
   "cell_type": "markdown",
   "id": "87319d01",
   "metadata": {},
   "source": [
    "## Hunter Notes\n",
    "* Make sure you have audit rules (SACL) applied to \\REGISTRY\\MACHINE\\SYSTEM\\ControlSet001\\Control\\Lsa and \\REGISTRY\\MACHINE\\SYSTEM\\ControlSet001\\Control\\Lsa\\MSV1_0\n",
    "* You can take the ProcessId of the process that performed the downgrade and explore its parents."
   ]
  },
  {
   "cell_type": "markdown",
   "id": "7316667c",
   "metadata": {},
   "source": [
    "## Hunt Output\n",
    "\n",
    "| Type | Link |\n",
    "| :----| :----|\n",
    "| Sigma Rule | [https://github.com/SigmaHQ/sigma/blob/master/rules/windows/builtin/security/win_net_ntlm_downgrade.yml](https://github.com/SigmaHQ/sigma/blob/master/rules/windows/builtin/security/win_net_ntlm_downgrade.yml) |\n",
    "| Sigma Rule | [https://github.com/SigmaHQ/sigma/blob/master/rules/windows/registry_event/registry_event_net_ntlm_downgrade.yml](https://github.com/SigmaHQ/sigma/blob/master/rules/windows/registry_event/registry_event_net_ntlm_downgrade.yml) |"
   ]
  },
  {
   "cell_type": "markdown",
   "id": "77329a9e",
   "metadata": {},
   "source": [
    "## References\n",
    "* https://shenaniganslabs.io/2019/01/14/Internal-Monologue.html\n",
    "* https://jeffpar.github.io/kbarchive/kb/147/Q147706/\n",
    "* https://docs.microsoft.com/en-us/windows/security/threat-protection/security-policy-settings/network-security-lan-manager-authentication-level\n",
    "* https://twitter.com/elad_shamir/status/975670116519063553\n",
    "* https://docs.microsoft.com/en-us/windows/security/threat-protection/security-policy-settings/network-security-restrict-ntlm-outgoing-ntlm-traffic-to-remote-servers\n",
    "* https://github.com/OTRF/Set-AuditRule/blob/master/registry/lsa.md\n",
    "* https://www.andreafortuna.org/2018/03/26/retrieving-ntlm-hashes-without-touching-lsass-the-internal-monologue-attack/\n",
    "* https://www.optiv.com/blog/post-exploitation-using-netntlm-downgrade-attacks"
   ]
  }
 ],
 "metadata": {
  "kernelspec": {
   "display_name": "PySpark_Python3",
   "language": "python",
   "name": "pyspark3"
  },
  "language_info": {
   "codemirror_mode": {
    "name": "ipython",
    "version": 3
   },
   "file_extension": ".py",
   "mimetype": "text/x-python",
   "name": "python",
   "nbconvert_exporter": "python",
   "pygments_lexer": "ipython3",
   "version": "3.7.3"
  }
 },
 "nbformat": 4,
 "nbformat_minor": 5
}
