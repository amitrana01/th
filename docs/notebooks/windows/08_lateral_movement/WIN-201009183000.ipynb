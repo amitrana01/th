{
 "cells": [
  {
   "cell_type": "markdown",
   "id": "7164a166",
   "metadata": {},
   "source": [
    "# Remote DCOM IErtUtil DLL Hijack"
   ]
  },
  {
   "cell_type": "markdown",
   "id": "438da9fb",
   "metadata": {},
   "source": [
    "## Metadata"
   ]
  },
  {
   "cell_type": "markdown",
   "id": "70d22f73",
   "metadata": {},
   "source": [
    "\n",
    "|     Metadata      |  Value  |\n",
    "|:------------------|:---|\n",
    "| collaborators     | ['@Cyb3rWard0g', '@Cyb3rPandaH'] |\n",
    "| creation date     | 2020/10/09 |\n",
    "| modification date | 2020/10/09 |\n",
    "| playbook related  | ['WIN-201012004336'] |"
   ]
  },
  {
   "cell_type": "markdown",
   "id": "dcf0e44f",
   "metadata": {},
   "source": [
    "## Hypothesis\n",
    "Threat actors might be copying files remotely to abuse a DLL hijack opportunity found on the DCOM InternetExplorer.Application Class."
   ]
  },
  {
   "cell_type": "markdown",
   "id": "59c900a6",
   "metadata": {},
   "source": [
    "## Technical Context\n"
   ]
  },
  {
   "cell_type": "markdown",
   "id": "4932132c",
   "metadata": {},
   "source": [
    "## Offensive Tradecraft\n",
    "A threat actor could use a known DLL hijack vulnerability on the DCOM InternetExplorer.Application Class while instantiating the object remotely.\n",
    "When the object instantiate, it looks for `iertutil.dll` in the `c:\\Program Files\\Internet Explorer\\` directory. That DLL does not exist in that folder. Therefore, a threat actor could easily copy its own DLL in that folder and execute it by instantiating an object via the DCOM InternetExplorer.Application Class remotely.\n",
    "When the malicious DLL is loaded, there are various approaches to hijacking execution, but most likely a threat actor would want the DLL to act as a proxy to the real DLL to minimize the chances of interrupting normal operations.\n",
    "One way to do this is by cloning the export table from one DLL to another one. One known tool that can help with it is [Koppeling](https://github.com/monoxgas/Koppeling). "
   ]
  },
  {
   "cell_type": "markdown",
   "id": "0b27e7d9",
   "metadata": {},
   "source": [
    "## Security Datasets"
   ]
  },
  {
   "cell_type": "markdown",
   "id": "0861ce21",
   "metadata": {},
   "source": [
    "\n",
    "| Metadata  |    Value  |\n",
    "|:----------|:----------|\n",
    "| docs      | https://securitydatasets.com/notebooks/atomic/windows/lateral_movement/SDWIN-201009183000.html        |\n",
    "| link      | [https://raw.githubusercontent.com/OTRF/Security-Datasets/master/datasets/atomic/windows/lateral_movement/host/covenant_dcom_iertutil_dll_hijack.zip](https://raw.githubusercontent.com/OTRF/Security-Datasets/master/datasets/atomic/windows/lateral_movement/host/covenant_dcom_iertutil_dll_hijack.zip)  |"
   ]
  },
  {
   "cell_type": "markdown",
   "id": "a15e69ea",
   "metadata": {},
   "source": [
    "## Analytics"
   ]
  },
  {
   "cell_type": "markdown",
   "id": "f192add1",
   "metadata": {},
   "source": [
    "### Initialize Analytics Engine"
   ]
  },
  {
   "cell_type": "code",
   "execution_count": null,
   "id": "4d45c9cf",
   "metadata": {},
   "outputs": [],
   "source": [
    "from openhunt.mordorutils import *\n",
    "spark = get_spark()"
   ]
  },
  {
   "cell_type": "markdown",
   "id": "4d8ce849",
   "metadata": {},
   "source": [
    "### Download & Process Security Dataset"
   ]
  },
  {
   "cell_type": "code",
   "execution_count": null,
   "id": "d305703e",
   "metadata": {},
   "outputs": [],
   "source": [
    "sd_file = \"https://raw.githubusercontent.com/OTRF/Security-Datasets/master/datasets/atomic/windows/lateral_movement/host/covenant_dcom_iertutil_dll_hijack.zip\"\n",
    "registerMordorSQLTable(spark, sd_file, \"sdTable\")"
   ]
  },
  {
   "cell_type": "markdown",
   "id": "409718db",
   "metadata": {},
   "source": [
    "### Analytic I\n",
    "Look for non-system accounts SMB accessing a `C:\\Program Files\\Internet Explorer\\iertutil.dll` with write (0x2) access mask via an administrative share (i.e C$)."
   ]
  },
  {
   "cell_type": "markdown",
   "id": "8a01aa5b",
   "metadata": {},
   "source": [
    "\n",
    "| Data source | Event Provider | Relationship | Event |\n",
    "|:------------|:---------------|--------------|-------|\n",
    "| File | Microsoft-Windows-Security-Auditing | User accessed File | 5145 |"
   ]
  },
  {
   "cell_type": "code",
   "execution_count": null,
   "id": "2eaa8876",
   "metadata": {},
   "outputs": [],
   "source": [
    "df = spark.sql(\n",
    "'''\n",
    "SELECT `@timestamp`, Hostname, ShareName, SubjectUserName, SubjectLogonId, IpAddress, IpPort, RelativeTargetName\n",
    "FROM sdTable\n",
    "WHERE LOWER(Channel) = \"security\"\n",
    "    AND EventID = 5145\n",
    "    AND RelativeTargetName LIKE '%Internet Explorer\\\\\\iertutil.dll'\n",
    "    AND NOT SubjectUserName LIKE '%$'\n",
    "    AND AccessMask = '0x2'\n",
    "'''\n",
    ")\n",
    "df.show(10,False)"
   ]
  },
  {
   "cell_type": "markdown",
   "id": "12228938",
   "metadata": {},
   "source": [
    "### Analytic II\n",
    "Look for `C:\\Program Files\\Internet Explorer\\iertutil.dll` being accessed over the network with write (0x2) access mask via an administrative share (i.e C$) and created by the System process on the target system."
   ]
  },
  {
   "cell_type": "markdown",
   "id": "17dd23f2",
   "metadata": {},
   "source": [
    "\n",
    "| Data source | Event Provider | Relationship | Event |\n",
    "|:------------|:---------------|--------------|-------|\n",
    "| File | Microsoft-Windows-Security-Auditing | User accessed File | 5145 |\n",
    "| File | Microsoft-Windows-Sysmon/Operational | Process created File | 11 |"
   ]
  },
  {
   "cell_type": "code",
   "execution_count": null,
   "id": "7b8ed7d2",
   "metadata": {},
   "outputs": [],
   "source": [
    "df = spark.sql(\n",
    "'''\n",
    "SELECT `@timestamp`, Hostname, ShareName, SubjectUserName, SubjectLogonId, IpAddress, IpPort, RelativeTargetName\n",
    "FROM sdTable b\n",
    "INNER JOIN (\n",
    "    SELECT LOWER(REVERSE(SPLIT(TargetFilename, '\\'))[0]) as TargetFilename\n",
    "    FROM sdTable\n",
    "    WHERE Channel = 'Microsoft-Windows-Sysmon/Operational'\n",
    "        AND Image = 'System'\n",
    "        AND EventID = 11\n",
    "        AND TargetFilename LIKE '%Internet Explorer\\\\\\iertutil.dll'\n",
    ") a\n",
    "ON LOWER(REVERSE(SPLIT(RelativeTargetName, '\\'))[0]) = a.TargetFilename\n",
    "WHERE LOWER(b.Channel) = 'security'\n",
    "    AND b.EventID = 5145\n",
    "    AND b.AccessMask = '0x2'\n",
    "'''\n",
    ")\n",
    "df.show(10,False)"
   ]
  },
  {
   "cell_type": "markdown",
   "id": "58f4a55b",
   "metadata": {},
   "source": [
    "### Analytic III\n",
    "Look for `C:\\Program Files\\Internet Explorer\\iertutil.dll` being accessed over the network with write (0x2) access mask via an administrative share (i.e C$) and created by the System process on the target system."
   ]
  },
  {
   "cell_type": "markdown",
   "id": "d098f80d",
   "metadata": {},
   "source": [
    "\n",
    "| Data source | Event Provider | Relationship | Event |\n",
    "|:------------|:---------------|--------------|-------|\n",
    "| File | Microsoft-Windows-Security-Auditing | User accessed File | 5145 |\n",
    "| File | Microsoft-Windows-Sysmon/Operational | Process created File | 11 |"
   ]
  },
  {
   "cell_type": "code",
   "execution_count": null,
   "id": "f50730d0",
   "metadata": {},
   "outputs": [],
   "source": [
    "df = spark.sql(\n",
    "'''\n",
    "SELECT `@timestamp`, Hostname, ShareName, SubjectUserName, SubjectLogonId, IpAddress, IpPort, RelativeTargetName\n",
    "FROM sdTable b\n",
    "INNER JOIN (\n",
    "    SELECT LOWER(REVERSE(SPLIT(TargetFilename, '\\'))[0]) as TargetFilename\n",
    "    FROM sdTable\n",
    "    WHERE Channel = 'Microsoft-Windows-Sysmon/Operational'\n",
    "        AND Image = 'System'\n",
    "        AND EventID = 11\n",
    "        AND TargetFilename LIKE '%Internet Explorer\\\\\\iertutil.dll'\n",
    ") a\n",
    "ON LOWER(REVERSE(SPLIT(RelativeTargetName, '\\'))[0]) = a.TargetFilename\n",
    "WHERE LOWER(b.Channel) = 'security'\n",
    "    AND b.EventID = 5145\n",
    "    AND b.AccessMask = '0x2'\n",
    "'''\n",
    ")\n",
    "df.show(10,False)"
   ]
  },
  {
   "cell_type": "markdown",
   "id": "9cd405d5",
   "metadata": {},
   "source": [
    "### Analytic IV\n",
    "Look for `C:\\Program Files\\Internet Explorer\\iertutil.dll` being accessed over the network with write (0x2) access mask via an administrative share (i.e C$), created by the System process and loaded by the WMI provider host (wmiprvse.exe). All happening on the target system."
   ]
  },
  {
   "cell_type": "markdown",
   "id": "3dd60496",
   "metadata": {},
   "source": [
    "\n",
    "| Data source | Event Provider | Relationship | Event |\n",
    "|:------------|:---------------|--------------|-------|\n",
    "| File | Microsoft-Windows-Security-Auditing | User accessed File | 5145 |\n",
    "| File | Microsoft-Windows-Sysmon/Operational | Process created File | 11 |\n",
    "| File | Microsoft-Windows-Sysmon/Operational | Process loaded Dll | 7 |"
   ]
  },
  {
   "cell_type": "code",
   "execution_count": null,
   "id": "a69f33fa",
   "metadata": {},
   "outputs": [],
   "source": [
    "df = spark.sql(\n",
    "'''\n",
    "SELECT `@timestamp`, Hostname, ShareName, SubjectUserName, SubjectLogonId, IpAddress, IpPort, RelativeTargetName\n",
    "FROM sdTable d\n",
    "INNER JOIN (\n",
    "    SELECT LOWER(REVERSE(SPLIT(TargetFilename, '\\'))[0]) as TargetFilename\n",
    "    FROM sdTable b\n",
    "    INNER JOIN (\n",
    "        SELECT ImageLoaded\n",
    "        FROM sdTable\n",
    "        WHERE Channel = 'Microsoft-Windows-Sysmon/Operational'\n",
    "            AND EventID = 7\n",
    "            AND LOWER(Image) LIKE '%iexplore.exe'\n",
    "            AND ImageLoaded LIKE '%Internet Explorer\\\\\\iertutil.dll'\n",
    "    ) a\n",
    "    ON b.TargetFilename = a.ImageLoaded\n",
    "    WHERE b.Channel = 'Microsoft-Windows-Sysmon/Operational'\n",
    "        AND b.Image = 'System'\n",
    "        AND b.EventID = 11\n",
    ") c\n",
    "ON LOWER(REVERSE(SPLIT(RelativeTargetName, '\\'))[0]) = c.TargetFilename\n",
    "WHERE LOWER(d.Channel) = 'security'\n",
    "    AND d.EventID = 5145\n",
    "    AND d.AccessMask = '0x2'\n",
    "'''\n",
    ")\n",
    "df.show(10,False)"
   ]
  },
  {
   "cell_type": "markdown",
   "id": "5654534b",
   "metadata": {},
   "source": [
    "## Known Bypasses"
   ]
  },
  {
   "cell_type": "markdown",
   "id": "1b79495a",
   "metadata": {},
   "source": [
    "## False Positives\n",
    "None"
   ]
  },
  {
   "cell_type": "markdown",
   "id": "ccb9e7bf",
   "metadata": {},
   "source": [
    "## Hunter Notes\n",
    "* Baseline your environment to identify normal activity. Document all accounts creating files over the network via administrative shares.\n",
    "* Baseline iexplore.exe execution and modules loaded (i.e signed and un-signed)"
   ]
  },
  {
   "cell_type": "markdown",
   "id": "17686181",
   "metadata": {},
   "source": [
    "## Hunt Output\n",
    "\n",
    "| Type | Link |\n",
    "| :----| :----|\n",
    "| Sigma Rule | [https://github.com/SigmaHQ/sigma/blob/master/rules/windows/builtin/security/win_dcom_iertutil_dll_hijack.yml](https://github.com/SigmaHQ/sigma/blob/master/rules/windows/builtin/security/win_dcom_iertutil_dll_hijack.yml) |\n",
    "| Sigma Rule | [https://github.com/SigmaHQ/sigma/blob/master/rules/windows/sysmon/sysmon_dcom_iertutil_dll_hijack.yml](https://github.com/SigmaHQ/sigma/blob/master/rules/windows/sysmon/sysmon_dcom_iertutil_dll_hijack.yml) |"
   ]
  },
  {
   "cell_type": "markdown",
   "id": "3caaa97d",
   "metadata": {},
   "source": [
    "## References\n",
    "* https://docs.microsoft.com/en-us/openspecs/windows_protocols/ms-dcom/64af4c57-5466-4fdf-9761-753ea926a494"
   ]
  }
 ],
 "metadata": {
  "kernelspec": {
   "display_name": "PySpark_Python3",
   "language": "python",
   "name": "pyspark3"
  },
  "language_info": {
   "codemirror_mode": {
    "name": "ipython",
    "version": 3
   },
   "file_extension": ".py",
   "mimetype": "text/x-python",
   "name": "python",
   "nbconvert_exporter": "python",
   "pygments_lexer": "ipython3",
   "version": "3.7.3"
  }
 },
 "nbformat": 4,
 "nbformat_minor": 5
}
