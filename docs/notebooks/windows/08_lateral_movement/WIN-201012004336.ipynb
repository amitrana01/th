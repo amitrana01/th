{
 "cells": [
  {
   "cell_type": "markdown",
   "id": "4c190957",
   "metadata": {},
   "source": [
    "# SMB Create Remote File"
   ]
  },
  {
   "cell_type": "markdown",
   "id": "0b8480d1",
   "metadata": {},
   "source": [
    "## Metadata"
   ]
  },
  {
   "cell_type": "markdown",
   "id": "a810df2e",
   "metadata": {},
   "source": [
    "\n",
    "|     Metadata      |  Value  |\n",
    "|:------------------|:---|\n",
    "| collaborators     | ['@Cyb3rWard0g', '@Cyb3rPandaH'] |\n",
    "| creation date     | 2020/10/12 |\n",
    "| modification date | 2020/10/12 |\n",
    "| playbook related  | [] |"
   ]
  },
  {
   "cell_type": "markdown",
   "id": "60e16951",
   "metadata": {},
   "source": [
    "## Hypothesis\n",
    "Adversaries might be creating a file remotely via the Server Message Block (SMB) Protocol."
   ]
  },
  {
   "cell_type": "markdown",
   "id": "29a21dc4",
   "metadata": {},
   "source": [
    "## Technical Context\n",
    "Client systems use the Common Internet File System (CIFS) Protocol to request file and print services from server systems over a network. CIFS is a stateful protocol, in which clients establish a session with a server and use that session to make a variety of requests to access files, printers, and inter-process communication (IPC) mechanisms, such as named pipes.\n",
    "The extended CIFS Protocol is known as the Server Message Block (SMB). The SMB2 CREATE Request packet is sent by a client to request either creation of or access to a file. In case of a named pipe or printer, the server MUST create a new file."
   ]
  },
  {
   "cell_type": "markdown",
   "id": "81fb3379",
   "metadata": {},
   "source": [
    "## Offensive Tradecraft\n",
    "Adversaries leverage SMB to copy files over the network to either execute code remotely or exfiltrate data."
   ]
  },
  {
   "cell_type": "markdown",
   "id": "248b2fd6",
   "metadata": {},
   "source": [
    "## Security Datasets"
   ]
  },
  {
   "cell_type": "markdown",
   "id": "d4db88a4",
   "metadata": {},
   "source": [
    "\n",
    "| Metadata  |    Value  |\n",
    "|:----------|:----------|\n",
    "| docs      | https://securitydatasets.com/notebooks/atomic/windows/lateral_movement/SDWIN-200806015757.html        |\n",
    "| link      | [https://raw.githubusercontent.com/OTRF/Security-Datasets/master/datasets/atomic/windows/lateral_movement/host/covenant_copy_smb_CreateRequest.zip](https://raw.githubusercontent.com/OTRF/Security-Datasets/master/datasets/atomic/windows/lateral_movement/host/covenant_copy_smb_CreateRequest.zip)  |"
   ]
  },
  {
   "cell_type": "markdown",
   "id": "949b984d",
   "metadata": {},
   "source": [
    "## Analytics"
   ]
  },
  {
   "cell_type": "markdown",
   "id": "2b430a16",
   "metadata": {},
   "source": [
    "### Initialize Analytics Engine"
   ]
  },
  {
   "cell_type": "code",
   "execution_count": null,
   "id": "28ced454",
   "metadata": {},
   "outputs": [],
   "source": [
    "from openhunt.mordorutils import *\n",
    "spark = get_spark()"
   ]
  },
  {
   "cell_type": "markdown",
   "id": "488fa185",
   "metadata": {},
   "source": [
    "### Download & Process Security Dataset"
   ]
  },
  {
   "cell_type": "code",
   "execution_count": null,
   "id": "4c204849",
   "metadata": {},
   "outputs": [],
   "source": [
    "sd_file = \"https://raw.githubusercontent.com/OTRF/Security-Datasets/master/datasets/atomic/windows/lateral_movement/host/covenant_copy_smb_CreateRequest.zip\"\n",
    "registerMordorSQLTable(spark, sd_file, \"sdTable\")"
   ]
  },
  {
   "cell_type": "markdown",
   "id": "f893aeeb",
   "metadata": {},
   "source": [
    "### Analytic I\n",
    "Look for non-system accounts SMB connecting (Tree Connect) to a file share that is not IPC$."
   ]
  },
  {
   "cell_type": "markdown",
   "id": "b330e529",
   "metadata": {},
   "source": [
    "\n",
    "| Data source | Event Provider | Relationship | Event |\n",
    "|:------------|:---------------|--------------|-------|\n",
    "| File | Microsoft-Windows-Security-Auditing | User accessed file share | 5140 |"
   ]
  },
  {
   "cell_type": "code",
   "execution_count": null,
   "id": "489757a6",
   "metadata": {},
   "outputs": [],
   "source": [
    "df = spark.sql(\n",
    "'''\n",
    "SELECT `@timestamp`, Hostname, ShareName, SubjectUserName, SubjectLogonId,  AccessMask\n",
    "FROM sdTable\n",
    "WHERE LOWER(Channel) = 'security'\n",
    "    AND (EventID = 5140)\n",
    "    AND NOT ShareName LIKE '%IPC$'\n",
    "    AND NOT SubjectUserName LIKE '%$'\n",
    "'''\n",
    ")\n",
    "df.show(10,False)"
   ]
  },
  {
   "cell_type": "markdown",
   "id": "f6ed8bfb",
   "metadata": {},
   "source": [
    "### Analytic II\n",
    "Look for non-system accounts SMB connecting (Tree Connect) to an IPC$ Share and administrative shares (i.e C$) with the same logon session ID."
   ]
  },
  {
   "cell_type": "markdown",
   "id": "14eddcec",
   "metadata": {},
   "source": [
    "\n",
    "| Data source | Event Provider | Relationship | Event |\n",
    "|:------------|:---------------|--------------|-------|\n",
    "| File | Microsoft-Windows-Security-Auditing | User accessed file share | 5140 |"
   ]
  },
  {
   "cell_type": "code",
   "execution_count": null,
   "id": "7930996a",
   "metadata": {},
   "outputs": [],
   "source": [
    "df = spark.sql(\n",
    "'''\n",
    "SELECT `@timestamp`, Hostname, ShareName, SubjectUserName, b.SubjectLogonId, IpAddress, IpPort\n",
    "FROM sdTable b\n",
    "INNER JOIN (\n",
    "    SELECT SubjectLogonId\n",
    "    FROM sdTable\n",
    "    WHERE LOWER(Channel) = \"security\"\n",
    "        AND EventID = 5140\n",
    "        AND ShareName LIKE '%IPC$'\n",
    "        AND NOT SubjectUserName LIKE '%$'\n",
    "    ) a\n",
    "ON b.SubjectLogonId = a.SubjectLogonId\n",
    "WHERE LOWER(b.Channel) = 'security'\n",
    "    AND b.EventID = 5140\n",
    "    AND b.ShareName LIKE '%C$'\n",
    "    AND NOT SubjectUserName LIKE '%$'\n",
    "'''\n",
    ")\n",
    "df.show(10,False)"
   ]
  },
  {
   "cell_type": "markdown",
   "id": "4d2431dd",
   "metadata": {},
   "source": [
    "### Analytic III\n",
    "Look for non-system accounts SMB accessing a file with write (0x2) access mask via administrative share (i.e C$)."
   ]
  },
  {
   "cell_type": "markdown",
   "id": "4976b789",
   "metadata": {},
   "source": [
    "\n",
    "| Data source | Event Provider | Relationship | Event |\n",
    "|:------------|:---------------|--------------|-------|\n",
    "| File | Microsoft-Windows-Security-Auditing | User accessed File | 5145 |"
   ]
  },
  {
   "cell_type": "code",
   "execution_count": null,
   "id": "75aaae04",
   "metadata": {},
   "outputs": [],
   "source": [
    "df = spark.sql(\n",
    "'''\n",
    "SELECT `@timestamp`, Hostname, ShareName, SubjectUserName, SubjectLogonId, IpAddress, IpPort, RelativeTargetName\n",
    "FROM sdTable\n",
    "WHERE LOWER(Channel) = \"security\"\n",
    "    AND EventID = 5145\n",
    "    AND ShareName LIKE '%C$'\n",
    "    AND NOT SubjectUserName LIKE '%$'\n",
    "    AND AccessMask = '0x2'\n",
    "'''\n",
    ")\n",
    "df.show(10,False)"
   ]
  },
  {
   "cell_type": "markdown",
   "id": "305e6a35",
   "metadata": {},
   "source": [
    "### Analytic IV\n",
    "Look for non-system accounts SMB connecting (Tree Connect) to an IPC$ Share and administrative shares (i.e C$) and accessing/creating a file with write (0x2) access mask with the same logon session ID."
   ]
  },
  {
   "cell_type": "markdown",
   "id": "c6fe753b",
   "metadata": {},
   "source": [
    "\n",
    "| Data source | Event Provider | Relationship | Event |\n",
    "|:------------|:---------------|--------------|-------|\n",
    "| File | Microsoft-Windows-Security-Auditing | User accessed file share | 5140 |\n",
    "| File | Microsoft-Windows-Security-Auditing | User accessed File | 5145 |"
   ]
  },
  {
   "cell_type": "code",
   "execution_count": null,
   "id": "7e350245",
   "metadata": {},
   "outputs": [],
   "source": [
    "df = spark.sql(\n",
    "'''\n",
    "SELECT `@timestamp`, Hostname, ShareName, SubjectUserName, d.SubjectLogonId, IpAddress, IpPort, RelativeTargetName\n",
    "FROM sdTable d\n",
    "INNER JOIN (\n",
    "    SELECT b.SubjectLogonId\n",
    "    FROM sdTable b\n",
    "    INNER JOIN (\n",
    "        SELECT SubjectLogonId\n",
    "        FROM sdTable\n",
    "        WHERE LOWER(Channel) = \"security\"\n",
    "            AND EventID = 5140\n",
    "            AND ShareName LIKE '%IPC$'\n",
    "            AND NOT SubjectUserName LIKE '%$'\n",
    "    ) a\n",
    "    ON b.SubjectLogonId = a.SubjectLogonId\n",
    "    WHERE LOWER(b.Channel) = 'security'\n",
    "        AND b.EventID = 5140\n",
    "        AND b.ShareName LIKE '%C$'\n",
    ") c\n",
    "ON d.SubjectLogonId = c.SubjectLogonId\n",
    "WHERE LOWER(d.Channel) = 'security'\n",
    "    AND d.EventID = 5145\n",
    "    AND d.ShareName LIKE '%C$'\n",
    "    AND d.AccessMask = '0x2'\n",
    "'''\n",
    ")\n",
    "df.show(10,False)"
   ]
  },
  {
   "cell_type": "markdown",
   "id": "d2d63eb7",
   "metadata": {},
   "source": [
    "### Analytic V\n",
    "Look for files that were accessed over the network with write (0x2) access mask via administrative shares (i.e C$) and that were created by the System process on the target system."
   ]
  },
  {
   "cell_type": "markdown",
   "id": "2cc2612c",
   "metadata": {},
   "source": [
    "\n",
    "| Data source | Event Provider | Relationship | Event |\n",
    "|:------------|:---------------|--------------|-------|\n",
    "| File | Microsoft-Windows-Security-Auditing | User accessed File | 5145 |\n",
    "| File | Microsoft-Windows-Sysmon/Operational | Process created File | 11 |"
   ]
  },
  {
   "cell_type": "code",
   "execution_count": null,
   "id": "1b563034",
   "metadata": {},
   "outputs": [],
   "source": [
    "df = spark.sql(\n",
    "'''\n",
    "SELECT `@timestamp`, Hostname, ShareName, SubjectUserName, SubjectLogonId, IpAddress, IpPort, RelativeTargetName\n",
    "FROM sdTable b\n",
    "INNER JOIN (\n",
    "    SELECT LOWER(REVERSE(SPLIT(TargetFilename, '\\'))[0]) as TargetFilename\n",
    "    FROM sdTable\n",
    "    WHERE Channel = 'Microsoft-Windows-Sysmon/Operational'\n",
    "        AND Image = 'System'\n",
    "        AND EventID = 11\n",
    ") a\n",
    "ON LOWER(REVERSE(SPLIT(RelativeTargetName, '\\'))[0]) = a.TargetFilename\n",
    "WHERE LOWER(b.Channel) = 'security'\n",
    "    AND b.EventID = 5145\n",
    "    AND b.AccessMask = '0x2'\n",
    "'''\n",
    ")\n",
    "df.show(10,False)"
   ]
  },
  {
   "cell_type": "markdown",
   "id": "2e8c1f4f",
   "metadata": {},
   "source": [
    "## Known Bypasses"
   ]
  },
  {
   "cell_type": "markdown",
   "id": "78c8c715",
   "metadata": {},
   "source": [
    "## False Positives\n",
    "None"
   ]
  },
  {
   "cell_type": "markdown",
   "id": "01625ce5",
   "metadata": {},
   "source": [
    "## Hunter Notes\n",
    "* Baseline your environment to identify normal activity. Document all accounts creating files over the network via administrative shares."
   ]
  },
  {
   "cell_type": "markdown",
   "id": "660521e8",
   "metadata": {},
   "source": [
    "## References\n",
    "* https://docs.microsoft.com/en-us/openspecs/windows_protocols/ms-smb/8341356c-ede3-4e1c-a056-3de91473bde6\n",
    "* https://docs.microsoft.com/en-us/openspecs/windows_protocols/ms-smb2/e8fb45c1-a03d-44ca-b7ae-47385cfd7997"
   ]
  }
 ],
 "metadata": {
  "kernelspec": {
   "display_name": "PySpark_Python3",
   "language": "python",
   "name": "pyspark3"
  },
  "language_info": {
   "codemirror_mode": {
    "name": "ipython",
    "version": 3
   },
   "file_extension": ".py",
   "mimetype": "text/x-python",
   "name": "python",
   "nbconvert_exporter": "python",
   "pygments_lexer": "ipython3",
   "version": "3.7.3"
  }
 },
 "nbformat": 4,
 "nbformat_minor": 5
}
